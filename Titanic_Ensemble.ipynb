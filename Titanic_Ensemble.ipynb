{
 "cells": [
  {
   "cell_type": "markdown",
   "metadata": {
    "papermill": {
     "duration": 0.071315,
     "end_time": "2021-03-06T13:24:24.739955",
     "exception": false,
     "start_time": "2021-03-06T13:24:24.668640",
     "status": "completed"
    },
    "tags": []
   },
   "source": [
    "## 1. Loading the Data"
   ]
  },
  {
   "cell_type": "code",
   "execution_count": 1,
   "metadata": {
    "execution": {
     "iopub.execute_input": "2021-03-06T13:24:24.889294Z",
     "iopub.status.busy": "2021-03-06T13:24:24.888541Z",
     "iopub.status.idle": "2021-03-06T13:24:25.664201Z",
     "shell.execute_reply": "2021-03-06T13:24:25.664835Z"
    },
    "papermill": {
     "duration": 0.855519,
     "end_time": "2021-03-06T13:24:25.665194",
     "exception": false,
     "start_time": "2021-03-06T13:24:24.809675",
     "status": "completed"
    },
    "tags": []
   },
   "outputs": [],
   "source": [
    "# Importing the necessary packages for doing the basic setup\n",
    "\n",
    "import numpy as np # linear algebra\n",
    "import pandas as pd # data preprocessing\n",
    "pd.set_option('display.max_columns', None)\n",
    "import warnings; warnings.filterwarnings('ignore')\n",
    "\n",
    "# for visualization\n",
    "%matplotlib inline  \n",
    "import matplotlib.pyplot as plt\n",
    "import seaborn as sns; sns.set()"
   ]
  },
  {
   "cell_type": "code",
   "execution_count": 3,
   "metadata": {
    "execution": {
     "iopub.execute_input": "2021-03-06T13:24:25.810966Z",
     "iopub.status.busy": "2021-03-06T13:24:25.809958Z",
     "iopub.status.idle": "2021-03-06T13:24:25.879545Z",
     "shell.execute_reply": "2021-03-06T13:24:25.880075Z"
    },
    "papermill": {
     "duration": 0.143761,
     "end_time": "2021-03-06T13:24:25.880245",
     "exception": false,
     "start_time": "2021-03-06T13:24:25.736484",
     "status": "completed"
    },
    "tags": []
   },
   "outputs": [
    {
     "data": {
      "text/html": [
       "<div>\n",
       "<style scoped>\n",
       "    .dataframe tbody tr th:only-of-type {\n",
       "        vertical-align: middle;\n",
       "    }\n",
       "\n",
       "    .dataframe tbody tr th {\n",
       "        vertical-align: top;\n",
       "    }\n",
       "\n",
       "    .dataframe thead th {\n",
       "        text-align: right;\n",
       "    }\n",
       "</style>\n",
       "<table border=\"1\" class=\"dataframe\">\n",
       "  <thead>\n",
       "    <tr style=\"text-align: right;\">\n",
       "      <th></th>\n",
       "      <th>PassengerId</th>\n",
       "      <th>Survived</th>\n",
       "      <th>Pclass</th>\n",
       "      <th>Name</th>\n",
       "      <th>Sex</th>\n",
       "      <th>Age</th>\n",
       "      <th>SibSp</th>\n",
       "      <th>Parch</th>\n",
       "      <th>Ticket</th>\n",
       "      <th>Fare</th>\n",
       "      <th>Cabin</th>\n",
       "      <th>Embarked</th>\n",
       "    </tr>\n",
       "  </thead>\n",
       "  <tbody>\n",
       "    <tr>\n",
       "      <th>0</th>\n",
       "      <td>1</td>\n",
       "      <td>0.0</td>\n",
       "      <td>3</td>\n",
       "      <td>Braund, Mr. Owen Harris</td>\n",
       "      <td>male</td>\n",
       "      <td>22.0</td>\n",
       "      <td>1</td>\n",
       "      <td>0</td>\n",
       "      <td>A/5 21171</td>\n",
       "      <td>7.2500</td>\n",
       "      <td>NaN</td>\n",
       "      <td>S</td>\n",
       "    </tr>\n",
       "    <tr>\n",
       "      <th>1</th>\n",
       "      <td>2</td>\n",
       "      <td>1.0</td>\n",
       "      <td>1</td>\n",
       "      <td>Cumings, Mrs. John Bradley (Florence Briggs Th...</td>\n",
       "      <td>female</td>\n",
       "      <td>38.0</td>\n",
       "      <td>1</td>\n",
       "      <td>0</td>\n",
       "      <td>PC 17599</td>\n",
       "      <td>71.2833</td>\n",
       "      <td>C85</td>\n",
       "      <td>C</td>\n",
       "    </tr>\n",
       "    <tr>\n",
       "      <th>2</th>\n",
       "      <td>3</td>\n",
       "      <td>1.0</td>\n",
       "      <td>3</td>\n",
       "      <td>Heikkinen, Miss. Laina</td>\n",
       "      <td>female</td>\n",
       "      <td>26.0</td>\n",
       "      <td>0</td>\n",
       "      <td>0</td>\n",
       "      <td>STON/O2. 3101282</td>\n",
       "      <td>7.9250</td>\n",
       "      <td>NaN</td>\n",
       "      <td>S</td>\n",
       "    </tr>\n",
       "    <tr>\n",
       "      <th>3</th>\n",
       "      <td>4</td>\n",
       "      <td>1.0</td>\n",
       "      <td>1</td>\n",
       "      <td>Futrelle, Mrs. Jacques Heath (Lily May Peel)</td>\n",
       "      <td>female</td>\n",
       "      <td>35.0</td>\n",
       "      <td>1</td>\n",
       "      <td>0</td>\n",
       "      <td>113803</td>\n",
       "      <td>53.1000</td>\n",
       "      <td>C123</td>\n",
       "      <td>S</td>\n",
       "    </tr>\n",
       "    <tr>\n",
       "      <th>4</th>\n",
       "      <td>5</td>\n",
       "      <td>0.0</td>\n",
       "      <td>3</td>\n",
       "      <td>Allen, Mr. William Henry</td>\n",
       "      <td>male</td>\n",
       "      <td>35.0</td>\n",
       "      <td>0</td>\n",
       "      <td>0</td>\n",
       "      <td>373450</td>\n",
       "      <td>8.0500</td>\n",
       "      <td>NaN</td>\n",
       "      <td>S</td>\n",
       "    </tr>\n",
       "  </tbody>\n",
       "</table>\n",
       "</div>"
      ],
      "text/plain": [
       "   PassengerId  Survived  Pclass  \\\n",
       "0            1       0.0       3   \n",
       "1            2       1.0       1   \n",
       "2            3       1.0       3   \n",
       "3            4       1.0       1   \n",
       "4            5       0.0       3   \n",
       "\n",
       "                                                Name     Sex   Age  SibSp  \\\n",
       "0                            Braund, Mr. Owen Harris    male  22.0      1   \n",
       "1  Cumings, Mrs. John Bradley (Florence Briggs Th...  female  38.0      1   \n",
       "2                             Heikkinen, Miss. Laina  female  26.0      0   \n",
       "3       Futrelle, Mrs. Jacques Heath (Lily May Peel)  female  35.0      1   \n",
       "4                           Allen, Mr. William Henry    male  35.0      0   \n",
       "\n",
       "   Parch            Ticket     Fare Cabin Embarked  \n",
       "0      0         A/5 21171   7.2500   NaN        S  \n",
       "1      0          PC 17599  71.2833   C85        C  \n",
       "2      0  STON/O2. 3101282   7.9250   NaN        S  \n",
       "3      0            113803  53.1000  C123        S  \n",
       "4      0            373450   8.0500   NaN        S  "
      ]
     },
     "execution_count": 3,
     "metadata": {},
     "output_type": "execute_result"
    }
   ],
   "source": [
    "train = pd.read_csv(\"train.csv\")\n",
    "test = pd.read_csv(\"test.csv\")\n",
    "data = pd.concat([train, test], axis=0, ignore_index=True)\n",
    "data.head()"
   ]
  },
  {
   "cell_type": "code",
   "execution_count": 4,
   "metadata": {
    "execution": {
     "iopub.execute_input": "2021-03-06T13:24:26.026390Z",
     "iopub.status.busy": "2021-03-06T13:24:26.025396Z",
     "iopub.status.idle": "2021-03-06T13:24:26.032692Z",
     "shell.execute_reply": "2021-03-06T13:24:26.033228Z"
    },
    "papermill": {
     "duration": 0.082047,
     "end_time": "2021-03-06T13:24:26.033394",
     "exception": false,
     "start_time": "2021-03-06T13:24:25.951347",
     "status": "completed"
    },
    "tags": []
   },
   "outputs": [
    {
     "name": "stdout",
     "output_type": "stream",
     "text": [
      "Data:  (1309, 12)\n",
      "Data:  (891, 12)\n",
      "Data:  (418, 11)\n"
     ]
    }
   ],
   "source": [
    "print(\"Data: \",data.shape)\n",
    "print(\"Data: \",train.shape)\n",
    "print(\"Data: \",test.shape)"
   ]
  },
  {
   "cell_type": "markdown",
   "metadata": {
    "papermill": {
     "duration": 0.070466,
     "end_time": "2021-03-06T13:24:26.174818",
     "exception": false,
     "start_time": "2021-03-06T13:24:26.104352",
     "status": "completed"
    },
    "tags": []
   },
   "source": [
    "## 2. Checking for Missing Values"
   ]
  },
  {
   "cell_type": "code",
   "execution_count": 5,
   "metadata": {
    "execution": {
     "iopub.execute_input": "2021-03-06T13:24:26.330951Z",
     "iopub.status.busy": "2021-03-06T13:24:26.330149Z",
     "iopub.status.idle": "2021-03-06T13:24:26.333253Z",
     "shell.execute_reply": "2021-03-06T13:24:26.333780Z"
    },
    "papermill": {
     "duration": 0.088281,
     "end_time": "2021-03-06T13:24:26.333960",
     "exception": false,
     "start_time": "2021-03-06T13:24:26.245679",
     "status": "completed"
    },
    "tags": []
   },
   "outputs": [
    {
     "data": {
      "text/plain": [
       "PassengerId       0\n",
       "Survived        418\n",
       "Pclass            0\n",
       "Name              0\n",
       "Sex               0\n",
       "Age             263\n",
       "SibSp             0\n",
       "Parch             0\n",
       "Ticket            0\n",
       "Fare              1\n",
       "Cabin          1014\n",
       "Embarked          2\n",
       "dtype: int64"
      ]
     },
     "execution_count": 5,
     "metadata": {},
     "output_type": "execute_result"
    }
   ],
   "source": [
    "# Nan values in total data\n",
    "\n",
    "data.isnull().sum()"
   ]
  },
  {
   "cell_type": "code",
   "execution_count": 6,
   "metadata": {
    "execution": {
     "iopub.execute_input": "2021-03-06T13:24:26.480065Z",
     "iopub.status.busy": "2021-03-06T13:24:26.479456Z",
     "iopub.status.idle": "2021-03-06T13:24:26.487120Z",
     "shell.execute_reply": "2021-03-06T13:24:26.487583Z"
    },
    "papermill": {
     "duration": 0.082451,
     "end_time": "2021-03-06T13:24:26.487755",
     "exception": false,
     "start_time": "2021-03-06T13:24:26.405304",
     "status": "completed"
    },
    "tags": []
   },
   "outputs": [
    {
     "data": {
      "text/plain": [
       "PassengerId      0\n",
       "Survived         0\n",
       "Pclass           0\n",
       "Name             0\n",
       "Sex              0\n",
       "Age            177\n",
       "SibSp            0\n",
       "Parch            0\n",
       "Ticket           0\n",
       "Fare             0\n",
       "Cabin          687\n",
       "Embarked         2\n",
       "dtype: int64"
      ]
     },
     "execution_count": 6,
     "metadata": {},
     "output_type": "execute_result"
    }
   ],
   "source": [
    "# Nan values in train data\n",
    "\n",
    "train.isnull().sum()"
   ]
  },
  {
   "cell_type": "code",
   "execution_count": 7,
   "metadata": {
    "execution": {
     "iopub.execute_input": "2021-03-06T13:24:26.642598Z",
     "iopub.status.busy": "2021-03-06T13:24:26.641947Z",
     "iopub.status.idle": "2021-03-06T13:24:26.645577Z",
     "shell.execute_reply": "2021-03-06T13:24:26.644985Z"
    },
    "papermill": {
     "duration": 0.086162,
     "end_time": "2021-03-06T13:24:26.645730",
     "exception": false,
     "start_time": "2021-03-06T13:24:26.559568",
     "status": "completed"
    },
    "tags": []
   },
   "outputs": [
    {
     "data": {
      "text/plain": [
       "PassengerId      0\n",
       "Pclass           0\n",
       "Name             0\n",
       "Sex              0\n",
       "Age             86\n",
       "SibSp            0\n",
       "Parch            0\n",
       "Ticket           0\n",
       "Fare             1\n",
       "Cabin          327\n",
       "Embarked         0\n",
       "dtype: int64"
      ]
     },
     "execution_count": 7,
     "metadata": {},
     "output_type": "execute_result"
    }
   ],
   "source": [
    "# Nan Values in test data\n",
    "\n",
    "test.isnull().sum()"
   ]
  },
  {
   "cell_type": "code",
   "execution_count": 8,
   "metadata": {
    "execution": {
     "iopub.execute_input": "2021-03-06T13:24:26.795665Z",
     "iopub.status.busy": "2021-03-06T13:24:26.795057Z",
     "iopub.status.idle": "2021-03-06T13:24:26.801236Z",
     "shell.execute_reply": "2021-03-06T13:24:26.801889Z"
    },
    "papermill": {
     "duration": 0.0821,
     "end_time": "2021-03-06T13:24:26.802053",
     "exception": false,
     "start_time": "2021-03-06T13:24:26.719953",
     "status": "completed"
    },
    "tags": []
   },
   "outputs": [],
   "source": [
    "# Filling the Nan values with np.nan\n",
    "\n",
    "data.fillna(np.nan, inplace=True)"
   ]
  },
  {
   "cell_type": "code",
   "execution_count": 9,
   "metadata": {
    "execution": {
     "iopub.execute_input": "2021-03-06T13:24:26.951074Z",
     "iopub.status.busy": "2021-03-06T13:24:26.950480Z",
     "iopub.status.idle": "2021-03-06T13:24:26.983474Z",
     "shell.execute_reply": "2021-03-06T13:24:26.982955Z"
    },
    "papermill": {
     "duration": 0.108809,
     "end_time": "2021-03-06T13:24:26.983623",
     "exception": false,
     "start_time": "2021-03-06T13:24:26.874814",
     "status": "completed"
    },
    "tags": []
   },
   "outputs": [
    {
     "data": {
      "text/html": [
       "<div>\n",
       "<style scoped>\n",
       "    .dataframe tbody tr th:only-of-type {\n",
       "        vertical-align: middle;\n",
       "    }\n",
       "\n",
       "    .dataframe tbody tr th {\n",
       "        vertical-align: top;\n",
       "    }\n",
       "\n",
       "    .dataframe thead th {\n",
       "        text-align: right;\n",
       "    }\n",
       "</style>\n",
       "<table border=\"1\" class=\"dataframe\">\n",
       "  <thead>\n",
       "    <tr style=\"text-align: right;\">\n",
       "      <th></th>\n",
       "      <th>PassengerId</th>\n",
       "      <th>Survived</th>\n",
       "      <th>Pclass</th>\n",
       "      <th>Age</th>\n",
       "      <th>SibSp</th>\n",
       "      <th>Parch</th>\n",
       "      <th>Fare</th>\n",
       "    </tr>\n",
       "  </thead>\n",
       "  <tbody>\n",
       "    <tr>\n",
       "      <th>count</th>\n",
       "      <td>1309.000000</td>\n",
       "      <td>891.000000</td>\n",
       "      <td>1309.000000</td>\n",
       "      <td>1046.000000</td>\n",
       "      <td>1309.000000</td>\n",
       "      <td>1309.000000</td>\n",
       "      <td>1308.000000</td>\n",
       "    </tr>\n",
       "    <tr>\n",
       "      <th>mean</th>\n",
       "      <td>655.000000</td>\n",
       "      <td>0.383838</td>\n",
       "      <td>2.294882</td>\n",
       "      <td>29.881138</td>\n",
       "      <td>0.498854</td>\n",
       "      <td>0.385027</td>\n",
       "      <td>33.295479</td>\n",
       "    </tr>\n",
       "    <tr>\n",
       "      <th>std</th>\n",
       "      <td>378.020061</td>\n",
       "      <td>0.486592</td>\n",
       "      <td>0.837836</td>\n",
       "      <td>14.413493</td>\n",
       "      <td>1.041658</td>\n",
       "      <td>0.865560</td>\n",
       "      <td>51.758668</td>\n",
       "    </tr>\n",
       "    <tr>\n",
       "      <th>min</th>\n",
       "      <td>1.000000</td>\n",
       "      <td>0.000000</td>\n",
       "      <td>1.000000</td>\n",
       "      <td>0.170000</td>\n",
       "      <td>0.000000</td>\n",
       "      <td>0.000000</td>\n",
       "      <td>0.000000</td>\n",
       "    </tr>\n",
       "    <tr>\n",
       "      <th>25%</th>\n",
       "      <td>328.000000</td>\n",
       "      <td>0.000000</td>\n",
       "      <td>2.000000</td>\n",
       "      <td>21.000000</td>\n",
       "      <td>0.000000</td>\n",
       "      <td>0.000000</td>\n",
       "      <td>7.895800</td>\n",
       "    </tr>\n",
       "    <tr>\n",
       "      <th>50%</th>\n",
       "      <td>655.000000</td>\n",
       "      <td>0.000000</td>\n",
       "      <td>3.000000</td>\n",
       "      <td>28.000000</td>\n",
       "      <td>0.000000</td>\n",
       "      <td>0.000000</td>\n",
       "      <td>14.454200</td>\n",
       "    </tr>\n",
       "    <tr>\n",
       "      <th>75%</th>\n",
       "      <td>982.000000</td>\n",
       "      <td>1.000000</td>\n",
       "      <td>3.000000</td>\n",
       "      <td>39.000000</td>\n",
       "      <td>1.000000</td>\n",
       "      <td>0.000000</td>\n",
       "      <td>31.275000</td>\n",
       "    </tr>\n",
       "    <tr>\n",
       "      <th>max</th>\n",
       "      <td>1309.000000</td>\n",
       "      <td>1.000000</td>\n",
       "      <td>3.000000</td>\n",
       "      <td>80.000000</td>\n",
       "      <td>8.000000</td>\n",
       "      <td>9.000000</td>\n",
       "      <td>512.329200</td>\n",
       "    </tr>\n",
       "  </tbody>\n",
       "</table>\n",
       "</div>"
      ],
      "text/plain": [
       "       PassengerId    Survived       Pclass          Age        SibSp  \\\n",
       "count  1309.000000  891.000000  1309.000000  1046.000000  1309.000000   \n",
       "mean    655.000000    0.383838     2.294882    29.881138     0.498854   \n",
       "std     378.020061    0.486592     0.837836    14.413493     1.041658   \n",
       "min       1.000000    0.000000     1.000000     0.170000     0.000000   \n",
       "25%     328.000000    0.000000     2.000000    21.000000     0.000000   \n",
       "50%     655.000000    0.000000     3.000000    28.000000     0.000000   \n",
       "75%     982.000000    1.000000     3.000000    39.000000     1.000000   \n",
       "max    1309.000000    1.000000     3.000000    80.000000     8.000000   \n",
       "\n",
       "             Parch         Fare  \n",
       "count  1309.000000  1308.000000  \n",
       "mean      0.385027    33.295479  \n",
       "std       0.865560    51.758668  \n",
       "min       0.000000     0.000000  \n",
       "25%       0.000000     7.895800  \n",
       "50%       0.000000    14.454200  \n",
       "75%       0.000000    31.275000  \n",
       "max       9.000000   512.329200  "
      ]
     },
     "execution_count": 9,
     "metadata": {},
     "output_type": "execute_result"
    }
   ],
   "source": [
    "# Summarizing the data\n",
    "data.describe()"
   ]
  },
  {
   "cell_type": "markdown",
   "metadata": {
    "papermill": {
     "duration": 0.073501,
     "end_time": "2021-03-06T13:24:27.131415",
     "exception": false,
     "start_time": "2021-03-06T13:24:27.057914",
     "status": "completed"
    },
    "tags": []
   },
   "source": [
    "## 3. Feature Analysis and Engineering"
   ]
  },
  {
   "cell_type": "code",
   "execution_count": 10,
   "metadata": {
    "execution": {
     "iopub.execute_input": "2021-03-06T13:24:27.286657Z",
     "iopub.status.busy": "2021-03-06T13:24:27.285988Z",
     "iopub.status.idle": "2021-03-06T13:24:27.944261Z",
     "shell.execute_reply": "2021-03-06T13:24:27.943620Z"
    },
    "papermill": {
     "duration": 0.739212,
     "end_time": "2021-03-06T13:24:27.944404",
     "exception": false,
     "start_time": "2021-03-06T13:24:27.205192",
     "status": "completed"
    },
    "tags": []
   },
   "outputs": [
    {
     "data": {
      "image/png": "[encoded data removed]",
      "text/plain": [
       "<Figure size 576x432 with 2 Axes>"
      ]
     },
     "metadata": {},
     "output_type": "display_data"
    }
   ],
   "source": [
    "plt.figure(figsize=(8,6))\n",
    "sns.heatmap(data.corr(), annot=True, cmap='RdBu');"
   ]
  },
  {
   "cell_type": "code",
   "execution_count": 11,
   "metadata": {
    "execution": {
     "iopub.execute_input": "2021-03-06T13:24:28.107298Z",
     "iopub.status.busy": "2021-03-06T13:24:28.106550Z",
     "iopub.status.idle": "2021-03-06T13:24:28.210763Z",
     "shell.execute_reply": "2021-03-06T13:24:28.211242Z"
    },
    "papermill": {
     "duration": 0.188965,
     "end_time": "2021-03-06T13:24:28.211425",
     "exception": false,
     "start_time": "2021-03-06T13:24:28.022460",
     "status": "completed"
    },
    "tags": []
   },
   "outputs": [
    {
     "name": "stdout",
     "output_type": "stream",
     "text": [
      "Shape of dataset with 3rd class passengers: 709\n",
      "Number of 3rd class cabins with no data:  693\n",
      "Total number of cabins with no data:  1014\n"
     ]
    }
   ],
   "source": [
    "print(\"Shape of dataset with 3rd class passengers:\",data[data['Pclass']==3].shape[0])\n",
    "print(\"Number of 3rd class cabins with no data: \",data[data['Pclass']==3]['Cabin'].isnull().sum())\n",
    "print(\"Total number of cabins with no data: \",data['Cabin'].isnull().sum())"
   ]
  },
  {
   "cell_type": "code",
   "execution_count": 12,
   "metadata": {
    "execution": {
     "iopub.execute_input": "2021-03-06T13:24:28.386821Z",
     "iopub.status.busy": "2021-03-06T13:24:28.379967Z",
     "iopub.status.idle": "2021-03-06T13:24:28.861587Z",
     "shell.execute_reply": "2021-03-06T13:24:28.860897Z"
    },
    "papermill": {
     "duration": 0.572429,
     "end_time": "2021-03-06T13:24:28.861738",
     "exception": false,
     "start_time": "2021-03-06T13:24:28.289309",
     "status": "completed"
    },
    "tags": []
   },
   "outputs": [
    {
     "data": {
      "image/png": "[encoded data removed]",
      "text/plain": [
       "<Figure size 504x504 with 1 Axes>"
      ]
     },
     "metadata": {},
     "output_type": "display_data"
    }
   ],
   "source": [
    "sns.factorplot('Parch', 'Survived', data=train, kind='bar', size=7);"
   ]
  },
  {
   "cell_type": "markdown",
   "metadata": {
    "papermill": {
     "duration": 0.078492,
     "end_time": "2021-03-06T13:24:29.020156",
     "exception": false,
     "start_time": "2021-03-06T13:24:28.941664",
     "status": "completed"
    },
    "tags": []
   },
   "source": [
    "If you have a parent or child of 1 or 2 numbers, you are more likely to survive. So in general, a medium sized family is more likely to survive than someone from a big family or someone who is single"
   ]
  },
  {
   "cell_type": "code",
   "execution_count": 13,
   "metadata": {
    "execution": {
     "iopub.execute_input": "2021-03-06T13:24:29.184095Z",
     "iopub.status.busy": "2021-03-06T13:24:29.183467Z",
     "iopub.status.idle": "2021-03-06T13:24:29.698092Z",
     "shell.execute_reply": "2021-03-06T13:24:29.697466Z"
    },
    "papermill": {
     "duration": 0.59961,
     "end_time": "2021-03-06T13:24:29.698234",
     "exception": false,
     "start_time": "2021-03-06T13:24:29.098624",
     "status": "completed"
    },
    "tags": []
   },
   "outputs": [
    {
     "data": {
      "image/png": "[encoded data removed]",
      "text/plain": [
       "<Figure size 504x504 with 1 Axes>"
      ]
     },
     "metadata": {},
     "output_type": "display_data"
    }
   ],
   "source": [
    "sns.factorplot('SibSp', 'Survived', data=train, kind='bar', size=7);"
   ]
  },
  {
   "cell_type": "markdown",
   "metadata": {
    "papermill": {
     "duration": 0.076748,
     "end_time": "2021-03-06T13:24:29.855311",
     "exception": false,
     "start_time": "2021-03-06T13:24:29.778563",
     "status": "completed"
    },
    "tags": []
   },
   "source": [
    "People with 0 siblings or spouse and 1 or 2 of these are most likely to survive. People with more than 2 siblings or a sibling and a spouse are less likely to survive"
   ]
  },
  {
   "cell_type": "code",
   "execution_count": 14,
   "metadata": {
    "execution": {
     "iopub.execute_input": "2021-03-06T13:24:30.016269Z",
     "iopub.status.busy": "2021-03-06T13:24:30.015660Z",
     "iopub.status.idle": "2021-03-06T13:24:30.631204Z",
     "shell.execute_reply": "2021-03-06T13:24:30.630649Z"
    },
    "papermill": {
     "duration": 0.696827,
     "end_time": "2021-03-06T13:24:30.631350",
     "exception": false,
     "start_time": "2021-03-06T13:24:29.934523",
     "status": "completed"
    },
    "tags": []
   },
   "outputs": [
    {
     "data": {
      "image/png": "[encoded data removed]",
      "text/plain": [
       "<Figure size 864x432 with 2 Axes>"
      ]
     },
     "metadata": {},
     "output_type": "display_data"
    }
   ],
   "source": [
    "sns.FacetGrid(data=train, col='Survived', size=6).map(sns.distplot, 'Age', color='r');"
   ]
  },
  {
   "cell_type": "code",
   "execution_count": 15,
   "metadata": {
    "execution": {
     "iopub.execute_input": "2021-03-06T13:24:30.795736Z",
     "iopub.status.busy": "2021-03-06T13:24:30.795093Z",
     "iopub.status.idle": "2021-03-06T13:24:30.799396Z",
     "shell.execute_reply": "2021-03-06T13:24:30.798724Z"
    },
    "papermill": {
     "duration": 0.089007,
     "end_time": "2021-03-06T13:24:30.799552",
     "exception": false,
     "start_time": "2021-03-06T13:24:30.710545",
     "status": "completed"
    },
    "tags": []
   },
   "outputs": [
    {
     "data": {
      "text/plain": [
       "1"
      ]
     },
     "execution_count": 15,
     "metadata": {},
     "output_type": "execute_result"
    }
   ],
   "source": [
    "data['Fare'].isnull().sum()"
   ]
  },
  {
   "cell_type": "code",
   "execution_count": 16,
   "metadata": {
    "execution": {
     "iopub.execute_input": "2021-03-06T13:24:30.963859Z",
     "iopub.status.busy": "2021-03-06T13:24:30.963098Z",
     "iopub.status.idle": "2021-03-06T13:24:31.312702Z",
     "shell.execute_reply": "2021-03-06T13:24:31.312077Z"
    },
    "papermill": {
     "duration": 0.433795,
     "end_time": "2021-03-06T13:24:31.312837",
     "exception": false,
     "start_time": "2021-03-06T13:24:30.879042",
     "status": "completed"
    },
    "tags": []
   },
   "outputs": [
    {
     "data": {
      "image/png": "[encoded data removed]",
      "text/plain": [
       "<Figure size 576x432 with 1 Axes>"
      ]
     },
     "metadata": {},
     "output_type": "display_data"
    }
   ],
   "source": [
    "data['Fare'].fillna(data['Fare'].mean(), inplace=True)\n",
    "plt.figure(figsize=(8,6))\n",
    "sns.distplot(train['Fare'], color='g', label='Skewness : %.2f'%(data['Fare'].skew()))\n",
    "plt.legend();"
   ]
  },
  {
   "cell_type": "code",
   "execution_count": 17,
   "metadata": {
    "execution": {
     "iopub.execute_input": "2021-03-06T13:24:31.503185Z",
     "iopub.status.busy": "2021-03-06T13:24:31.502562Z",
     "iopub.status.idle": "2021-03-06T13:24:31.788483Z",
     "shell.execute_reply": "2021-03-06T13:24:31.787606Z"
    },
    "papermill": {
     "duration": 0.393708,
     "end_time": "2021-03-06T13:24:31.788633",
     "exception": false,
     "start_time": "2021-03-06T13:24:31.394925",
     "status": "completed"
    },
    "tags": []
   },
   "outputs": [
    {
     "data": {
      "image/png": "[encoded data removed]",
      "text/plain": [
       "<Figure size 432x288 with 1 Axes>"
      ]
     },
     "metadata": {},
     "output_type": "display_data"
    }
   ],
   "source": [
    "# The fare is highly positively skewed. Therefore applying log transformation\n",
    "\n",
    "data['Fare'] = [np.log(i) if i > 0 else 0 for i in data['Fare']]\n",
    "sns.distplot(data['Fare'], label=\"Skewness : %.2f\"%(data['Fare'].skew()))\n",
    "plt.legend();"
   ]
  },
  {
   "cell_type": "code",
   "execution_count": 18,
   "metadata": {
    "execution": {
     "iopub.execute_input": "2021-03-06T13:24:31.961945Z",
     "iopub.status.busy": "2021-03-06T13:24:31.961303Z",
     "iopub.status.idle": "2021-03-06T13:24:32.168767Z",
     "shell.execute_reply": "2021-03-06T13:24:32.167869Z"
    },
    "papermill": {
     "duration": 0.296696,
     "end_time": "2021-03-06T13:24:32.168916",
     "exception": false,
     "start_time": "2021-03-06T13:24:31.872220",
     "status": "completed"
    },
    "tags": []
   },
   "outputs": [
    {
     "data": {
      "image/png": "[encoded data removed]",
      "text/plain": [
       "<Figure size 432x288 with 1 Axes>"
      ]
     },
     "metadata": {},
     "output_type": "display_data"
    }
   ],
   "source": [
    "sns.barplot(data['Sex'], data['Survived']);"
   ]
  },
  {
   "cell_type": "markdown",
   "metadata": {
    "papermill": {
     "duration": 0.082248,
     "end_time": "2021-03-06T13:24:32.333783",
     "exception": false,
     "start_time": "2021-03-06T13:24:32.251535",
     "status": "completed"
    },
    "tags": []
   },
   "source": [
    "The chances of survival is nearly four times for women than women in this case"
   ]
  },
  {
   "cell_type": "code",
   "execution_count": 19,
   "metadata": {
    "_kg_hide-input": true,
    "execution": {
     "iopub.execute_input": "2021-03-06T13:24:32.519144Z",
     "iopub.status.busy": "2021-03-06T13:24:32.518498Z",
     "iopub.status.idle": "2021-03-06T13:24:32.752898Z",
     "shell.execute_reply": "2021-03-06T13:24:32.753391Z"
    },
    "papermill": {
     "duration": 0.337748,
     "end_time": "2021-03-06T13:24:32.753621",
     "exception": false,
     "start_time": "2021-03-06T13:24:32.415873",
     "status": "completed"
    },
    "tags": []
   },
   "outputs": [
    {
     "data": {
      "image/png": "[encoded data removed]",
      "text/plain": [
       "<Figure size 432x288 with 1 Axes>"
      ]
     },
     "metadata": {},
     "output_type": "display_data"
    }
   ],
   "source": [
    "sns.distplot(data['Age'], kde=False);"
   ]
  },
  {
   "cell_type": "code",
   "execution_count": 20,
   "metadata": {
    "_kg_hide-input": true,
    "execution": {
     "iopub.execute_input": "2021-03-06T13:24:32.927821Z",
     "iopub.status.busy": "2021-03-06T13:24:32.927154Z",
     "iopub.status.idle": "2021-03-06T13:24:33.084982Z",
     "shell.execute_reply": "2021-03-06T13:24:33.085481Z"
    },
    "papermill": {
     "duration": 0.248171,
     "end_time": "2021-03-06T13:24:33.085660",
     "exception": false,
     "start_time": "2021-03-06T13:24:32.837489",
     "status": "completed"
    },
    "tags": []
   },
   "outputs": [
    {
     "data": {
      "image/png": "[encoded data removed]",
      "text/plain": [
       "<Figure size 432x288 with 1 Axes>"
      ]
     },
     "metadata": {},
     "output_type": "display_data"
    }
   ],
   "source": [
    "sns.countplot(data['Survived'], hue=data['Sex'], palette='viridis');"
   ]
  },
  {
   "cell_type": "code",
   "execution_count": 21,
   "metadata": {
    "execution": {
     "iopub.execute_input": "2021-03-06T13:24:33.259328Z",
     "iopub.status.busy": "2021-03-06T13:24:33.258372Z",
     "iopub.status.idle": "2021-03-06T13:24:33.424843Z",
     "shell.execute_reply": "2021-03-06T13:24:33.425279Z"
    },
    "papermill": {
     "duration": 0.256334,
     "end_time": "2021-03-06T13:24:33.425469",
     "exception": false,
     "start_time": "2021-03-06T13:24:33.169135",
     "status": "completed"
    },
    "tags": []
   },
   "outputs": [
    {
     "data": {
      "image/png": "[encoded data removed]",
      "text/plain": [
       "<Figure size 432x288 with 1 Axes>"
      ]
     },
     "metadata": {},
     "output_type": "display_data"
    }
   ],
   "source": [
    "sns.countplot(data['SibSp'], palette='viridis');"
   ]
  },
  {
   "cell_type": "code",
   "execution_count": 22,
   "metadata": {
    "execution": {
     "iopub.execute_input": "2021-03-06T13:24:33.600523Z",
     "iopub.status.busy": "2021-03-06T13:24:33.599552Z",
     "iopub.status.idle": "2021-03-06T13:24:33.860654Z",
     "shell.execute_reply": "2021-03-06T13:24:33.859894Z"
    },
    "papermill": {
     "duration": 0.351256,
     "end_time": "2021-03-06T13:24:33.860864",
     "exception": false,
     "start_time": "2021-03-06T13:24:33.509608",
     "status": "completed"
    },
    "tags": []
   },
   "outputs": [
    {
     "data": {
      "image/png": "[encoded data removed]",
      "text/plain": [
       "<Figure size 432x288 with 1 Axes>"
      ]
     },
     "metadata": {},
     "output_type": "display_data"
    }
   ],
   "source": [
    "sns.countplot(data['SibSp'], hue=data['Pclass']);"
   ]
  },
  {
   "cell_type": "code",
   "execution_count": 23,
   "metadata": {
    "execution": {
     "iopub.execute_input": "2021-03-06T13:24:34.050702Z",
     "iopub.status.busy": "2021-03-06T13:24:34.040886Z",
     "iopub.status.idle": "2021-03-06T13:24:34.325958Z",
     "shell.execute_reply": "2021-03-06T13:24:34.325243Z"
    },
    "papermill": {
     "duration": 0.378835,
     "end_time": "2021-03-06T13:24:34.326104",
     "exception": false,
     "start_time": "2021-03-06T13:24:33.947269",
     "status": "completed"
    },
    "tags": []
   },
   "outputs": [
    {
     "data": {
      "image/png": "[encoded data removed]",
      "text/plain": [
       "<Figure size 432x288 with 1 Axes>"
      ]
     },
     "metadata": {},
     "output_type": "display_data"
    }
   ],
   "source": [
    "sns.countplot(data['Parch']);"
   ]
  },
  {
   "cell_type": "code",
   "execution_count": 24,
   "metadata": {
    "execution": {
     "iopub.execute_input": "2021-03-06T13:24:34.527181Z",
     "iopub.status.busy": "2021-03-06T13:24:34.523093Z",
     "iopub.status.idle": "2021-03-06T13:24:34.632009Z",
     "shell.execute_reply": "2021-03-06T13:24:34.631472Z"
    },
    "papermill": {
     "duration": 0.219865,
     "end_time": "2021-03-06T13:24:34.632142",
     "exception": false,
     "start_time": "2021-03-06T13:24:34.412277",
     "status": "completed"
    },
    "tags": []
   },
   "outputs": [
    {
     "data": {
      "image/png": "[encoded data removed]",
      "text/plain": [
       "<Figure size 432x288 with 1 Axes>"
      ]
     },
     "metadata": {},
     "output_type": "display_data"
    }
   ],
   "source": [
    "# Number of people boarded from different ports\n",
    "# S -> Southampton\n",
    "# Q -> Queenstown\n",
    "# C -> Cherbourg\n",
    "\n",
    "sns.countplot(data['Embarked'], palette='viridis');"
   ]
  },
  {
   "cell_type": "markdown",
   "metadata": {
    "papermill": {
     "duration": 0.08643,
     "end_time": "2021-03-06T13:24:34.806184",
     "exception": false,
     "start_time": "2021-03-06T13:24:34.719754",
     "status": "completed"
    },
    "tags": []
   },
   "source": [
    "## Title "
   ]
  },
  {
   "cell_type": "code",
   "execution_count": 25,
   "metadata": {
    "execution": {
     "iopub.execute_input": "2021-03-06T13:24:34.992822Z",
     "iopub.status.busy": "2021-03-06T13:24:34.991813Z",
     "iopub.status.idle": "2021-03-06T13:24:34.996535Z",
     "shell.execute_reply": "2021-03-06T13:24:34.995784Z"
    },
    "papermill": {
     "duration": 0.099887,
     "end_time": "2021-03-06T13:24:34.996689",
     "exception": false,
     "start_time": "2021-03-06T13:24:34.896802",
     "status": "completed"
    },
    "tags": []
   },
   "outputs": [
    {
     "data": {
      "text/plain": [
       "0                              Braund, Mr. Owen Harris\n",
       "1    Cumings, Mrs. John Bradley (Florence Briggs Th...\n",
       "2                               Heikkinen, Miss. Laina\n",
       "3         Futrelle, Mrs. Jacques Heath (Lily May Peel)\n",
       "4                             Allen, Mr. William Henry\n",
       "Name: Name, dtype: object"
      ]
     },
     "execution_count": 25,
     "metadata": {},
     "output_type": "execute_result"
    }
   ],
   "source": [
    "data['Name'].head()"
   ]
  },
  {
   "cell_type": "markdown",
   "metadata": {
    "papermill": {
     "duration": 0.087447,
     "end_time": "2021-03-06T13:24:35.173057",
     "exception": false,
     "start_time": "2021-03-06T13:24:35.085610",
     "status": "completed"
    },
    "tags": []
   },
   "source": [
    "We can see that the title is the second word instead of the first"
   ]
  },
  {
   "cell_type": "code",
   "execution_count": 26,
   "metadata": {
    "execution": {
     "iopub.execute_input": "2021-03-06T13:24:35.356702Z",
     "iopub.status.busy": "2021-03-06T13:24:35.355862Z",
     "iopub.status.idle": "2021-03-06T13:24:35.358729Z",
     "shell.execute_reply": "2021-03-06T13:24:35.358095Z"
    },
    "papermill": {
     "duration": 0.097931,
     "end_time": "2021-03-06T13:24:35.358867",
     "exception": false,
     "start_time": "2021-03-06T13:24:35.260936",
     "status": "completed"
    },
    "tags": []
   },
   "outputs": [],
   "source": [
    "title = [i.split(',')[1].split('.')[0].strip() for i in data['Name']]\n",
    "\n",
    "data['Title'] = pd.DataFrame(title)"
   ]
  },
  {
   "cell_type": "code",
   "execution_count": 27,
   "metadata": {
    "execution": {
     "iopub.execute_input": "2021-03-06T13:24:35.541058Z",
     "iopub.status.busy": "2021-03-06T13:24:35.540168Z",
     "iopub.status.idle": "2021-03-06T13:24:35.544371Z",
     "shell.execute_reply": "2021-03-06T13:24:35.544915Z"
    },
    "papermill": {
     "duration": 0.098756,
     "end_time": "2021-03-06T13:24:35.545088",
     "exception": false,
     "start_time": "2021-03-06T13:24:35.446332",
     "status": "completed"
    },
    "tags": []
   },
   "outputs": [
    {
     "data": {
      "text/plain": [
       "Counter({'Mr': 757,\n",
       "         'Mrs': 197,\n",
       "         'Miss': 260,\n",
       "         'Master': 61,\n",
       "         'Don': 1,\n",
       "         'Rev': 8,\n",
       "         'Dr': 8,\n",
       "         'Mme': 1,\n",
       "         'Ms': 2,\n",
       "         'Major': 2,\n",
       "         'Lady': 1,\n",
       "         'Sir': 1,\n",
       "         'Mlle': 2,\n",
       "         'Col': 4,\n",
       "         'Capt': 1,\n",
       "         'the Countess': 1,\n",
       "         'Jonkheer': 1,\n",
       "         'Dona': 1})"
      ]
     },
     "execution_count": 27,
     "metadata": {},
     "output_type": "execute_result"
    }
   ],
   "source": [
    "from collections import Counter\n",
    "Counter(data['Title'])"
   ]
  },
  {
   "cell_type": "code",
   "execution_count": 28,
   "metadata": {
    "execution": {
     "iopub.execute_input": "2021-03-06T13:24:35.733782Z",
     "iopub.status.busy": "2021-03-06T13:24:35.732101Z",
     "iopub.status.idle": "2021-03-06T13:24:35.736654Z",
     "shell.execute_reply": "2021-03-06T13:24:35.736042Z"
    },
    "papermill": {
     "duration": 0.099812,
     "end_time": "2021-03-06T13:24:35.736801",
     "exception": false,
     "start_time": "2021-03-06T13:24:35.636989",
     "status": "completed"
    },
    "tags": []
   },
   "outputs": [],
   "source": [
    "uncommon = [\"Don\", \"Rev\", \"Dr\", \"Mme\", \"Major\", \"Lady\", \"Sir\", \"Col\", \"Capt\", \"the Countess\", \"Jonkheer\", \"Dona\"]\n",
    "data['Title'].replace(uncommon, 'uncommon', inplace=True)"
   ]
  },
  {
   "cell_type": "code",
   "execution_count": 29,
   "metadata": {
    "execution": {
     "iopub.execute_input": "2021-03-06T13:24:35.923359Z",
     "iopub.status.busy": "2021-03-06T13:24:35.922578Z",
     "iopub.status.idle": "2021-03-06T13:24:36.378372Z",
     "shell.execute_reply": "2021-03-06T13:24:36.377809Z"
    },
    "papermill": {
     "duration": 0.553848,
     "end_time": "2021-03-06T13:24:36.378530",
     "exception": false,
     "start_time": "2021-03-06T13:24:35.824682",
     "status": "completed"
    },
    "tags": []
   },
   "outputs": [
    {
     "data": {
      "image/png": "[encoded data removed]",
      "text/plain": [
       "<Figure size 432x432 with 1 Axes>"
      ]
     },
     "metadata": {},
     "output_type": "display_data"
    }
   ],
   "source": [
    "sns.factorplot('Title', 'Survived', data=data, kind='bar', size=6);"
   ]
  },
  {
   "cell_type": "markdown",
   "metadata": {
    "papermill": {
     "duration": 0.088913,
     "end_time": "2021-03-06T13:24:36.556962",
     "exception": false,
     "start_time": "2021-03-06T13:24:36.468049",
     "status": "completed"
    },
    "tags": []
   },
   "source": [
    "As can be seen above, having a title of 'Ms' or 'Mlle' guarantees that you survive the wreck.\n",
    "Also, males with special title has an increased chance of survival than the ones who do not have special titles"
   ]
  },
  {
   "cell_type": "code",
   "execution_count": 30,
   "metadata": {
    "execution": {
     "iopub.execute_input": "2021-03-06T13:24:36.746649Z",
     "iopub.status.busy": "2021-03-06T13:24:36.745903Z",
     "iopub.status.idle": "2021-03-06T13:24:36.749063Z",
     "shell.execute_reply": "2021-03-06T13:24:36.748421Z"
    },
    "papermill": {
     "duration": 0.102036,
     "end_time": "2021-03-06T13:24:36.749214",
     "exception": false,
     "start_time": "2021-03-06T13:24:36.647178",
     "status": "completed"
    },
    "tags": []
   },
   "outputs": [],
   "source": [
    "data['Title'] = data['Title'].map({\"Mr\": 0, \"Mrs\": 1,\n",
    "                                   \"Miss\": 1, \"Master\" : 2,\n",
    "                                   \"Ms\": 3, \"Mlle\":3, \"uncommon\":4})"
   ]
  },
  {
   "cell_type": "code",
   "execution_count": 31,
   "metadata": {
    "execution": {
     "iopub.execute_input": "2021-03-06T13:24:36.933466Z",
     "iopub.status.busy": "2021-03-06T13:24:36.932698Z",
     "iopub.status.idle": "2021-03-06T13:24:37.243779Z",
     "shell.execute_reply": "2021-03-06T13:24:37.243218Z"
    },
    "papermill": {
     "duration": 0.405614,
     "end_time": "2021-03-06T13:24:37.243923",
     "exception": false,
     "start_time": "2021-03-06T13:24:36.838309",
     "status": "completed"
    },
    "tags": []
   },
   "outputs": [
    {
     "data": {
      "image/png": "[encoded data removed]",
      "text/plain": [
       "<Figure size 432x288 with 1 Axes>"
      ]
     },
     "metadata": {},
     "output_type": "display_data"
    }
   ],
   "source": [
    "sns.barplot(\"Title\", \"Survived\", data=data);"
   ]
  },
  {
   "cell_type": "code",
   "execution_count": 32,
   "metadata": {
    "execution": {
     "iopub.execute_input": "2021-03-06T13:24:37.432018Z",
     "iopub.status.busy": "2021-03-06T13:24:37.430761Z",
     "iopub.status.idle": "2021-03-06T13:24:37.437589Z",
     "shell.execute_reply": "2021-03-06T13:24:37.438034Z"
    },
    "papermill": {
     "duration": 0.104223,
     "end_time": "2021-03-06T13:24:37.438219",
     "exception": false,
     "start_time": "2021-03-06T13:24:37.333996",
     "status": "completed"
    },
    "tags": []
   },
   "outputs": [],
   "source": [
    "data['Title'] = data['Title'].astype('category')\n",
    "data = pd.get_dummies(data, columns=['Title'], prefix='title')"
   ]
  },
  {
   "cell_type": "code",
   "execution_count": 33,
   "metadata": {
    "execution": {
     "iopub.execute_input": "2021-03-06T13:24:37.626887Z",
     "iopub.status.busy": "2021-03-06T13:24:37.625161Z",
     "iopub.status.idle": "2021-03-06T13:24:37.630383Z",
     "shell.execute_reply": "2021-03-06T13:24:37.629761Z"
    },
    "papermill": {
     "duration": 0.102252,
     "end_time": "2021-03-06T13:24:37.630553",
     "exception": false,
     "start_time": "2021-03-06T13:24:37.528301",
     "status": "completed"
    },
    "tags": []
   },
   "outputs": [],
   "source": [
    "# We do not need the 'Name' column anymore. Therefore we can drop it\n",
    "data.drop('Name', axis=1, inplace=True)"
   ]
  },
  {
   "cell_type": "markdown",
   "metadata": {
    "papermill": {
     "duration": 0.090323,
     "end_time": "2021-03-06T13:24:37.812736",
     "exception": false,
     "start_time": "2021-03-06T13:24:37.722413",
     "status": "completed"
    },
    "tags": []
   },
   "source": [
    "## Cabin"
   ]
  },
  {
   "cell_type": "code",
   "execution_count": 34,
   "metadata": {
    "execution": {
     "iopub.execute_input": "2021-03-06T13:24:38.006596Z",
     "iopub.status.busy": "2021-03-06T13:24:38.005881Z",
     "iopub.status.idle": "2021-03-06T13:24:38.018835Z",
     "shell.execute_reply": "2021-03-06T13:24:38.018060Z"
    },
    "papermill": {
     "duration": 0.113104,
     "end_time": "2021-03-06T13:24:38.019042",
     "exception": false,
     "start_time": "2021-03-06T13:24:37.905938",
     "status": "completed"
    },
    "tags": []
   },
   "outputs": [
    {
     "name": "stdout",
     "output_type": "stream",
     "text": [
      "Number of 3rd class passengers with no recorded cabin: 693\n",
      "Number of 3rd class passengers with recorded cabin: 16\n",
      "Number of 2nd class passengers with no recorded cabin: 254\n",
      "Number of 2nd class passengers with recorded cabin: 23\n",
      "Number of 1st class passengers with no recorded cabin: 67\n",
      "Number of 1st class passengers with recorded cabin: 256\n"
     ]
    }
   ],
   "source": [
    "print(\"Number of 3rd class passengers with no recorded cabin:\", data[(pd.isnull(data['Cabin'])) & (data['Pclass'] == 3)].shape[0])\n",
    "print(\"Number of 3rd class passengers with recorded cabin:\",data[(pd.notnull(data['Cabin'])) & (data['Pclass'] == 3)].shape[0])\n",
    "print(\"Number of 2nd class passengers with no recorded cabin:\", data[(pd.isnull(data['Cabin'])) & (data['Pclass'] == 2)].shape[0])\n",
    "print(\"Number of 2nd class passengers with recorded cabin:\",data[(pd.notnull(data['Cabin'])) & (data['Pclass'] == 2)].shape[0])\n",
    "print(\"Number of 1st class passengers with no recorded cabin:\", data[(pd.isnull(data['Cabin'])) & (data['Pclass'] == 1)].shape[0])\n",
    "print(\"Number of 1st class passengers with recorded cabin:\",data[(pd.notnull(data['Cabin'])) & (data['Pclass'] == 1)].shape[0])"
   ]
  },
  {
   "cell_type": "markdown",
   "metadata": {
    "papermill": {
     "duration": 0.090802,
     "end_time": "2021-03-06T13:24:38.202476",
     "exception": false,
     "start_time": "2021-03-06T13:24:38.111674",
     "status": "completed"
    },
    "tags": []
   },
   "source": [
    "### 3rd Class Passengers"
   ]
  },
  {
   "cell_type": "code",
   "execution_count": 35,
   "metadata": {
    "execution": {
     "iopub.execute_input": "2021-03-06T13:24:38.412041Z",
     "iopub.status.busy": "2021-03-06T13:24:38.411364Z",
     "iopub.status.idle": "2021-03-06T13:24:38.416412Z",
     "shell.execute_reply": "2021-03-06T13:24:38.416879Z"
    },
    "papermill": {
     "duration": 0.12336,
     "end_time": "2021-03-06T13:24:38.417049",
     "exception": false,
     "start_time": "2021-03-06T13:24:38.293689",
     "status": "completed"
    },
    "tags": []
   },
   "outputs": [
    {
     "data": {
      "text/html": [
       "<div>\n",
       "<style scoped>\n",
       "    .dataframe tbody tr th:only-of-type {\n",
       "        vertical-align: middle;\n",
       "    }\n",
       "\n",
       "    .dataframe tbody tr th {\n",
       "        vertical-align: top;\n",
       "    }\n",
       "\n",
       "    .dataframe thead th {\n",
       "        text-align: right;\n",
       "    }\n",
       "</style>\n",
       "<table border=\"1\" class=\"dataframe\">\n",
       "  <thead>\n",
       "    <tr style=\"text-align: right;\">\n",
       "      <th></th>\n",
       "      <th>PassengerId</th>\n",
       "      <th>Survived</th>\n",
       "      <th>Pclass</th>\n",
       "      <th>Sex</th>\n",
       "      <th>Age</th>\n",
       "      <th>SibSp</th>\n",
       "      <th>Parch</th>\n",
       "      <th>Ticket</th>\n",
       "      <th>Fare</th>\n",
       "      <th>Cabin</th>\n",
       "      <th>Embarked</th>\n",
       "      <th>title_0</th>\n",
       "      <th>title_1</th>\n",
       "      <th>title_2</th>\n",
       "      <th>title_3</th>\n",
       "      <th>title_4</th>\n",
       "    </tr>\n",
       "  </thead>\n",
       "  <tbody>\n",
       "    <tr>\n",
       "      <th>10</th>\n",
       "      <td>11</td>\n",
       "      <td>1.0</td>\n",
       "      <td>3</td>\n",
       "      <td>female</td>\n",
       "      <td>4.0</td>\n",
       "      <td>1</td>\n",
       "      <td>1</td>\n",
       "      <td>PP 9549</td>\n",
       "      <td>2.815409</td>\n",
       "      <td>G6</td>\n",
       "      <td>S</td>\n",
       "      <td>0</td>\n",
       "      <td>1</td>\n",
       "      <td>0</td>\n",
       "      <td>0</td>\n",
       "      <td>0</td>\n",
       "    </tr>\n",
       "    <tr>\n",
       "      <th>75</th>\n",
       "      <td>76</td>\n",
       "      <td>0.0</td>\n",
       "      <td>3</td>\n",
       "      <td>male</td>\n",
       "      <td>25.0</td>\n",
       "      <td>0</td>\n",
       "      <td>0</td>\n",
       "      <td>348123</td>\n",
       "      <td>2.034706</td>\n",
       "      <td>F G73</td>\n",
       "      <td>S</td>\n",
       "      <td>1</td>\n",
       "      <td>0</td>\n",
       "      <td>0</td>\n",
       "      <td>0</td>\n",
       "      <td>0</td>\n",
       "    </tr>\n",
       "    <tr>\n",
       "      <th>128</th>\n",
       "      <td>129</td>\n",
       "      <td>1.0</td>\n",
       "      <td>3</td>\n",
       "      <td>female</td>\n",
       "      <td>NaN</td>\n",
       "      <td>1</td>\n",
       "      <td>1</td>\n",
       "      <td>2668</td>\n",
       "      <td>3.107198</td>\n",
       "      <td>F E69</td>\n",
       "      <td>C</td>\n",
       "      <td>0</td>\n",
       "      <td>1</td>\n",
       "      <td>0</td>\n",
       "      <td>0</td>\n",
       "      <td>0</td>\n",
       "    </tr>\n",
       "    <tr>\n",
       "      <th>205</th>\n",
       "      <td>206</td>\n",
       "      <td>0.0</td>\n",
       "      <td>3</td>\n",
       "      <td>female</td>\n",
       "      <td>2.0</td>\n",
       "      <td>0</td>\n",
       "      <td>1</td>\n",
       "      <td>347054</td>\n",
       "      <td>2.347797</td>\n",
       "      <td>G6</td>\n",
       "      <td>S</td>\n",
       "      <td>0</td>\n",
       "      <td>1</td>\n",
       "      <td>0</td>\n",
       "      <td>0</td>\n",
       "      <td>0</td>\n",
       "    </tr>\n",
       "    <tr>\n",
       "      <th>251</th>\n",
       "      <td>252</td>\n",
       "      <td>0.0</td>\n",
       "      <td>3</td>\n",
       "      <td>female</td>\n",
       "      <td>29.0</td>\n",
       "      <td>1</td>\n",
       "      <td>1</td>\n",
       "      <td>347054</td>\n",
       "      <td>2.347797</td>\n",
       "      <td>G6</td>\n",
       "      <td>S</td>\n",
       "      <td>0</td>\n",
       "      <td>1</td>\n",
       "      <td>0</td>\n",
       "      <td>0</td>\n",
       "      <td>0</td>\n",
       "    </tr>\n",
       "    <tr>\n",
       "      <th>394</th>\n",
       "      <td>395</td>\n",
       "      <td>1.0</td>\n",
       "      <td>3</td>\n",
       "      <td>female</td>\n",
       "      <td>24.0</td>\n",
       "      <td>0</td>\n",
       "      <td>2</td>\n",
       "      <td>PP 9549</td>\n",
       "      <td>2.815409</td>\n",
       "      <td>G6</td>\n",
       "      <td>S</td>\n",
       "      <td>0</td>\n",
       "      <td>1</td>\n",
       "      <td>0</td>\n",
       "      <td>0</td>\n",
       "      <td>0</td>\n",
       "    </tr>\n",
       "    <tr>\n",
       "      <th>429</th>\n",
       "      <td>430</td>\n",
       "      <td>1.0</td>\n",
       "      <td>3</td>\n",
       "      <td>male</td>\n",
       "      <td>32.0</td>\n",
       "      <td>0</td>\n",
       "      <td>0</td>\n",
       "      <td>SOTON/O.Q. 392078</td>\n",
       "      <td>2.085672</td>\n",
       "      <td>E10</td>\n",
       "      <td>S</td>\n",
       "      <td>1</td>\n",
       "      <td>0</td>\n",
       "      <td>0</td>\n",
       "      <td>0</td>\n",
       "      <td>0</td>\n",
       "    </tr>\n",
       "    <tr>\n",
       "      <th>699</th>\n",
       "      <td>700</td>\n",
       "      <td>0.0</td>\n",
       "      <td>3</td>\n",
       "      <td>male</td>\n",
       "      <td>42.0</td>\n",
       "      <td>0</td>\n",
       "      <td>0</td>\n",
       "      <td>348121</td>\n",
       "      <td>2.034706</td>\n",
       "      <td>F G63</td>\n",
       "      <td>S</td>\n",
       "      <td>1</td>\n",
       "      <td>0</td>\n",
       "      <td>0</td>\n",
       "      <td>0</td>\n",
       "      <td>0</td>\n",
       "    </tr>\n",
       "    <tr>\n",
       "      <th>715</th>\n",
       "      <td>716</td>\n",
       "      <td>0.0</td>\n",
       "      <td>3</td>\n",
       "      <td>male</td>\n",
       "      <td>19.0</td>\n",
       "      <td>0</td>\n",
       "      <td>0</td>\n",
       "      <td>348124</td>\n",
       "      <td>2.034706</td>\n",
       "      <td>F G73</td>\n",
       "      <td>S</td>\n",
       "      <td>1</td>\n",
       "      <td>0</td>\n",
       "      <td>0</td>\n",
       "      <td>0</td>\n",
       "      <td>0</td>\n",
       "    </tr>\n",
       "    <tr>\n",
       "      <th>751</th>\n",
       "      <td>752</td>\n",
       "      <td>1.0</td>\n",
       "      <td>3</td>\n",
       "      <td>male</td>\n",
       "      <td>6.0</td>\n",
       "      <td>0</td>\n",
       "      <td>1</td>\n",
       "      <td>392096</td>\n",
       "      <td>2.523727</td>\n",
       "      <td>E121</td>\n",
       "      <td>S</td>\n",
       "      <td>0</td>\n",
       "      <td>0</td>\n",
       "      <td>1</td>\n",
       "      <td>0</td>\n",
       "      <td>0</td>\n",
       "    </tr>\n",
       "    <tr>\n",
       "      <th>776</th>\n",
       "      <td>777</td>\n",
       "      <td>0.0</td>\n",
       "      <td>3</td>\n",
       "      <td>male</td>\n",
       "      <td>NaN</td>\n",
       "      <td>0</td>\n",
       "      <td>0</td>\n",
       "      <td>383121</td>\n",
       "      <td>2.047693</td>\n",
       "      <td>F38</td>\n",
       "      <td>Q</td>\n",
       "      <td>1</td>\n",
       "      <td>0</td>\n",
       "      <td>0</td>\n",
       "      <td>0</td>\n",
       "      <td>0</td>\n",
       "    </tr>\n",
       "    <tr>\n",
       "      <th>823</th>\n",
       "      <td>824</td>\n",
       "      <td>1.0</td>\n",
       "      <td>3</td>\n",
       "      <td>female</td>\n",
       "      <td>27.0</td>\n",
       "      <td>0</td>\n",
       "      <td>1</td>\n",
       "      <td>392096</td>\n",
       "      <td>2.523727</td>\n",
       "      <td>E121</td>\n",
       "      <td>S</td>\n",
       "      <td>0</td>\n",
       "      <td>1</td>\n",
       "      <td>0</td>\n",
       "      <td>0</td>\n",
       "      <td>0</td>\n",
       "    </tr>\n",
       "    <tr>\n",
       "      <th>948</th>\n",
       "      <td>949</td>\n",
       "      <td>NaN</td>\n",
       "      <td>3</td>\n",
       "      <td>male</td>\n",
       "      <td>25.0</td>\n",
       "      <td>0</td>\n",
       "      <td>0</td>\n",
       "      <td>348122</td>\n",
       "      <td>2.034706</td>\n",
       "      <td>F G63</td>\n",
       "      <td>S</td>\n",
       "      <td>1</td>\n",
       "      <td>0</td>\n",
       "      <td>0</td>\n",
       "      <td>0</td>\n",
       "      <td>0</td>\n",
       "    </tr>\n",
       "    <tr>\n",
       "      <th>1008</th>\n",
       "      <td>1009</td>\n",
       "      <td>NaN</td>\n",
       "      <td>3</td>\n",
       "      <td>female</td>\n",
       "      <td>1.0</td>\n",
       "      <td>1</td>\n",
       "      <td>1</td>\n",
       "      <td>PP 9549</td>\n",
       "      <td>2.815409</td>\n",
       "      <td>G6</td>\n",
       "      <td>S</td>\n",
       "      <td>0</td>\n",
       "      <td>1</td>\n",
       "      <td>0</td>\n",
       "      <td>0</td>\n",
       "      <td>0</td>\n",
       "    </tr>\n",
       "    <tr>\n",
       "      <th>1179</th>\n",
       "      <td>1180</td>\n",
       "      <td>NaN</td>\n",
       "      <td>3</td>\n",
       "      <td>male</td>\n",
       "      <td>NaN</td>\n",
       "      <td>0</td>\n",
       "      <td>0</td>\n",
       "      <td>2655</td>\n",
       "      <td>1.978128</td>\n",
       "      <td>F E46</td>\n",
       "      <td>C</td>\n",
       "      <td>1</td>\n",
       "      <td>0</td>\n",
       "      <td>0</td>\n",
       "      <td>0</td>\n",
       "      <td>0</td>\n",
       "    </tr>\n",
       "    <tr>\n",
       "      <th>1212</th>\n",
       "      <td>1213</td>\n",
       "      <td>NaN</td>\n",
       "      <td>3</td>\n",
       "      <td>male</td>\n",
       "      <td>25.0</td>\n",
       "      <td>0</td>\n",
       "      <td>0</td>\n",
       "      <td>2654</td>\n",
       "      <td>1.978128</td>\n",
       "      <td>F E57</td>\n",
       "      <td>C</td>\n",
       "      <td>1</td>\n",
       "      <td>0</td>\n",
       "      <td>0</td>\n",
       "      <td>0</td>\n",
       "      <td>0</td>\n",
       "    </tr>\n",
       "  </tbody>\n",
       "</table>\n",
       "</div>"
      ],
      "text/plain": [
       "      PassengerId  Survived  Pclass     Sex   Age  SibSp  Parch  \\\n",
       "10             11       1.0       3  female   4.0      1      1   \n",
       "75             76       0.0       3    male  25.0      0      0   \n",
       "128           129       1.0       3  female   NaN      1      1   \n",
       "205           206       0.0       3  female   2.0      0      1   \n",
       "251           252       0.0       3  female  29.0      1      1   \n",
       "394           395       1.0       3  female  24.0      0      2   \n",
       "429           430       1.0       3    male  32.0      0      0   \n",
       "699           700       0.0       3    male  42.0      0      0   \n",
       "715           716       0.0       3    male  19.0      0      0   \n",
       "751           752       1.0       3    male   6.0      0      1   \n",
       "776           777       0.0       3    male   NaN      0      0   \n",
       "823           824       1.0       3  female  27.0      0      1   \n",
       "948           949       NaN       3    male  25.0      0      0   \n",
       "1008         1009       NaN       3  female   1.0      1      1   \n",
       "1179         1180       NaN       3    male   NaN      0      0   \n",
       "1212         1213       NaN       3    male  25.0      0      0   \n",
       "\n",
       "                 Ticket      Fare  Cabin Embarked  title_0  title_1  title_2  \\\n",
       "10              PP 9549  2.815409     G6        S        0        1        0   \n",
       "75               348123  2.034706  F G73        S        1        0        0   \n",
       "128                2668  3.107198  F E69        C        0        1        0   \n",
       "205              347054  2.347797     G6        S        0        1        0   \n",
       "251              347054  2.347797     G6        S        0        1        0   \n",
       "394             PP 9549  2.815409     G6        S        0        1        0   \n",
       "429   SOTON/O.Q. 392078  2.085672    E10        S        1        0        0   \n",
       "699              348121  2.034706  F G63        S        1        0        0   \n",
       "715              348124  2.034706  F G73        S        1        0        0   \n",
       "751              392096  2.523727   E121        S        0        0        1   \n",
       "776              383121  2.047693    F38        Q        1        0        0   \n",
       "823              392096  2.523727   E121        S        0        1        0   \n",
       "948              348122  2.034706  F G63        S        1        0        0   \n",
       "1008            PP 9549  2.815409     G6        S        0        1        0   \n",
       "1179               2655  1.978128  F E46        C        1        0        0   \n",
       "1212               2654  1.978128  F E57        C        1        0        0   \n",
       "\n",
       "      title_3  title_4  \n",
       "10          0        0  \n",
       "75          0        0  \n",
       "128         0        0  \n",
       "205         0        0  \n",
       "251         0        0  \n",
       "394         0        0  \n",
       "429         0        0  \n",
       "699         0        0  \n",
       "715         0        0  \n",
       "751         0        0  \n",
       "776         0        0  \n",
       "823         0        0  \n",
       "948         0        0  \n",
       "1008        0        0  \n",
       "1179        0        0  \n",
       "1212        0        0  "
      ]
     },
     "execution_count": 35,
     "metadata": {},
     "output_type": "execute_result"
    }
   ],
   "source": [
    "data[(pd.notnull(data['Cabin'])) & (data['Pclass'] == 3)]"
   ]
  },
  {
   "cell_type": "code",
   "execution_count": 36,
   "metadata": {
    "execution": {
     "iopub.execute_input": "2021-03-06T13:24:38.627960Z",
     "iopub.status.busy": "2021-03-06T13:24:38.626937Z",
     "iopub.status.idle": "2021-03-06T13:24:38.633384Z",
     "shell.execute_reply": "2021-03-06T13:24:38.632776Z"
    },
    "papermill": {
     "duration": 0.124907,
     "end_time": "2021-03-06T13:24:38.633560",
     "exception": false,
     "start_time": "2021-03-06T13:24:38.508653",
     "status": "completed"
    },
    "tags": []
   },
   "outputs": [
    {
     "data": {
      "text/html": [
       "<div>\n",
       "<style scoped>\n",
       "    .dataframe tbody tr th:only-of-type {\n",
       "        vertical-align: middle;\n",
       "    }\n",
       "\n",
       "    .dataframe tbody tr th {\n",
       "        vertical-align: top;\n",
       "    }\n",
       "\n",
       "    .dataframe thead th {\n",
       "        text-align: right;\n",
       "    }\n",
       "</style>\n",
       "<table border=\"1\" class=\"dataframe\">\n",
       "  <thead>\n",
       "    <tr style=\"text-align: right;\">\n",
       "      <th></th>\n",
       "      <th>PassengerId</th>\n",
       "      <th>Survived</th>\n",
       "      <th>Pclass</th>\n",
       "      <th>Sex</th>\n",
       "      <th>Age</th>\n",
       "      <th>SibSp</th>\n",
       "      <th>Parch</th>\n",
       "      <th>Ticket</th>\n",
       "      <th>Fare</th>\n",
       "      <th>Cabin</th>\n",
       "      <th>Embarked</th>\n",
       "      <th>title_0</th>\n",
       "      <th>title_1</th>\n",
       "      <th>title_2</th>\n",
       "      <th>title_3</th>\n",
       "      <th>title_4</th>\n",
       "    </tr>\n",
       "  </thead>\n",
       "  <tbody>\n",
       "    <tr>\n",
       "      <th>0</th>\n",
       "      <td>1</td>\n",
       "      <td>0.0</td>\n",
       "      <td>3</td>\n",
       "      <td>male</td>\n",
       "      <td>22.0</td>\n",
       "      <td>1</td>\n",
       "      <td>0</td>\n",
       "      <td>A/5 21171</td>\n",
       "      <td>1.981001</td>\n",
       "      <td>NaN</td>\n",
       "      <td>S</td>\n",
       "      <td>1</td>\n",
       "      <td>0</td>\n",
       "      <td>0</td>\n",
       "      <td>0</td>\n",
       "      <td>0</td>\n",
       "    </tr>\n",
       "    <tr>\n",
       "      <th>2</th>\n",
       "      <td>3</td>\n",
       "      <td>1.0</td>\n",
       "      <td>3</td>\n",
       "      <td>female</td>\n",
       "      <td>26.0</td>\n",
       "      <td>0</td>\n",
       "      <td>0</td>\n",
       "      <td>STON/O2. 3101282</td>\n",
       "      <td>2.070022</td>\n",
       "      <td>NaN</td>\n",
       "      <td>S</td>\n",
       "      <td>0</td>\n",
       "      <td>1</td>\n",
       "      <td>0</td>\n",
       "      <td>0</td>\n",
       "      <td>0</td>\n",
       "    </tr>\n",
       "    <tr>\n",
       "      <th>4</th>\n",
       "      <td>5</td>\n",
       "      <td>0.0</td>\n",
       "      <td>3</td>\n",
       "      <td>male</td>\n",
       "      <td>35.0</td>\n",
       "      <td>0</td>\n",
       "      <td>0</td>\n",
       "      <td>373450</td>\n",
       "      <td>2.085672</td>\n",
       "      <td>NaN</td>\n",
       "      <td>S</td>\n",
       "      <td>1</td>\n",
       "      <td>0</td>\n",
       "      <td>0</td>\n",
       "      <td>0</td>\n",
       "      <td>0</td>\n",
       "    </tr>\n",
       "    <tr>\n",
       "      <th>5</th>\n",
       "      <td>6</td>\n",
       "      <td>0.0</td>\n",
       "      <td>3</td>\n",
       "      <td>male</td>\n",
       "      <td>NaN</td>\n",
       "      <td>0</td>\n",
       "      <td>0</td>\n",
       "      <td>330877</td>\n",
       "      <td>2.135148</td>\n",
       "      <td>NaN</td>\n",
       "      <td>Q</td>\n",
       "      <td>1</td>\n",
       "      <td>0</td>\n",
       "      <td>0</td>\n",
       "      <td>0</td>\n",
       "      <td>0</td>\n",
       "    </tr>\n",
       "    <tr>\n",
       "      <th>7</th>\n",
       "      <td>8</td>\n",
       "      <td>0.0</td>\n",
       "      <td>3</td>\n",
       "      <td>male</td>\n",
       "      <td>2.0</td>\n",
       "      <td>3</td>\n",
       "      <td>1</td>\n",
       "      <td>349909</td>\n",
       "      <td>3.048088</td>\n",
       "      <td>NaN</td>\n",
       "      <td>S</td>\n",
       "      <td>0</td>\n",
       "      <td>0</td>\n",
       "      <td>1</td>\n",
       "      <td>0</td>\n",
       "      <td>0</td>\n",
       "    </tr>\n",
       "  </tbody>\n",
       "</table>\n",
       "</div>"
      ],
      "text/plain": [
       "   PassengerId  Survived  Pclass     Sex   Age  SibSp  Parch  \\\n",
       "0            1       0.0       3    male  22.0      1      0   \n",
       "2            3       1.0       3  female  26.0      0      0   \n",
       "4            5       0.0       3    male  35.0      0      0   \n",
       "5            6       0.0       3    male   NaN      0      0   \n",
       "7            8       0.0       3    male   2.0      3      1   \n",
       "\n",
       "             Ticket      Fare Cabin Embarked  title_0  title_1  title_2  \\\n",
       "0         A/5 21171  1.981001   NaN        S        1        0        0   \n",
       "2  STON/O2. 3101282  2.070022   NaN        S        0        1        0   \n",
       "4            373450  2.085672   NaN        S        1        0        0   \n",
       "5            330877  2.135148   NaN        Q        1        0        0   \n",
       "7            349909  3.048088   NaN        S        0        0        1   \n",
       "\n",
       "   title_3  title_4  \n",
       "0        0        0  \n",
       "2        0        0  \n",
       "4        0        0  \n",
       "5        0        0  \n",
       "7        0        0  "
      ]
     },
     "execution_count": 36,
     "metadata": {},
     "output_type": "execute_result"
    }
   ],
   "source": [
    "data[(pd.isnull(data['Cabin'])) & (data['Pclass'] == 3)].head()"
   ]
  },
  {
   "cell_type": "markdown",
   "metadata": {
    "papermill": {
     "duration": 0.094973,
     "end_time": "2021-03-06T13:24:38.838380",
     "exception": false,
     "start_time": "2021-03-06T13:24:38.743407",
     "status": "completed"
    },
    "tags": []
   },
   "source": [
    "### 2nd Class Passengers"
   ]
  },
  {
   "cell_type": "code",
   "execution_count": 37,
   "metadata": {
    "execution": {
     "iopub.execute_input": "2021-03-06T13:24:39.045353Z",
     "iopub.status.busy": "2021-03-06T13:24:39.037134Z",
     "iopub.status.idle": "2021-03-06T13:24:39.062706Z",
     "shell.execute_reply": "2021-03-06T13:24:39.061800Z"
    },
    "papermill": {
     "duration": 0.131111,
     "end_time": "2021-03-06T13:24:39.062925",
     "exception": false,
     "start_time": "2021-03-06T13:24:38.931814",
     "status": "completed"
    },
    "tags": []
   },
   "outputs": [
    {
     "data": {
      "text/html": [
       "<div>\n",
       "<style scoped>\n",
       "    .dataframe tbody tr th:only-of-type {\n",
       "        vertical-align: middle;\n",
       "    }\n",
       "\n",
       "    .dataframe tbody tr th {\n",
       "        vertical-align: top;\n",
       "    }\n",
       "\n",
       "    .dataframe thead th {\n",
       "        text-align: right;\n",
       "    }\n",
       "</style>\n",
       "<table border=\"1\" class=\"dataframe\">\n",
       "  <thead>\n",
       "    <tr style=\"text-align: right;\">\n",
       "      <th></th>\n",
       "      <th>PassengerId</th>\n",
       "      <th>Survived</th>\n",
       "      <th>Pclass</th>\n",
       "      <th>Sex</th>\n",
       "      <th>Age</th>\n",
       "      <th>SibSp</th>\n",
       "      <th>Parch</th>\n",
       "      <th>Ticket</th>\n",
       "      <th>Fare</th>\n",
       "      <th>Cabin</th>\n",
       "      <th>Embarked</th>\n",
       "      <th>title_0</th>\n",
       "      <th>title_1</th>\n",
       "      <th>title_2</th>\n",
       "      <th>title_3</th>\n",
       "      <th>title_4</th>\n",
       "    </tr>\n",
       "  </thead>\n",
       "  <tbody>\n",
       "    <tr>\n",
       "      <th>9</th>\n",
       "      <td>10</td>\n",
       "      <td>1.0</td>\n",
       "      <td>2</td>\n",
       "      <td>female</td>\n",
       "      <td>14.0</td>\n",
       "      <td>1</td>\n",
       "      <td>0</td>\n",
       "      <td>237736</td>\n",
       "      <td>3.403555</td>\n",
       "      <td>NaN</td>\n",
       "      <td>C</td>\n",
       "      <td>0</td>\n",
       "      <td>1</td>\n",
       "      <td>0</td>\n",
       "      <td>0</td>\n",
       "      <td>0</td>\n",
       "    </tr>\n",
       "    <tr>\n",
       "      <th>15</th>\n",
       "      <td>16</td>\n",
       "      <td>1.0</td>\n",
       "      <td>2</td>\n",
       "      <td>female</td>\n",
       "      <td>55.0</td>\n",
       "      <td>0</td>\n",
       "      <td>0</td>\n",
       "      <td>248706</td>\n",
       "      <td>2.772589</td>\n",
       "      <td>NaN</td>\n",
       "      <td>S</td>\n",
       "      <td>0</td>\n",
       "      <td>1</td>\n",
       "      <td>0</td>\n",
       "      <td>0</td>\n",
       "      <td>0</td>\n",
       "    </tr>\n",
       "    <tr>\n",
       "      <th>17</th>\n",
       "      <td>18</td>\n",
       "      <td>1.0</td>\n",
       "      <td>2</td>\n",
       "      <td>male</td>\n",
       "      <td>NaN</td>\n",
       "      <td>0</td>\n",
       "      <td>0</td>\n",
       "      <td>244373</td>\n",
       "      <td>2.564949</td>\n",
       "      <td>NaN</td>\n",
       "      <td>S</td>\n",
       "      <td>1</td>\n",
       "      <td>0</td>\n",
       "      <td>0</td>\n",
       "      <td>0</td>\n",
       "      <td>0</td>\n",
       "    </tr>\n",
       "    <tr>\n",
       "      <th>20</th>\n",
       "      <td>21</td>\n",
       "      <td>0.0</td>\n",
       "      <td>2</td>\n",
       "      <td>male</td>\n",
       "      <td>35.0</td>\n",
       "      <td>0</td>\n",
       "      <td>0</td>\n",
       "      <td>239865</td>\n",
       "      <td>3.258097</td>\n",
       "      <td>NaN</td>\n",
       "      <td>S</td>\n",
       "      <td>1</td>\n",
       "      <td>0</td>\n",
       "      <td>0</td>\n",
       "      <td>0</td>\n",
       "      <td>0</td>\n",
       "    </tr>\n",
       "    <tr>\n",
       "      <th>33</th>\n",
       "      <td>34</td>\n",
       "      <td>0.0</td>\n",
       "      <td>2</td>\n",
       "      <td>male</td>\n",
       "      <td>66.0</td>\n",
       "      <td>0</td>\n",
       "      <td>0</td>\n",
       "      <td>C.A. 24579</td>\n",
       "      <td>2.351375</td>\n",
       "      <td>NaN</td>\n",
       "      <td>S</td>\n",
       "      <td>1</td>\n",
       "      <td>0</td>\n",
       "      <td>0</td>\n",
       "      <td>0</td>\n",
       "      <td>0</td>\n",
       "    </tr>\n",
       "    <tr>\n",
       "      <th>...</th>\n",
       "      <td>...</td>\n",
       "      <td>...</td>\n",
       "      <td>...</td>\n",
       "      <td>...</td>\n",
       "      <td>...</td>\n",
       "      <td>...</td>\n",
       "      <td>...</td>\n",
       "      <td>...</td>\n",
       "      <td>...</td>\n",
       "      <td>...</td>\n",
       "      <td>...</td>\n",
       "      <td>...</td>\n",
       "      <td>...</td>\n",
       "      <td>...</td>\n",
       "      <td>...</td>\n",
       "      <td>...</td>\n",
       "    </tr>\n",
       "    <tr>\n",
       "      <th>1276</th>\n",
       "      <td>1277</td>\n",
       "      <td>NaN</td>\n",
       "      <td>2</td>\n",
       "      <td>female</td>\n",
       "      <td>24.0</td>\n",
       "      <td>1</td>\n",
       "      <td>2</td>\n",
       "      <td>220845</td>\n",
       "      <td>4.174387</td>\n",
       "      <td>NaN</td>\n",
       "      <td>S</td>\n",
       "      <td>0</td>\n",
       "      <td>1</td>\n",
       "      <td>0</td>\n",
       "      <td>0</td>\n",
       "      <td>0</td>\n",
       "    </tr>\n",
       "    <tr>\n",
       "      <th>1278</th>\n",
       "      <td>1279</td>\n",
       "      <td>NaN</td>\n",
       "      <td>2</td>\n",
       "      <td>male</td>\n",
       "      <td>57.0</td>\n",
       "      <td>0</td>\n",
       "      <td>0</td>\n",
       "      <td>244346</td>\n",
       "      <td>2.564949</td>\n",
       "      <td>NaN</td>\n",
       "      <td>S</td>\n",
       "      <td>1</td>\n",
       "      <td>0</td>\n",
       "      <td>0</td>\n",
       "      <td>0</td>\n",
       "      <td>0</td>\n",
       "    </tr>\n",
       "    <tr>\n",
       "      <th>1284</th>\n",
       "      <td>1285</td>\n",
       "      <td>NaN</td>\n",
       "      <td>2</td>\n",
       "      <td>male</td>\n",
       "      <td>47.0</td>\n",
       "      <td>0</td>\n",
       "      <td>0</td>\n",
       "      <td>C.A. 30769</td>\n",
       "      <td>2.351375</td>\n",
       "      <td>NaN</td>\n",
       "      <td>S</td>\n",
       "      <td>1</td>\n",
       "      <td>0</td>\n",
       "      <td>0</td>\n",
       "      <td>0</td>\n",
       "      <td>0</td>\n",
       "    </tr>\n",
       "    <tr>\n",
       "      <th>1292</th>\n",
       "      <td>1293</td>\n",
       "      <td>NaN</td>\n",
       "      <td>2</td>\n",
       "      <td>male</td>\n",
       "      <td>38.0</td>\n",
       "      <td>1</td>\n",
       "      <td>0</td>\n",
       "      <td>28664</td>\n",
       "      <td>3.044522</td>\n",
       "      <td>NaN</td>\n",
       "      <td>S</td>\n",
       "      <td>1</td>\n",
       "      <td>0</td>\n",
       "      <td>0</td>\n",
       "      <td>0</td>\n",
       "      <td>0</td>\n",
       "    </tr>\n",
       "    <tr>\n",
       "      <th>1297</th>\n",
       "      <td>1298</td>\n",
       "      <td>NaN</td>\n",
       "      <td>2</td>\n",
       "      <td>male</td>\n",
       "      <td>23.0</td>\n",
       "      <td>1</td>\n",
       "      <td>0</td>\n",
       "      <td>28666</td>\n",
       "      <td>2.351375</td>\n",
       "      <td>NaN</td>\n",
       "      <td>S</td>\n",
       "      <td>1</td>\n",
       "      <td>0</td>\n",
       "      <td>0</td>\n",
       "      <td>0</td>\n",
       "      <td>0</td>\n",
       "    </tr>\n",
       "  </tbody>\n",
       "</table>\n",
       "<p>254 rows × 16 columns</p>\n",
       "</div>"
      ],
      "text/plain": [
       "      PassengerId  Survived  Pclass     Sex   Age  SibSp  Parch      Ticket  \\\n",
       "9              10       1.0       2  female  14.0      1      0      237736   \n",
       "15             16       1.0       2  female  55.0      0      0      248706   \n",
       "17             18       1.0       2    male   NaN      0      0      244373   \n",
       "20             21       0.0       2    male  35.0      0      0      239865   \n",
       "33             34       0.0       2    male  66.0      0      0  C.A. 24579   \n",
       "...           ...       ...     ...     ...   ...    ...    ...         ...   \n",
       "1276         1277       NaN       2  female  24.0      1      2      220845   \n",
       "1278         1279       NaN       2    male  57.0      0      0      244346   \n",
       "1284         1285       NaN       2    male  47.0      0      0  C.A. 30769   \n",
       "1292         1293       NaN       2    male  38.0      1      0       28664   \n",
       "1297         1298       NaN       2    male  23.0      1      0       28666   \n",
       "\n",
       "          Fare Cabin Embarked  title_0  title_1  title_2  title_3  title_4  \n",
       "9     3.403555   NaN        C        0        1        0        0        0  \n",
       "15    2.772589   NaN        S        0        1        0        0        0  \n",
       "17    2.564949   NaN        S        1        0        0        0        0  \n",
       "20    3.258097   NaN        S        1        0        0        0        0  \n",
       "33    2.351375   NaN        S        1        0        0        0        0  \n",
       "...        ...   ...      ...      ...      ...      ...      ...      ...  \n",
       "1276  4.174387   NaN        S        0        1        0        0        0  \n",
       "1278  2.564949   NaN        S        1        0        0        0        0  \n",
       "1284  2.351375   NaN        S        1        0        0        0        0  \n",
       "1292  3.044522   NaN        S        1        0        0        0        0  \n",
       "1297  2.351375   NaN        S        1        0        0        0        0  \n",
       "\n",
       "[254 rows x 16 columns]"
      ]
     },
     "execution_count": 37,
     "metadata": {},
     "output_type": "execute_result"
    }
   ],
   "source": [
    "data[(pd.isnull(data['Cabin'])) & (data['Pclass'] == 2)]"
   ]
  },
  {
   "cell_type": "code",
   "execution_count": 38,
   "metadata": {
    "execution": {
     "iopub.execute_input": "2021-03-06T13:24:39.273723Z",
     "iopub.status.busy": "2021-03-06T13:24:39.273068Z",
     "iopub.status.idle": "2021-03-06T13:24:39.276963Z",
     "shell.execute_reply": "2021-03-06T13:24:39.277508Z"
    },
    "papermill": {
     "duration": 0.118734,
     "end_time": "2021-03-06T13:24:39.277682",
     "exception": false,
     "start_time": "2021-03-06T13:24:39.158948",
     "status": "completed"
    },
    "tags": []
   },
   "outputs": [
    {
     "data": {
      "text/html": [
       "<div>\n",
       "<style scoped>\n",
       "    .dataframe tbody tr th:only-of-type {\n",
       "        vertical-align: middle;\n",
       "    }\n",
       "\n",
       "    .dataframe tbody tr th {\n",
       "        vertical-align: top;\n",
       "    }\n",
       "\n",
       "    .dataframe thead th {\n",
       "        text-align: right;\n",
       "    }\n",
       "</style>\n",
       "<table border=\"1\" class=\"dataframe\">\n",
       "  <thead>\n",
       "    <tr style=\"text-align: right;\">\n",
       "      <th></th>\n",
       "      <th>PassengerId</th>\n",
       "      <th>Survived</th>\n",
       "      <th>Pclass</th>\n",
       "      <th>Sex</th>\n",
       "      <th>Age</th>\n",
       "      <th>SibSp</th>\n",
       "      <th>Parch</th>\n",
       "      <th>Ticket</th>\n",
       "      <th>Fare</th>\n",
       "      <th>Cabin</th>\n",
       "      <th>Embarked</th>\n",
       "      <th>title_0</th>\n",
       "      <th>title_1</th>\n",
       "      <th>title_2</th>\n",
       "      <th>title_3</th>\n",
       "      <th>title_4</th>\n",
       "    </tr>\n",
       "  </thead>\n",
       "  <tbody>\n",
       "    <tr>\n",
       "      <th>21</th>\n",
       "      <td>22</td>\n",
       "      <td>1.0</td>\n",
       "      <td>2</td>\n",
       "      <td>male</td>\n",
       "      <td>34.0</td>\n",
       "      <td>0</td>\n",
       "      <td>0</td>\n",
       "      <td>248698</td>\n",
       "      <td>2.564949</td>\n",
       "      <td>D56</td>\n",
       "      <td>S</td>\n",
       "      <td>1</td>\n",
       "      <td>0</td>\n",
       "      <td>0</td>\n",
       "      <td>0</td>\n",
       "      <td>0</td>\n",
       "    </tr>\n",
       "    <tr>\n",
       "      <th>66</th>\n",
       "      <td>67</td>\n",
       "      <td>1.0</td>\n",
       "      <td>2</td>\n",
       "      <td>female</td>\n",
       "      <td>29.0</td>\n",
       "      <td>0</td>\n",
       "      <td>0</td>\n",
       "      <td>C.A. 29395</td>\n",
       "      <td>2.351375</td>\n",
       "      <td>F33</td>\n",
       "      <td>S</td>\n",
       "      <td>0</td>\n",
       "      <td>1</td>\n",
       "      <td>0</td>\n",
       "      <td>0</td>\n",
       "      <td>0</td>\n",
       "    </tr>\n",
       "    <tr>\n",
       "      <th>123</th>\n",
       "      <td>124</td>\n",
       "      <td>1.0</td>\n",
       "      <td>2</td>\n",
       "      <td>female</td>\n",
       "      <td>32.5</td>\n",
       "      <td>0</td>\n",
       "      <td>0</td>\n",
       "      <td>27267</td>\n",
       "      <td>2.564949</td>\n",
       "      <td>E101</td>\n",
       "      <td>S</td>\n",
       "      <td>0</td>\n",
       "      <td>1</td>\n",
       "      <td>0</td>\n",
       "      <td>0</td>\n",
       "      <td>0</td>\n",
       "    </tr>\n",
       "    <tr>\n",
       "      <th>148</th>\n",
       "      <td>149</td>\n",
       "      <td>0.0</td>\n",
       "      <td>2</td>\n",
       "      <td>male</td>\n",
       "      <td>36.5</td>\n",
       "      <td>0</td>\n",
       "      <td>2</td>\n",
       "      <td>230080</td>\n",
       "      <td>3.258097</td>\n",
       "      <td>F2</td>\n",
       "      <td>S</td>\n",
       "      <td>1</td>\n",
       "      <td>0</td>\n",
       "      <td>0</td>\n",
       "      <td>0</td>\n",
       "      <td>0</td>\n",
       "    </tr>\n",
       "    <tr>\n",
       "      <th>183</th>\n",
       "      <td>184</td>\n",
       "      <td>1.0</td>\n",
       "      <td>2</td>\n",
       "      <td>male</td>\n",
       "      <td>1.0</td>\n",
       "      <td>2</td>\n",
       "      <td>1</td>\n",
       "      <td>230136</td>\n",
       "      <td>3.663562</td>\n",
       "      <td>F4</td>\n",
       "      <td>S</td>\n",
       "      <td>0</td>\n",
       "      <td>0</td>\n",
       "      <td>1</td>\n",
       "      <td>0</td>\n",
       "      <td>0</td>\n",
       "    </tr>\n",
       "  </tbody>\n",
       "</table>\n",
       "</div>"
      ],
      "text/plain": [
       "     PassengerId  Survived  Pclass     Sex   Age  SibSp  Parch      Ticket  \\\n",
       "21            22       1.0       2    male  34.0      0      0      248698   \n",
       "66            67       1.0       2  female  29.0      0      0  C.A. 29395   \n",
       "123          124       1.0       2  female  32.5      0      0       27267   \n",
       "148          149       0.0       2    male  36.5      0      2      230080   \n",
       "183          184       1.0       2    male   1.0      2      1      230136   \n",
       "\n",
       "         Fare Cabin Embarked  title_0  title_1  title_2  title_3  title_4  \n",
       "21   2.564949   D56        S        1        0        0        0        0  \n",
       "66   2.351375   F33        S        0        1        0        0        0  \n",
       "123  2.564949  E101        S        0        1        0        0        0  \n",
       "148  3.258097    F2        S        1        0        0        0        0  \n",
       "183  3.663562    F4        S        0        0        1        0        0  "
      ]
     },
     "execution_count": 38,
     "metadata": {},
     "output_type": "execute_result"
    }
   ],
   "source": [
    "data[(pd.notnull(data['Cabin'])) & (data['Pclass'] == 2)].head()"
   ]
  },
  {
   "cell_type": "markdown",
   "metadata": {
    "papermill": {
     "duration": 0.093402,
     "end_time": "2021-03-06T13:24:39.464876",
     "exception": false,
     "start_time": "2021-03-06T13:24:39.371474",
     "status": "completed"
    },
    "tags": []
   },
   "source": [
    "### 1st Class Passengers"
   ]
  },
  {
   "cell_type": "code",
   "execution_count": 39,
   "metadata": {
    "execution": {
     "iopub.execute_input": "2021-03-06T13:24:39.675626Z",
     "iopub.status.busy": "2021-03-06T13:24:39.667949Z",
     "iopub.status.idle": "2021-03-06T13:24:39.680343Z",
     "shell.execute_reply": "2021-03-06T13:24:39.679834Z"
    },
    "papermill": {
     "duration": 0.122118,
     "end_time": "2021-03-06T13:24:39.680500",
     "exception": false,
     "start_time": "2021-03-06T13:24:39.558382",
     "status": "completed"
    },
    "tags": []
   },
   "outputs": [
    {
     "name": "stdout",
     "output_type": "stream",
     "text": [
      "67\n"
     ]
    },
    {
     "data": {
      "text/html": [
       "<div>\n",
       "<style scoped>\n",
       "    .dataframe tbody tr th:only-of-type {\n",
       "        vertical-align: middle;\n",
       "    }\n",
       "\n",
       "    .dataframe tbody tr th {\n",
       "        vertical-align: top;\n",
       "    }\n",
       "\n",
       "    .dataframe thead th {\n",
       "        text-align: right;\n",
       "    }\n",
       "</style>\n",
       "<table border=\"1\" class=\"dataframe\">\n",
       "  <thead>\n",
       "    <tr style=\"text-align: right;\">\n",
       "      <th></th>\n",
       "      <th>PassengerId</th>\n",
       "      <th>Survived</th>\n",
       "      <th>Pclass</th>\n",
       "      <th>Sex</th>\n",
       "      <th>Age</th>\n",
       "      <th>SibSp</th>\n",
       "      <th>Parch</th>\n",
       "      <th>Ticket</th>\n",
       "      <th>Fare</th>\n",
       "      <th>Cabin</th>\n",
       "      <th>Embarked</th>\n",
       "      <th>title_0</th>\n",
       "      <th>title_1</th>\n",
       "      <th>title_2</th>\n",
       "      <th>title_3</th>\n",
       "      <th>title_4</th>\n",
       "    </tr>\n",
       "  </thead>\n",
       "  <tbody>\n",
       "    <tr>\n",
       "      <th>30</th>\n",
       "      <td>31</td>\n",
       "      <td>0.0</td>\n",
       "      <td>1</td>\n",
       "      <td>male</td>\n",
       "      <td>40.0</td>\n",
       "      <td>0</td>\n",
       "      <td>0</td>\n",
       "      <td>PC 17601</td>\n",
       "      <td>3.322183</td>\n",
       "      <td>NaN</td>\n",
       "      <td>C</td>\n",
       "      <td>0</td>\n",
       "      <td>0</td>\n",
       "      <td>0</td>\n",
       "      <td>0</td>\n",
       "      <td>1</td>\n",
       "    </tr>\n",
       "    <tr>\n",
       "      <th>34</th>\n",
       "      <td>35</td>\n",
       "      <td>0.0</td>\n",
       "      <td>1</td>\n",
       "      <td>male</td>\n",
       "      <td>28.0</td>\n",
       "      <td>1</td>\n",
       "      <td>0</td>\n",
       "      <td>PC 17604</td>\n",
       "      <td>4.408800</td>\n",
       "      <td>NaN</td>\n",
       "      <td>C</td>\n",
       "      <td>1</td>\n",
       "      <td>0</td>\n",
       "      <td>0</td>\n",
       "      <td>0</td>\n",
       "      <td>0</td>\n",
       "    </tr>\n",
       "    <tr>\n",
       "      <th>35</th>\n",
       "      <td>36</td>\n",
       "      <td>0.0</td>\n",
       "      <td>1</td>\n",
       "      <td>male</td>\n",
       "      <td>42.0</td>\n",
       "      <td>1</td>\n",
       "      <td>0</td>\n",
       "      <td>113789</td>\n",
       "      <td>3.951244</td>\n",
       "      <td>NaN</td>\n",
       "      <td>S</td>\n",
       "      <td>1</td>\n",
       "      <td>0</td>\n",
       "      <td>0</td>\n",
       "      <td>0</td>\n",
       "      <td>0</td>\n",
       "    </tr>\n",
       "    <tr>\n",
       "      <th>64</th>\n",
       "      <td>65</td>\n",
       "      <td>0.0</td>\n",
       "      <td>1</td>\n",
       "      <td>male</td>\n",
       "      <td>NaN</td>\n",
       "      <td>0</td>\n",
       "      <td>0</td>\n",
       "      <td>PC 17605</td>\n",
       "      <td>3.322183</td>\n",
       "      <td>NaN</td>\n",
       "      <td>C</td>\n",
       "      <td>1</td>\n",
       "      <td>0</td>\n",
       "      <td>0</td>\n",
       "      <td>0</td>\n",
       "      <td>0</td>\n",
       "    </tr>\n",
       "    <tr>\n",
       "      <th>83</th>\n",
       "      <td>84</td>\n",
       "      <td>0.0</td>\n",
       "      <td>1</td>\n",
       "      <td>male</td>\n",
       "      <td>28.0</td>\n",
       "      <td>0</td>\n",
       "      <td>0</td>\n",
       "      <td>113059</td>\n",
       "      <td>3.852273</td>\n",
       "      <td>NaN</td>\n",
       "      <td>S</td>\n",
       "      <td>1</td>\n",
       "      <td>0</td>\n",
       "      <td>0</td>\n",
       "      <td>0</td>\n",
       "      <td>0</td>\n",
       "    </tr>\n",
       "  </tbody>\n",
       "</table>\n",
       "</div>"
      ],
      "text/plain": [
       "    PassengerId  Survived  Pclass   Sex   Age  SibSp  Parch    Ticket  \\\n",
       "30           31       0.0       1  male  40.0      0      0  PC 17601   \n",
       "34           35       0.0       1  male  28.0      1      0  PC 17604   \n",
       "35           36       0.0       1  male  42.0      1      0    113789   \n",
       "64           65       0.0       1  male   NaN      0      0  PC 17605   \n",
       "83           84       0.0       1  male  28.0      0      0    113059   \n",
       "\n",
       "        Fare Cabin Embarked  title_0  title_1  title_2  title_3  title_4  \n",
       "30  3.322183   NaN        C        0        0        0        0        1  \n",
       "34  4.408800   NaN        C        1        0        0        0        0  \n",
       "35  3.951244   NaN        S        1        0        0        0        0  \n",
       "64  3.322183   NaN        C        1        0        0        0        0  \n",
       "83  3.852273   NaN        S        1        0        0        0        0  "
      ]
     },
     "execution_count": 39,
     "metadata": {},
     "output_type": "execute_result"
    }
   ],
   "source": [
    "print(data[(pd.isnull(data['Cabin'])) & (data['Pclass'] == 1)].shape[0])\n",
    "data[(pd.isnull(data['Cabin'])) & (data['Pclass'] == 1)].head()"
   ]
  },
  {
   "cell_type": "code",
   "execution_count": 40,
   "metadata": {
    "execution": {
     "iopub.execute_input": "2021-03-06T13:24:39.894628Z",
     "iopub.status.busy": "2021-03-06T13:24:39.893932Z",
     "iopub.status.idle": "2021-03-06T13:24:39.898067Z",
     "shell.execute_reply": "2021-03-06T13:24:39.897529Z"
    },
    "papermill": {
     "duration": 0.120141,
     "end_time": "2021-03-06T13:24:39.898202",
     "exception": false,
     "start_time": "2021-03-06T13:24:39.778061",
     "status": "completed"
    },
    "tags": []
   },
   "outputs": [
    {
     "data": {
      "text/html": [
       "<div>\n",
       "<style scoped>\n",
       "    .dataframe tbody tr th:only-of-type {\n",
       "        vertical-align: middle;\n",
       "    }\n",
       "\n",
       "    .dataframe tbody tr th {\n",
       "        vertical-align: top;\n",
       "    }\n",
       "\n",
       "    .dataframe thead th {\n",
       "        text-align: right;\n",
       "    }\n",
       "</style>\n",
       "<table border=\"1\" class=\"dataframe\">\n",
       "  <thead>\n",
       "    <tr style=\"text-align: right;\">\n",
       "      <th></th>\n",
       "      <th>PassengerId</th>\n",
       "      <th>Survived</th>\n",
       "      <th>Pclass</th>\n",
       "      <th>Sex</th>\n",
       "      <th>Age</th>\n",
       "      <th>SibSp</th>\n",
       "      <th>Parch</th>\n",
       "      <th>Ticket</th>\n",
       "      <th>Fare</th>\n",
       "      <th>Cabin</th>\n",
       "      <th>Embarked</th>\n",
       "      <th>title_0</th>\n",
       "      <th>title_1</th>\n",
       "      <th>title_2</th>\n",
       "      <th>title_3</th>\n",
       "      <th>title_4</th>\n",
       "    </tr>\n",
       "  </thead>\n",
       "  <tbody>\n",
       "    <tr>\n",
       "      <th>1</th>\n",
       "      <td>2</td>\n",
       "      <td>1.0</td>\n",
       "      <td>1</td>\n",
       "      <td>female</td>\n",
       "      <td>38.0</td>\n",
       "      <td>1</td>\n",
       "      <td>0</td>\n",
       "      <td>PC 17599</td>\n",
       "      <td>4.266662</td>\n",
       "      <td>C85</td>\n",
       "      <td>C</td>\n",
       "      <td>0</td>\n",
       "      <td>1</td>\n",
       "      <td>0</td>\n",
       "      <td>0</td>\n",
       "      <td>0</td>\n",
       "    </tr>\n",
       "    <tr>\n",
       "      <th>3</th>\n",
       "      <td>4</td>\n",
       "      <td>1.0</td>\n",
       "      <td>1</td>\n",
       "      <td>female</td>\n",
       "      <td>35.0</td>\n",
       "      <td>1</td>\n",
       "      <td>0</td>\n",
       "      <td>113803</td>\n",
       "      <td>3.972177</td>\n",
       "      <td>C123</td>\n",
       "      <td>S</td>\n",
       "      <td>0</td>\n",
       "      <td>1</td>\n",
       "      <td>0</td>\n",
       "      <td>0</td>\n",
       "      <td>0</td>\n",
       "    </tr>\n",
       "    <tr>\n",
       "      <th>6</th>\n",
       "      <td>7</td>\n",
       "      <td>0.0</td>\n",
       "      <td>1</td>\n",
       "      <td>male</td>\n",
       "      <td>54.0</td>\n",
       "      <td>0</td>\n",
       "      <td>0</td>\n",
       "      <td>17463</td>\n",
       "      <td>3.948596</td>\n",
       "      <td>E46</td>\n",
       "      <td>S</td>\n",
       "      <td>1</td>\n",
       "      <td>0</td>\n",
       "      <td>0</td>\n",
       "      <td>0</td>\n",
       "      <td>0</td>\n",
       "    </tr>\n",
       "    <tr>\n",
       "      <th>11</th>\n",
       "      <td>12</td>\n",
       "      <td>1.0</td>\n",
       "      <td>1</td>\n",
       "      <td>female</td>\n",
       "      <td>58.0</td>\n",
       "      <td>0</td>\n",
       "      <td>0</td>\n",
       "      <td>113783</td>\n",
       "      <td>3.279030</td>\n",
       "      <td>C103</td>\n",
       "      <td>S</td>\n",
       "      <td>0</td>\n",
       "      <td>1</td>\n",
       "      <td>0</td>\n",
       "      <td>0</td>\n",
       "      <td>0</td>\n",
       "    </tr>\n",
       "    <tr>\n",
       "      <th>23</th>\n",
       "      <td>24</td>\n",
       "      <td>1.0</td>\n",
       "      <td>1</td>\n",
       "      <td>male</td>\n",
       "      <td>28.0</td>\n",
       "      <td>0</td>\n",
       "      <td>0</td>\n",
       "      <td>113788</td>\n",
       "      <td>3.569533</td>\n",
       "      <td>A6</td>\n",
       "      <td>S</td>\n",
       "      <td>1</td>\n",
       "      <td>0</td>\n",
       "      <td>0</td>\n",
       "      <td>0</td>\n",
       "      <td>0</td>\n",
       "    </tr>\n",
       "  </tbody>\n",
       "</table>\n",
       "</div>"
      ],
      "text/plain": [
       "    PassengerId  Survived  Pclass     Sex   Age  SibSp  Parch    Ticket  \\\n",
       "1             2       1.0       1  female  38.0      1      0  PC 17599   \n",
       "3             4       1.0       1  female  35.0      1      0    113803   \n",
       "6             7       0.0       1    male  54.0      0      0     17463   \n",
       "11           12       1.0       1  female  58.0      0      0    113783   \n",
       "23           24       1.0       1    male  28.0      0      0    113788   \n",
       "\n",
       "        Fare Cabin Embarked  title_0  title_1  title_2  title_3  title_4  \n",
       "1   4.266662   C85        C        0        1        0        0        0  \n",
       "3   3.972177  C123        S        0        1        0        0        0  \n",
       "6   3.948596   E46        S        1        0        0        0        0  \n",
       "11  3.279030  C103        S        0        1        0        0        0  \n",
       "23  3.569533    A6        S        1        0        0        0        0  "
      ]
     },
     "execution_count": 40,
     "metadata": {},
     "output_type": "execute_result"
    }
   ],
   "source": [
    "data[(pd.notnull(data['Cabin'])) & (data['Pclass'] == 1)].head()"
   ]
  },
  {
   "cell_type": "code",
   "execution_count": 41,
   "metadata": {
    "execution": {
     "iopub.execute_input": "2021-03-06T13:24:40.100833Z",
     "iopub.status.busy": "2021-03-06T13:24:40.100163Z",
     "iopub.status.idle": "2021-03-06T13:24:40.104368Z",
     "shell.execute_reply": "2021-03-06T13:24:40.103882Z"
    },
    "papermill": {
     "duration": 0.108706,
     "end_time": "2021-03-06T13:24:40.104524",
     "exception": false,
     "start_time": "2021-03-06T13:24:39.995818",
     "status": "completed"
    },
    "tags": []
   },
   "outputs": [
    {
     "data": {
      "text/plain": [
       "Counter({nan: 1014,\n",
       "         'C': 94,\n",
       "         'E': 44,\n",
       "         'G': 9,\n",
       "         'D': 46,\n",
       "         'A': 22,\n",
       "         'B': 65,\n",
       "         'F': 14,\n",
       "         'T': 1})"
      ]
     },
     "execution_count": 41,
     "metadata": {},
     "output_type": "execute_result"
    }
   ],
   "source": [
    "# Replacing the Cabin records with the first letter of the last word\n",
    "\n",
    "cabin = [i.split(\" \")[-1][0] if type(i) != float else np.nan for i in data['Cabin']]\n",
    "data['Cabin'] = cabin\n",
    "Counter(data['Cabin'])"
   ]
  },
  {
   "cell_type": "code",
   "execution_count": 42,
   "metadata": {
    "execution": {
     "iopub.execute_input": "2021-03-06T13:24:40.308795Z",
     "iopub.status.busy": "2021-03-06T13:24:40.307735Z",
     "iopub.status.idle": "2021-03-06T13:24:40.313259Z",
     "shell.execute_reply": "2021-03-06T13:24:40.314276Z"
    },
    "papermill": {
     "duration": 0.113874,
     "end_time": "2021-03-06T13:24:40.314557",
     "exception": false,
     "start_time": "2021-03-06T13:24:40.200683",
     "status": "completed"
    },
    "tags": []
   },
   "outputs": [
    {
     "name": "stdout",
     "output_type": "stream",
     "text": [
      "Mode of initials of cabin of 1st class C\n",
      "Mode of initials of cabin of 2nd class F\n",
      "Mode of initials of cabin of 3rd class G\n"
     ]
    }
   ],
   "source": [
    "print(\"Mode of initials of cabin of 1st class\",data[data['Pclass'] == 1]['Cabin'].mode()[0])\n",
    "print(\"Mode of initials of cabin of 2nd class\",data[data['Pclass'] == 2]['Cabin'].mode()[0])\n",
    "print(\"Mode of initials of cabin of 3rd class\",data[data['Pclass'] == 3]['Cabin'].mode()[0])"
   ]
  },
  {
   "cell_type": "code",
   "execution_count": 43,
   "metadata": {
    "execution": {
     "iopub.execute_input": "2021-03-06T13:24:40.514906Z",
     "iopub.status.busy": "2021-03-06T13:24:40.514254Z",
     "iopub.status.idle": "2021-03-06T13:24:40.517555Z",
     "shell.execute_reply": "2021-03-06T13:24:40.517032Z"
    },
    "papermill": {
     "duration": 0.106559,
     "end_time": "2021-03-06T13:24:40.517700",
     "exception": false,
     "start_time": "2021-03-06T13:24:40.411141",
     "status": "completed"
    },
    "tags": []
   },
   "outputs": [],
   "source": [
    "# Function to fill null values in 'Cabin' Feature\n",
    "\n",
    "def fill_cabin(cols):\n",
    "    cabin = cols[0]\n",
    "    pclass = cols[1]\n",
    "    if pd.isnull(cabin):\n",
    "        if pclass == 1:\n",
    "            return 'C'\n",
    "        elif pclass == 2:\n",
    "            return 'F'\n",
    "        else:\n",
    "            return 'G'\n",
    "    else:\n",
    "        return cabin"
   ]
  },
  {
   "cell_type": "code",
   "execution_count": 44,
   "metadata": {
    "execution": {
     "iopub.execute_input": "2021-03-06T13:24:40.718136Z",
     "iopub.status.busy": "2021-03-06T13:24:40.717426Z",
     "iopub.status.idle": "2021-03-06T13:24:40.744774Z",
     "shell.execute_reply": "2021-03-06T13:24:40.744224Z"
    },
    "papermill": {
     "duration": 0.12999,
     "end_time": "2021-03-06T13:24:40.744917",
     "exception": false,
     "start_time": "2021-03-06T13:24:40.614927",
     "status": "completed"
    },
    "tags": []
   },
   "outputs": [
    {
     "data": {
      "text/plain": [
       "Counter({'G': 702,\n",
       "         'C': 161,\n",
       "         'E': 44,\n",
       "         'F': 268,\n",
       "         'D': 46,\n",
       "         'A': 22,\n",
       "         'B': 65,\n",
       "         'T': 1})"
      ]
     },
     "execution_count": 44,
     "metadata": {},
     "output_type": "execute_result"
    }
   ],
   "source": [
    "data['Cabin'] = data[['Cabin', 'Pclass']].apply(fill_cabin, axis=1)\n",
    "Counter(data['Cabin'])"
   ]
  },
  {
   "cell_type": "code",
   "execution_count": 45,
   "metadata": {
    "execution": {
     "iopub.execute_input": "2021-03-06T13:24:40.948204Z",
     "iopub.status.busy": "2021-03-06T13:24:40.947559Z",
     "iopub.status.idle": "2021-03-06T13:24:41.138686Z",
     "shell.execute_reply": "2021-03-06T13:24:41.138125Z"
    },
    "papermill": {
     "duration": 0.296552,
     "end_time": "2021-03-06T13:24:41.138823",
     "exception": false,
     "start_time": "2021-03-06T13:24:40.842271",
     "status": "completed"
    },
    "tags": []
   },
   "outputs": [
    {
     "data": {
      "image/png": "[encoded data removed]",
      "text/plain": [
       "<Figure size 432x288 with 1 Axes>"
      ]
     },
     "metadata": {},
     "output_type": "display_data"
    }
   ],
   "source": [
    "sns.countplot(data['Cabin']);"
   ]
  },
  {
   "cell_type": "code",
   "execution_count": 46,
   "metadata": {
    "execution": {
     "iopub.execute_input": "2021-03-06T13:24:41.352299Z",
     "iopub.status.busy": "2021-03-06T13:24:41.351248Z",
     "iopub.status.idle": "2021-03-06T13:24:41.355540Z",
     "shell.execute_reply": "2021-03-06T13:24:41.354988Z"
    },
    "papermill": {
     "duration": 0.118634,
     "end_time": "2021-03-06T13:24:41.355684",
     "exception": false,
     "start_time": "2021-03-06T13:24:41.237050",
     "status": "completed"
    },
    "tags": []
   },
   "outputs": [
    {
     "data": {
      "text/html": [
       "<div>\n",
       "<style scoped>\n",
       "    .dataframe tbody tr th:only-of-type {\n",
       "        vertical-align: middle;\n",
       "    }\n",
       "\n",
       "    .dataframe tbody tr th {\n",
       "        vertical-align: top;\n",
       "    }\n",
       "\n",
       "    .dataframe thead th {\n",
       "        text-align: right;\n",
       "    }\n",
       "</style>\n",
       "<table border=\"1\" class=\"dataframe\">\n",
       "  <thead>\n",
       "    <tr style=\"text-align: right;\">\n",
       "      <th></th>\n",
       "      <th>PassengerId</th>\n",
       "      <th>Survived</th>\n",
       "      <th>Pclass</th>\n",
       "      <th>Sex</th>\n",
       "      <th>Age</th>\n",
       "      <th>SibSp</th>\n",
       "      <th>Parch</th>\n",
       "      <th>Ticket</th>\n",
       "      <th>Fare</th>\n",
       "      <th>Cabin</th>\n",
       "      <th>Embarked</th>\n",
       "      <th>title_0</th>\n",
       "      <th>title_1</th>\n",
       "      <th>title_2</th>\n",
       "      <th>title_3</th>\n",
       "      <th>title_4</th>\n",
       "    </tr>\n",
       "  </thead>\n",
       "  <tbody>\n",
       "    <tr>\n",
       "      <th>339</th>\n",
       "      <td>340</td>\n",
       "      <td>0.0</td>\n",
       "      <td>1</td>\n",
       "      <td>male</td>\n",
       "      <td>45.0</td>\n",
       "      <td>0</td>\n",
       "      <td>0</td>\n",
       "      <td>113784</td>\n",
       "      <td>3.569533</td>\n",
       "      <td>T</td>\n",
       "      <td>S</td>\n",
       "      <td>1</td>\n",
       "      <td>0</td>\n",
       "      <td>0</td>\n",
       "      <td>0</td>\n",
       "      <td>0</td>\n",
       "    </tr>\n",
       "  </tbody>\n",
       "</table>\n",
       "</div>"
      ],
      "text/plain": [
       "     PassengerId  Survived  Pclass   Sex   Age  SibSp  Parch  Ticket  \\\n",
       "339          340       0.0       1  male  45.0      0      0  113784   \n",
       "\n",
       "         Fare Cabin Embarked  title_0  title_1  title_2  title_3  title_4  \n",
       "339  3.569533     T        S        1        0        0        0        0  "
      ]
     },
     "execution_count": 46,
     "metadata": {},
     "output_type": "execute_result"
    }
   ],
   "source": [
    "data[data['Cabin'] == 'T']"
   ]
  },
  {
   "cell_type": "code",
   "execution_count": 47,
   "metadata": {
    "execution": {
     "iopub.execute_input": "2021-03-06T13:24:41.559685Z",
     "iopub.status.busy": "2021-03-06T13:24:41.556075Z",
     "iopub.status.idle": "2021-03-06T13:24:41.564405Z",
     "shell.execute_reply": "2021-03-06T13:24:41.563907Z"
    },
    "papermill": {
     "duration": 0.110517,
     "end_time": "2021-03-06T13:24:41.564575",
     "exception": false,
     "start_time": "2021-03-06T13:24:41.454058",
     "status": "completed"
    },
    "tags": []
   },
   "outputs": [],
   "source": [
    "# This is an outlier. Therefore, we can eliminate this entry\n",
    "\n",
    "ind = data[data['Cabin'] == 'T'].index\n",
    "data.drop(index=ind, inplace=True, axis=0)"
   ]
  },
  {
   "cell_type": "code",
   "execution_count": 48,
   "metadata": {
    "execution": {
     "iopub.execute_input": "2021-03-06T13:24:41.780199Z",
     "iopub.status.busy": "2021-03-06T13:24:41.777224Z",
     "iopub.status.idle": "2021-03-06T13:24:41.783460Z",
     "shell.execute_reply": "2021-03-06T13:24:41.782884Z"
    },
    "papermill": {
     "duration": 0.11882,
     "end_time": "2021-03-06T13:24:41.783611",
     "exception": false,
     "start_time": "2021-03-06T13:24:41.664791",
     "status": "completed"
    },
    "tags": []
   },
   "outputs": [],
   "source": [
    "data['Cabin'].replace(['A', 'B', 'C', 'D', 'E', 'F', 'G'],[1, 2, 3, 4, 5, 6, 7], inplace=True)\n",
    "data['Cabin'] = data['Cabin'].astype('category')\n",
    "data = pd.get_dummies(data, columns=['Cabin'], prefix=\"cab\")"
   ]
  },
  {
   "cell_type": "markdown",
   "metadata": {
    "papermill": {
     "duration": 0.098497,
     "end_time": "2021-03-06T13:24:41.983882",
     "exception": false,
     "start_time": "2021-03-06T13:24:41.885385",
     "status": "completed"
    },
    "tags": []
   },
   "source": [
    "## Age"
   ]
  },
  {
   "cell_type": "code",
   "execution_count": 49,
   "metadata": {
    "execution": {
     "iopub.execute_input": "2021-03-06T13:24:42.188900Z",
     "iopub.status.busy": "2021-03-06T13:24:42.188234Z",
     "iopub.status.idle": "2021-03-06T13:24:42.191714Z",
     "shell.execute_reply": "2021-03-06T13:24:42.191077Z"
    },
    "papermill": {
     "duration": 0.106874,
     "end_time": "2021-03-06T13:24:42.191854",
     "exception": false,
     "start_time": "2021-03-06T13:24:42.084980",
     "status": "completed"
    },
    "tags": []
   },
   "outputs": [],
   "source": [
    "# The first class passengers are well established persons therefore, they could have a higher average age than the 2nd and the 3rd class passengers"
   ]
  },
  {
   "cell_type": "code",
   "execution_count": 50,
   "metadata": {
    "execution": {
     "iopub.execute_input": "2021-03-06T13:24:42.404428Z",
     "iopub.status.busy": "2021-03-06T13:24:42.396793Z",
     "iopub.status.idle": "2021-03-06T13:24:42.574800Z",
     "shell.execute_reply": "2021-03-06T13:24:42.574108Z"
    },
    "papermill": {
     "duration": 0.283528,
     "end_time": "2021-03-06T13:24:42.574943",
     "exception": false,
     "start_time": "2021-03-06T13:24:42.291415",
     "status": "completed"
    },
    "tags": []
   },
   "outputs": [
    {
     "data": {
      "image/png": "[encoded data removed]",
      "text/plain": [
       "<Figure size 432x288 with 1 Axes>"
      ]
     },
     "metadata": {},
     "output_type": "display_data"
    }
   ],
   "source": [
    "sns.boxplot('Pclass','Age', data=train);"
   ]
  },
  {
   "cell_type": "code",
   "execution_count": 51,
   "metadata": {
    "execution": {
     "iopub.execute_input": "2021-03-06T13:24:42.784525Z",
     "iopub.status.busy": "2021-03-06T13:24:42.783891Z",
     "iopub.status.idle": "2021-03-06T13:24:42.787083Z",
     "shell.execute_reply": "2021-03-06T13:24:42.786552Z"
    },
    "papermill": {
     "duration": 0.110757,
     "end_time": "2021-03-06T13:24:42.787219",
     "exception": false,
     "start_time": "2021-03-06T13:24:42.676462",
     "status": "completed"
    },
    "tags": []
   },
   "outputs": [],
   "source": [
    "# Function for imputing age\n",
    "\n",
    "def impute_age(col):\n",
    "    age = col[0]\n",
    "    pclass = col[1]\n",
    "    if pd.isnull(age):\n",
    "        \n",
    "        if pclass == 1:\n",
    "            return 37\n",
    "        elif pclass == 2:\n",
    "            return 29\n",
    "        else:\n",
    "            return 24\n",
    "    else:\n",
    "        return age"
   ]
  },
  {
   "cell_type": "code",
   "execution_count": 52,
   "metadata": {
    "execution": {
     "iopub.execute_input": "2021-03-06T13:24:42.996019Z",
     "iopub.status.busy": "2021-03-06T13:24:42.995267Z",
     "iopub.status.idle": "2021-03-06T13:24:43.020364Z",
     "shell.execute_reply": "2021-03-06T13:24:43.019687Z"
    },
    "papermill": {
     "duration": 0.131887,
     "end_time": "2021-03-06T13:24:43.020527",
     "exception": false,
     "start_time": "2021-03-06T13:24:42.888640",
     "status": "completed"
    },
    "tags": []
   },
   "outputs": [],
   "source": [
    "data['Age'] = data[['Age','Pclass']].apply(impute_age, axis=1)"
   ]
  },
  {
   "cell_type": "markdown",
   "metadata": {
    "papermill": {
     "duration": 0.099747,
     "end_time": "2021-03-06T13:24:43.221366",
     "exception": false,
     "start_time": "2021-03-06T13:24:43.121619",
     "status": "completed"
    },
    "tags": []
   },
   "source": [
    "## Ticket"
   ]
  },
  {
   "cell_type": "code",
   "execution_count": 53,
   "metadata": {
    "execution": {
     "iopub.execute_input": "2021-03-06T13:24:43.431319Z",
     "iopub.status.busy": "2021-03-06T13:24:43.430496Z",
     "iopub.status.idle": "2021-03-06T13:24:43.433392Z",
     "shell.execute_reply": "2021-03-06T13:24:43.432776Z"
    },
    "papermill": {
     "duration": 0.112049,
     "end_time": "2021-03-06T13:24:43.433556",
     "exception": false,
     "start_time": "2021-03-06T13:24:43.321507",
     "status": "completed"
    },
    "tags": []
   },
   "outputs": [],
   "source": [
    "# We are replacing the values in ticket with only the strings stripped from the data\n",
    "# If there are only numbers, 'ADDED' will replace the value\n",
    "\n",
    "ticket = []\n",
    "\n",
    "for i in list(data['Ticket']):\n",
    "    if not i.isdigit():\n",
    "        t = i.replace(\"/\",\"\").replace(\".\",\"\").strip().split(\" \")[0]\n",
    "    else:\n",
    "        t ='NUM' \n",
    "    ticket.append(t)\n",
    "\n",
    "TICKETS = []\n",
    "for t in ticket:\n",
    "    if len(t) > 3:\n",
    "        t = t[:4]\n",
    "        TICKETS.append(t)\n",
    "    else:\n",
    "        TICKETS.append(t)\n",
    "        \n",
    "        \n",
    "    \n",
    "data['Ticket'] = TICKETS"
   ]
  },
  {
   "cell_type": "code",
   "execution_count": 54,
   "metadata": {
    "execution": {
     "iopub.execute_input": "2021-03-06T13:24:43.641859Z",
     "iopub.status.busy": "2021-03-06T13:24:43.640862Z",
     "iopub.status.idle": "2021-03-06T13:24:43.645450Z",
     "shell.execute_reply": "2021-03-06T13:24:43.644772Z"
    },
    "papermill": {
     "duration": 0.111212,
     "end_time": "2021-03-06T13:24:43.645596",
     "exception": false,
     "start_time": "2021-03-06T13:24:43.534384",
     "status": "completed"
    },
    "tags": []
   },
   "outputs": [
    {
     "data": {
      "text/plain": [
       "Counter({'A5': 28,\n",
       "         'PC': 92,\n",
       "         'STON': 22,\n",
       "         'NUM': 956,\n",
       "         'PP': 4,\n",
       "         'CA': 68,\n",
       "         'SCPa': 5,\n",
       "         'SCA4': 2,\n",
       "         'A4': 10,\n",
       "         'SP': 1,\n",
       "         'SOC': 8,\n",
       "         'WC': 15,\n",
       "         'SOTO': 27,\n",
       "         'WEP': 4,\n",
       "         'C': 8,\n",
       "         'SCPA': 14,\n",
       "         'SOP': 1,\n",
       "         'Fa': 1,\n",
       "         'LINE': 4,\n",
       "         'FCC': 9,\n",
       "         'SWPP': 2,\n",
       "         'SCOW': 1,\n",
       "         'PPP': 2,\n",
       "         'SC': 2,\n",
       "         'SCAH': 5,\n",
       "         'AS': 1,\n",
       "         'SOPP': 7,\n",
       "         'FC': 3,\n",
       "         'CASO': 1,\n",
       "         'SCA3': 1,\n",
       "         'AQ4': 1,\n",
       "         'A': 1,\n",
       "         'LP': 1,\n",
       "         'AQ3': 1})"
      ]
     },
     "execution_count": 54,
     "metadata": {},
     "output_type": "execute_result"
    }
   ],
   "source": [
    "Counter(data['Ticket'])"
   ]
  },
  {
   "cell_type": "code",
   "execution_count": 55,
   "metadata": {
    "execution": {
     "iopub.execute_input": "2021-03-06T13:24:43.858670Z",
     "iopub.status.busy": "2021-03-06T13:24:43.855708Z",
     "iopub.status.idle": "2021-03-06T13:24:43.861393Z",
     "shell.execute_reply": "2021-03-06T13:24:43.860788Z"
    },
    "papermill": {
     "duration": 0.114358,
     "end_time": "2021-03-06T13:24:43.861548",
     "exception": false,
     "start_time": "2021-03-06T13:24:43.747190",
     "status": "completed"
    },
    "tags": []
   },
   "outputs": [],
   "source": [
    "data = pd.get_dummies(data, columns=['Ticket'], prefix=\"ticket\")"
   ]
  },
  {
   "cell_type": "markdown",
   "metadata": {
    "papermill": {
     "duration": 0.102081,
     "end_time": "2021-03-06T13:24:44.066254",
     "exception": false,
     "start_time": "2021-03-06T13:24:43.964173",
     "status": "completed"
    },
    "tags": []
   },
   "source": [
    "## Embarked"
   ]
  },
  {
   "cell_type": "code",
   "execution_count": 56,
   "metadata": {
    "execution": {
     "iopub.execute_input": "2021-03-06T13:24:44.275838Z",
     "iopub.status.busy": "2021-03-06T13:24:44.275195Z",
     "iopub.status.idle": "2021-03-06T13:24:44.303565Z",
     "shell.execute_reply": "2021-03-06T13:24:44.304005Z"
    },
    "papermill": {
     "duration": 0.136595,
     "end_time": "2021-03-06T13:24:44.304175",
     "exception": false,
     "start_time": "2021-03-06T13:24:44.167580",
     "status": "completed"
    },
    "tags": []
   },
   "outputs": [
    {
     "data": {
      "text/html": [
       "<div>\n",
       "<style scoped>\n",
       "    .dataframe tbody tr th:only-of-type {\n",
       "        vertical-align: middle;\n",
       "    }\n",
       "\n",
       "    .dataframe tbody tr th {\n",
       "        vertical-align: top;\n",
       "    }\n",
       "\n",
       "    .dataframe thead th {\n",
       "        text-align: right;\n",
       "    }\n",
       "</style>\n",
       "<table border=\"1\" class=\"dataframe\">\n",
       "  <thead>\n",
       "    <tr style=\"text-align: right;\">\n",
       "      <th></th>\n",
       "      <th>PassengerId</th>\n",
       "      <th>Survived</th>\n",
       "      <th>Pclass</th>\n",
       "      <th>Sex</th>\n",
       "      <th>Age</th>\n",
       "      <th>SibSp</th>\n",
       "      <th>Parch</th>\n",
       "      <th>Fare</th>\n",
       "      <th>Embarked</th>\n",
       "      <th>title_0</th>\n",
       "      <th>title_1</th>\n",
       "      <th>title_2</th>\n",
       "      <th>title_3</th>\n",
       "      <th>title_4</th>\n",
       "      <th>cab_1</th>\n",
       "      <th>cab_2</th>\n",
       "      <th>cab_3</th>\n",
       "      <th>cab_4</th>\n",
       "      <th>cab_5</th>\n",
       "      <th>cab_6</th>\n",
       "      <th>cab_7</th>\n",
       "      <th>ticket_A</th>\n",
       "      <th>ticket_A4</th>\n",
       "      <th>ticket_A5</th>\n",
       "      <th>ticket_AQ3</th>\n",
       "      <th>ticket_AQ4</th>\n",
       "      <th>ticket_AS</th>\n",
       "      <th>ticket_C</th>\n",
       "      <th>ticket_CA</th>\n",
       "      <th>ticket_CASO</th>\n",
       "      <th>ticket_FC</th>\n",
       "      <th>ticket_FCC</th>\n",
       "      <th>ticket_Fa</th>\n",
       "      <th>ticket_LINE</th>\n",
       "      <th>ticket_LP</th>\n",
       "      <th>ticket_NUM</th>\n",
       "      <th>ticket_PC</th>\n",
       "      <th>ticket_PP</th>\n",
       "      <th>ticket_PPP</th>\n",
       "      <th>ticket_SC</th>\n",
       "      <th>ticket_SCA3</th>\n",
       "      <th>ticket_SCA4</th>\n",
       "      <th>ticket_SCAH</th>\n",
       "      <th>ticket_SCOW</th>\n",
       "      <th>ticket_SCPA</th>\n",
       "      <th>ticket_SCPa</th>\n",
       "      <th>ticket_SOC</th>\n",
       "      <th>ticket_SOP</th>\n",
       "      <th>ticket_SOPP</th>\n",
       "      <th>ticket_SOTO</th>\n",
       "      <th>ticket_SP</th>\n",
       "      <th>ticket_STON</th>\n",
       "      <th>ticket_SWPP</th>\n",
       "      <th>ticket_WC</th>\n",
       "      <th>ticket_WEP</th>\n",
       "    </tr>\n",
       "  </thead>\n",
       "  <tbody>\n",
       "    <tr>\n",
       "      <th>61</th>\n",
       "      <td>62</td>\n",
       "      <td>1.0</td>\n",
       "      <td>1</td>\n",
       "      <td>female</td>\n",
       "      <td>38.0</td>\n",
       "      <td>0</td>\n",
       "      <td>0</td>\n",
       "      <td>4.382027</td>\n",
       "      <td>NaN</td>\n",
       "      <td>0</td>\n",
       "      <td>1</td>\n",
       "      <td>0</td>\n",
       "      <td>0</td>\n",
       "      <td>0</td>\n",
       "      <td>0</td>\n",
       "      <td>1</td>\n",
       "      <td>0</td>\n",
       "      <td>0</td>\n",
       "      <td>0</td>\n",
       "      <td>0</td>\n",
       "      <td>0</td>\n",
       "      <td>0</td>\n",
       "      <td>0</td>\n",
       "      <td>0</td>\n",
       "      <td>0</td>\n",
       "      <td>0</td>\n",
       "      <td>0</td>\n",
       "      <td>0</td>\n",
       "      <td>0</td>\n",
       "      <td>0</td>\n",
       "      <td>0</td>\n",
       "      <td>0</td>\n",
       "      <td>0</td>\n",
       "      <td>0</td>\n",
       "      <td>0</td>\n",
       "      <td>1</td>\n",
       "      <td>0</td>\n",
       "      <td>0</td>\n",
       "      <td>0</td>\n",
       "      <td>0</td>\n",
       "      <td>0</td>\n",
       "      <td>0</td>\n",
       "      <td>0</td>\n",
       "      <td>0</td>\n",
       "      <td>0</td>\n",
       "      <td>0</td>\n",
       "      <td>0</td>\n",
       "      <td>0</td>\n",
       "      <td>0</td>\n",
       "      <td>0</td>\n",
       "      <td>0</td>\n",
       "      <td>0</td>\n",
       "      <td>0</td>\n",
       "      <td>0</td>\n",
       "      <td>0</td>\n",
       "    </tr>\n",
       "    <tr>\n",
       "      <th>829</th>\n",
       "      <td>830</td>\n",
       "      <td>1.0</td>\n",
       "      <td>1</td>\n",
       "      <td>female</td>\n",
       "      <td>62.0</td>\n",
       "      <td>0</td>\n",
       "      <td>0</td>\n",
       "      <td>4.382027</td>\n",
       "      <td>NaN</td>\n",
       "      <td>0</td>\n",
       "      <td>1</td>\n",
       "      <td>0</td>\n",
       "      <td>0</td>\n",
       "      <td>0</td>\n",
       "      <td>0</td>\n",
       "      <td>1</td>\n",
       "      <td>0</td>\n",
       "      <td>0</td>\n",
       "      <td>0</td>\n",
       "      <td>0</td>\n",
       "      <td>0</td>\n",
       "      <td>0</td>\n",
       "      <td>0</td>\n",
       "      <td>0</td>\n",
       "      <td>0</td>\n",
       "      <td>0</td>\n",
       "      <td>0</td>\n",
       "      <td>0</td>\n",
       "      <td>0</td>\n",
       "      <td>0</td>\n",
       "      <td>0</td>\n",
       "      <td>0</td>\n",
       "      <td>0</td>\n",
       "      <td>0</td>\n",
       "      <td>0</td>\n",
       "      <td>1</td>\n",
       "      <td>0</td>\n",
       "      <td>0</td>\n",
       "      <td>0</td>\n",
       "      <td>0</td>\n",
       "      <td>0</td>\n",
       "      <td>0</td>\n",
       "      <td>0</td>\n",
       "      <td>0</td>\n",
       "      <td>0</td>\n",
       "      <td>0</td>\n",
       "      <td>0</td>\n",
       "      <td>0</td>\n",
       "      <td>0</td>\n",
       "      <td>0</td>\n",
       "      <td>0</td>\n",
       "      <td>0</td>\n",
       "      <td>0</td>\n",
       "      <td>0</td>\n",
       "      <td>0</td>\n",
       "    </tr>\n",
       "  </tbody>\n",
       "</table>\n",
       "</div>"
      ],
      "text/plain": [
       "     PassengerId  Survived  Pclass     Sex   Age  SibSp  Parch      Fare  \\\n",
       "61            62       1.0       1  female  38.0      0      0  4.382027   \n",
       "829          830       1.0       1  female  62.0      0      0  4.382027   \n",
       "\n",
       "    Embarked  title_0  title_1  title_2  title_3  title_4  cab_1  cab_2  \\\n",
       "61       NaN        0        1        0        0        0      0      1   \n",
       "829      NaN        0        1        0        0        0      0      1   \n",
       "\n",
       "     cab_3  cab_4  cab_5  cab_6  cab_7  ticket_A  ticket_A4  ticket_A5  \\\n",
       "61       0      0      0      0      0         0          0          0   \n",
       "829      0      0      0      0      0         0          0          0   \n",
       "\n",
       "     ticket_AQ3  ticket_AQ4  ticket_AS  ticket_C  ticket_CA  ticket_CASO  \\\n",
       "61            0           0          0         0          0            0   \n",
       "829           0           0          0         0          0            0   \n",
       "\n",
       "     ticket_FC  ticket_FCC  ticket_Fa  ticket_LINE  ticket_LP  ticket_NUM  \\\n",
       "61           0           0          0            0          0           1   \n",
       "829          0           0          0            0          0           1   \n",
       "\n",
       "     ticket_PC  ticket_PP  ticket_PPP  ticket_SC  ticket_SCA3  ticket_SCA4  \\\n",
       "61           0          0           0          0            0            0   \n",
       "829          0          0           0          0            0            0   \n",
       "\n",
       "     ticket_SCAH  ticket_SCOW  ticket_SCPA  ticket_SCPa  ticket_SOC  \\\n",
       "61             0            0            0            0           0   \n",
       "829            0            0            0            0           0   \n",
       "\n",
       "     ticket_SOP  ticket_SOPP  ticket_SOTO  ticket_SP  ticket_STON  \\\n",
       "61            0            0            0          0            0   \n",
       "829           0            0            0          0            0   \n",
       "\n",
       "     ticket_SWPP  ticket_WC  ticket_WEP  \n",
       "61             0          0           0  \n",
       "829            0          0           0  "
      ]
     },
     "execution_count": 56,
     "metadata": {},
     "output_type": "execute_result"
    }
   ],
   "source": [
    "# Checking the NaN values for \"Embarked\" feature\n",
    "\n",
    "data[pd.isnull(data['Embarked'])]"
   ]
  },
  {
   "cell_type": "code",
   "execution_count": 57,
   "metadata": {
    "execution": {
     "iopub.execute_input": "2021-03-06T13:24:44.517659Z",
     "iopub.status.busy": "2021-03-06T13:24:44.516763Z",
     "iopub.status.idle": "2021-03-06T13:24:44.521346Z",
     "shell.execute_reply": "2021-03-06T13:24:44.520744Z"
    },
    "papermill": {
     "duration": 0.115943,
     "end_time": "2021-03-06T13:24:44.521506",
     "exception": false,
     "start_time": "2021-03-06T13:24:44.405563",
     "status": "completed"
    },
    "tags": []
   },
   "outputs": [
    {
     "data": {
      "text/plain": [
       "0    S\n",
       "dtype: object"
      ]
     },
     "execution_count": 57,
     "metadata": {},
     "output_type": "execute_result"
    }
   ],
   "source": [
    "# We shall check which entry is the most common for similar records\n",
    "\n",
    "data[(data['Sex'] == 'female') & (data['Pclass'] == 1) & (data['Survived'] == 1)]['Embarked'].mode()"
   ]
  },
  {
   "cell_type": "code",
   "execution_count": 58,
   "metadata": {
    "execution": {
     "iopub.execute_input": "2021-03-06T13:24:44.731255Z",
     "iopub.status.busy": "2021-03-06T13:24:44.730634Z",
     "iopub.status.idle": "2021-03-06T13:24:44.734061Z",
     "shell.execute_reply": "2021-03-06T13:24:44.733517Z"
    },
    "papermill": {
     "duration": 0.110226,
     "end_time": "2021-03-06T13:24:44.734216",
     "exception": false,
     "start_time": "2021-03-06T13:24:44.623990",
     "status": "completed"
    },
    "tags": []
   },
   "outputs": [],
   "source": [
    "# Filling NaN value with 'S' (Southampton) for 'Embarked' column\n",
    "\n",
    "data['Embarked'].fillna('S', inplace=True)"
   ]
  },
  {
   "cell_type": "code",
   "execution_count": 59,
   "metadata": {
    "execution": {
     "iopub.execute_input": "2021-03-06T13:24:44.947108Z",
     "iopub.status.busy": "2021-03-06T13:24:44.946314Z",
     "iopub.status.idle": "2021-03-06T13:24:44.950871Z",
     "shell.execute_reply": "2021-03-06T13:24:44.950211Z"
    },
    "papermill": {
     "duration": 0.113321,
     "end_time": "2021-03-06T13:24:44.951019",
     "exception": false,
     "start_time": "2021-03-06T13:24:44.837698",
     "status": "completed"
    },
    "tags": []
   },
   "outputs": [
    {
     "data": {
      "text/plain": [
       "Counter({'S': 915, 'C': 270, 'Q': 123})"
      ]
     },
     "execution_count": 59,
     "metadata": {},
     "output_type": "execute_result"
    }
   ],
   "source": [
    "Counter(data['Embarked'])"
   ]
  },
  {
   "cell_type": "code",
   "execution_count": 60,
   "metadata": {
    "execution": {
     "iopub.execute_input": "2021-03-06T13:24:45.172859Z",
     "iopub.status.busy": "2021-03-06T13:24:45.169403Z",
     "iopub.status.idle": "2021-03-06T13:24:45.175136Z",
     "shell.execute_reply": "2021-03-06T13:24:45.175660Z"
    },
    "papermill": {
     "duration": 0.120294,
     "end_time": "2021-03-06T13:24:45.175832",
     "exception": false,
     "start_time": "2021-03-06T13:24:45.055538",
     "status": "completed"
    },
    "tags": []
   },
   "outputs": [],
   "source": [
    "data['Embarked'].replace(['S','C','Q'], [1,2,3], inplace=True)\n",
    "data['Embarked'] = data['Embarked'].astype('category')\n",
    "data = pd.get_dummies(data, columns=['Embarked'], prefix=\"Emb\")"
   ]
  },
  {
   "cell_type": "markdown",
   "metadata": {
    "papermill": {
     "duration": 0.102352,
     "end_time": "2021-03-06T13:24:45.381015",
     "exception": false,
     "start_time": "2021-03-06T13:24:45.278663",
     "status": "completed"
    },
    "tags": []
   },
   "source": [
    "## Pclass"
   ]
  },
  {
   "cell_type": "code",
   "execution_count": 61,
   "metadata": {
    "execution": {
     "iopub.execute_input": "2021-03-06T13:24:45.595932Z",
     "iopub.status.busy": "2021-03-06T13:24:45.594925Z",
     "iopub.status.idle": "2021-03-06T13:24:45.603134Z",
     "shell.execute_reply": "2021-03-06T13:24:45.603709Z"
    },
    "papermill": {
     "duration": 0.120331,
     "end_time": "2021-03-06T13:24:45.603887",
     "exception": false,
     "start_time": "2021-03-06T13:24:45.483556",
     "status": "completed"
    },
    "tags": []
   },
   "outputs": [],
   "source": [
    "data['Pclass'] = data['Pclass'].astype('category')\n",
    "data = pd.get_dummies(data, columns=['Pclass'], prefix='class')"
   ]
  },
  {
   "cell_type": "code",
   "execution_count": null,
   "metadata": {
    "papermill": {
     "duration": 0.103802,
     "end_time": "2021-03-06T13:24:45.811342",
     "exception": false,
     "start_time": "2021-03-06T13:24:45.707540",
     "status": "completed"
    },
    "tags": []
   },
   "outputs": [],
   "source": []
  },
  {
   "cell_type": "code",
   "execution_count": 62,
   "metadata": {
    "execution": {
     "iopub.execute_input": "2021-03-06T13:24:46.021677Z",
     "iopub.status.busy": "2021-03-06T13:24:46.020722Z",
     "iopub.status.idle": "2021-03-06T13:24:46.040253Z",
     "shell.execute_reply": "2021-03-06T13:24:46.039742Z"
    },
    "papermill": {
     "duration": 0.125683,
     "end_time": "2021-03-06T13:24:46.040397",
     "exception": false,
     "start_time": "2021-03-06T13:24:45.914714",
     "status": "completed"
    },
    "tags": []
   },
   "outputs": [
    {
     "name": "stdout",
     "output_type": "stream",
     "text": [
      "<class 'pandas.core.frame.DataFrame'>\n",
      "Int64Index: 1308 entries, 0 to 1308\n",
      "Data columns (total 59 columns):\n",
      " #   Column       Non-Null Count  Dtype  \n",
      "---  ------       --------------  -----  \n",
      " 0   PassengerId  1308 non-null   int64  \n",
      " 1   Survived     890 non-null    float64\n",
      " 2   Sex          1308 non-null   object \n",
      " 3   Age          1308 non-null   float64\n",
      " 4   SibSp        1308 non-null   int64  \n",
      " 5   Parch        1308 non-null   int64  \n",
      " 6   Fare         1308 non-null   float64\n",
      " 7   title_0      1308 non-null   uint8  \n",
      " 8   title_1      1308 non-null   uint8  \n",
      " 9   title_2      1308 non-null   uint8  \n",
      " 10  title_3      1308 non-null   uint8  \n",
      " 11  title_4      1308 non-null   uint8  \n",
      " 12  cab_1        1308 non-null   uint8  \n",
      " 13  cab_2        1308 non-null   uint8  \n",
      " 14  cab_3        1308 non-null   uint8  \n",
      " 15  cab_4        1308 non-null   uint8  \n",
      " 16  cab_5        1308 non-null   uint8  \n",
      " 17  cab_6        1308 non-null   uint8  \n",
      " 18  cab_7        1308 non-null   uint8  \n",
      " 19  ticket_A     1308 non-null   uint8  \n",
      " 20  ticket_A4    1308 non-null   uint8  \n",
      " 21  ticket_A5    1308 non-null   uint8  \n",
      " 22  ticket_AQ3   1308 non-null   uint8  \n",
      " 23  ticket_AQ4   1308 non-null   uint8  \n",
      " 24  ticket_AS    1308 non-null   uint8  \n",
      " 25  ticket_C     1308 non-null   uint8  \n",
      " 26  ticket_CA    1308 non-null   uint8  \n",
      " 27  ticket_CASO  1308 non-null   uint8  \n",
      " 28  ticket_FC    1308 non-null   uint8  \n",
      " 29  ticket_FCC   1308 non-null   uint8  \n",
      " 30  ticket_Fa    1308 non-null   uint8  \n",
      " 31  ticket_LINE  1308 non-null   uint8  \n",
      " 32  ticket_LP    1308 non-null   uint8  \n",
      " 33  ticket_NUM   1308 non-null   uint8  \n",
      " 34  ticket_PC    1308 non-null   uint8  \n",
      " 35  ticket_PP    1308 non-null   uint8  \n",
      " 36  ticket_PPP   1308 non-null   uint8  \n",
      " 37  ticket_SC    1308 non-null   uint8  \n",
      " 38  ticket_SCA3  1308 non-null   uint8  \n",
      " 39  ticket_SCA4  1308 non-null   uint8  \n",
      " 40  ticket_SCAH  1308 non-null   uint8  \n",
      " 41  ticket_SCOW  1308 non-null   uint8  \n",
      " 42  ticket_SCPA  1308 non-null   uint8  \n",
      " 43  ticket_SCPa  1308 non-null   uint8  \n",
      " 44  ticket_SOC   1308 non-null   uint8  \n",
      " 45  ticket_SOP   1308 non-null   uint8  \n",
      " 46  ticket_SOPP  1308 non-null   uint8  \n",
      " 47  ticket_SOTO  1308 non-null   uint8  \n",
      " 48  ticket_SP    1308 non-null   uint8  \n",
      " 49  ticket_STON  1308 non-null   uint8  \n",
      " 50  ticket_SWPP  1308 non-null   uint8  \n",
      " 51  ticket_WC    1308 non-null   uint8  \n",
      " 52  ticket_WEP   1308 non-null   uint8  \n",
      " 53  Emb_1        1308 non-null   uint8  \n",
      " 54  Emb_2        1308 non-null   uint8  \n",
      " 55  Emb_3        1308 non-null   uint8  \n",
      " 56  class_1      1308 non-null   uint8  \n",
      " 57  class_2      1308 non-null   uint8  \n",
      " 58  class_3      1308 non-null   uint8  \n",
      "dtypes: float64(3), int64(3), object(1), uint8(52)\n",
      "memory usage: 148.2+ KB\n"
     ]
    }
   ],
   "source": [
    "data.info()"
   ]
  },
  {
   "cell_type": "markdown",
   "metadata": {
    "papermill": {
     "duration": 0.103353,
     "end_time": "2021-03-06T13:24:46.247814",
     "exception": false,
     "start_time": "2021-03-06T13:24:46.144461",
     "status": "completed"
    },
    "tags": []
   },
   "source": [
    "## Family Size"
   ]
  },
  {
   "cell_type": "code",
   "execution_count": 63,
   "metadata": {
    "execution": {
     "iopub.execute_input": "2021-03-06T13:24:46.458934Z",
     "iopub.status.busy": "2021-03-06T13:24:46.457873Z",
     "iopub.status.idle": "2021-03-06T13:24:46.463642Z",
     "shell.execute_reply": "2021-03-06T13:24:46.464152Z"
    },
    "papermill": {
     "duration": 0.112937,
     "end_time": "2021-03-06T13:24:46.464328",
     "exception": false,
     "start_time": "2021-03-06T13:24:46.351391",
     "status": "completed"
    },
    "tags": []
   },
   "outputs": [],
   "source": [
    "data['family_size'] = data['SibSp'] + data['Parch'] + 1"
   ]
  },
  {
   "cell_type": "code",
   "execution_count": 64,
   "metadata": {
    "execution": {
     "iopub.execute_input": "2021-03-06T13:24:46.676876Z",
     "iopub.status.busy": "2021-03-06T13:24:46.675935Z",
     "iopub.status.idle": "2021-03-06T13:24:46.685063Z",
     "shell.execute_reply": "2021-03-06T13:24:46.684551Z"
    },
    "papermill": {
     "duration": 0.116894,
     "end_time": "2021-03-06T13:24:46.685205",
     "exception": false,
     "start_time": "2021-03-06T13:24:46.568311",
     "status": "completed"
    },
    "tags": []
   },
   "outputs": [],
   "source": [
    "def fam_size_calc(size):\n",
    "    \"\"\"Fucntions that returns a number based on the total number of persons in a family\"\"\"\n",
    "    \n",
    "    if size == 1:\n",
    "        return 0    \n",
    "    elif 1 < size <= 3:\n",
    "        return 1\n",
    "    elif 3 < size <= 5:\n",
    "        return 2\n",
    "    else:\n",
    "        return 3\n",
    "    \n",
    "# Applying the function\n",
    "data['family_size'] = data['family_size'].apply(fam_size_calc)"
   ]
  },
  {
   "cell_type": "code",
   "execution_count": 65,
   "metadata": {
    "execution": {
     "iopub.execute_input": "2021-03-06T13:24:46.900723Z",
     "iopub.status.busy": "2021-03-06T13:24:46.900068Z",
     "iopub.status.idle": "2021-03-06T13:24:46.902735Z",
     "shell.execute_reply": "2021-03-06T13:24:46.903195Z"
    },
    "papermill": {
     "duration": 0.11287,
     "end_time": "2021-03-06T13:24:46.903361",
     "exception": false,
     "start_time": "2021-03-06T13:24:46.790491",
     "status": "completed"
    },
    "tags": []
   },
   "outputs": [
    {
     "data": {
      "text/plain": [
       "Counter({1: 394, 0: 789, 2: 65, 3: 60})"
      ]
     },
     "execution_count": 65,
     "metadata": {},
     "output_type": "execute_result"
    }
   ],
   "source": [
    "Counter(data['family_size'])"
   ]
  },
  {
   "cell_type": "code",
   "execution_count": 66,
   "metadata": {
    "execution": {
     "iopub.execute_input": "2021-03-06T13:24:47.116389Z",
     "iopub.status.busy": "2021-03-06T13:24:47.115748Z",
     "iopub.status.idle": "2021-03-06T13:24:47.124045Z",
     "shell.execute_reply": "2021-03-06T13:24:47.124521Z"
    },
    "papermill": {
     "duration": 0.116713,
     "end_time": "2021-03-06T13:24:47.124700",
     "exception": false,
     "start_time": "2021-03-06T13:24:47.007987",
     "status": "completed"
    },
    "tags": []
   },
   "outputs": [],
   "source": [
    "data = pd.get_dummies(data, columns=['family_size'], prefix=\"fsize\")"
   ]
  },
  {
   "cell_type": "code",
   "execution_count": 67,
   "metadata": {
    "execution": {
     "iopub.execute_input": "2021-03-06T13:24:47.336628Z",
     "iopub.status.busy": "2021-03-06T13:24:47.336009Z",
     "iopub.status.idle": "2021-03-06T13:24:48.470845Z",
     "shell.execute_reply": "2021-03-06T13:24:48.470291Z"
    },
    "papermill": {
     "duration": 1.241933,
     "end_time": "2021-03-06T13:24:48.470985",
     "exception": false,
     "start_time": "2021-03-06T13:24:47.229052",
     "status": "completed"
    },
    "tags": []
   },
   "outputs": [
    {
     "data": {
      "image/png": "[encoded data removed]",
      "text/plain": [
       "<Figure size 216x216 with 1 Axes>"
      ]
     },
     "metadata": {},
     "output_type": "display_data"
    },
    {
     "data": {
      "image/png": "[encoded data removed]",
      "text/plain": [
       "<Figure size 216x216 with 1 Axes>"
      ]
     },
     "metadata": {},
     "output_type": "display_data"
    },
    {
     "data": {
      "image/png": "[encoded data removed]",
      "text/plain": [
       "<Figure size 216x216 with 1 Axes>"
      ]
     },
     "metadata": {},
     "output_type": "display_data"
    },
    {
     "data": {
      "image/png": "[encoded data removed]",
      "text/plain": [
       "<Figure size 216x216 with 1 Axes>"
      ]
     },
     "metadata": {},
     "output_type": "display_data"
    }
   ],
   "source": [
    "sns.factorplot('fsize_0', 'Survived', data=data, kind='bar', size=3, palette='viridis');\n",
    "sns.factorplot('fsize_1', 'Survived', data=data, kind='bar', size=3, palette='viridis');\n",
    "sns.factorplot('fsize_2', 'Survived', data=data, kind='bar', size=3, palette='viridis');\n",
    "sns.factorplot('fsize_3', 'Survived', data=data, kind='bar', size=3, palette='viridis');"
   ]
  },
  {
   "cell_type": "markdown",
   "metadata": {
    "papermill": {
     "duration": 0.108158,
     "end_time": "2021-03-06T13:24:48.689159",
     "exception": false,
     "start_time": "2021-03-06T13:24:48.581001",
     "status": "completed"
    },
    "tags": []
   },
   "source": [
    "## Sex"
   ]
  },
  {
   "cell_type": "code",
   "execution_count": 68,
   "metadata": {
    "execution": {
     "iopub.execute_input": "2021-03-06T13:24:48.912576Z",
     "iopub.status.busy": "2021-03-06T13:24:48.910369Z",
     "iopub.status.idle": "2021-03-06T13:24:48.917372Z",
     "shell.execute_reply": "2021-03-06T13:24:48.916861Z"
    },
    "papermill": {
     "duration": 0.12019,
     "end_time": "2021-03-06T13:24:48.917531",
     "exception": false,
     "start_time": "2021-03-06T13:24:48.797341",
     "status": "completed"
    },
    "tags": []
   },
   "outputs": [],
   "source": [
    "data = pd.get_dummies(data, columns=['Sex'])"
   ]
  },
  {
   "cell_type": "markdown",
   "metadata": {
    "papermill": {
     "duration": 0.108171,
     "end_time": "2021-03-06T13:24:49.135035",
     "exception": false,
     "start_time": "2021-03-06T13:24:49.026864",
     "status": "completed"
    },
    "tags": []
   },
   "source": [
    "### Dropping unwanted columns"
   ]
  },
  {
   "cell_type": "code",
   "execution_count": 69,
   "metadata": {
    "execution": {
     "iopub.execute_input": "2021-03-06T13:24:49.355267Z",
     "iopub.status.busy": "2021-03-06T13:24:49.354679Z",
     "iopub.status.idle": "2021-03-06T13:24:49.359936Z",
     "shell.execute_reply": "2021-03-06T13:24:49.359164Z"
    },
    "papermill": {
     "duration": 0.117636,
     "end_time": "2021-03-06T13:24:49.360096",
     "exception": false,
     "start_time": "2021-03-06T13:24:49.242460",
     "status": "completed"
    },
    "tags": []
   },
   "outputs": [],
   "source": [
    "data.drop('PassengerId', inplace=True, axis=1)"
   ]
  },
  {
   "cell_type": "code",
   "execution_count": 70,
   "metadata": {
    "execution": {
     "iopub.execute_input": "2021-03-06T13:24:49.602478Z",
     "iopub.status.busy": "2021-03-06T13:24:49.601487Z",
     "iopub.status.idle": "2021-03-06T13:24:49.606943Z",
     "shell.execute_reply": "2021-03-06T13:24:49.606139Z"
    },
    "papermill": {
     "duration": 0.137879,
     "end_time": "2021-03-06T13:24:49.607167",
     "exception": false,
     "start_time": "2021-03-06T13:24:49.469288",
     "status": "completed"
    },
    "tags": []
   },
   "outputs": [
    {
     "name": "stdout",
     "output_type": "stream",
     "text": [
      "<class 'pandas.core.frame.DataFrame'>\n",
      "Int64Index: 1308 entries, 0 to 1308\n",
      "Data columns (total 63 columns):\n",
      " #   Column       Non-Null Count  Dtype  \n",
      "---  ------       --------------  -----  \n",
      " 0   Survived     890 non-null    float64\n",
      " 1   Age          1308 non-null   float64\n",
      " 2   SibSp        1308 non-null   int64  \n",
      " 3   Parch        1308 non-null   int64  \n",
      " 4   Fare         1308 non-null   float64\n",
      " 5   title_0      1308 non-null   uint8  \n",
      " 6   title_1      1308 non-null   uint8  \n",
      " 7   title_2      1308 non-null   uint8  \n",
      " 8   title_3      1308 non-null   uint8  \n",
      " 9   title_4      1308 non-null   uint8  \n",
      " 10  cab_1        1308 non-null   uint8  \n",
      " 11  cab_2        1308 non-null   uint8  \n",
      " 12  cab_3        1308 non-null   uint8  \n",
      " 13  cab_4        1308 non-null   uint8  \n",
      " 14  cab_5        1308 non-null   uint8  \n",
      " 15  cab_6        1308 non-null   uint8  \n",
      " 16  cab_7        1308 non-null   uint8  \n",
      " 17  ticket_A     1308 non-null   uint8  \n",
      " 18  ticket_A4    1308 non-null   uint8  \n",
      " 19  ticket_A5    1308 non-null   uint8  \n",
      " 20  ticket_AQ3   1308 non-null   uint8  \n",
      " 21  ticket_AQ4   1308 non-null   uint8  \n",
      " 22  ticket_AS    1308 non-null   uint8  \n",
      " 23  ticket_C     1308 non-null   uint8  \n",
      " 24  ticket_CA    1308 non-null   uint8  \n",
      " 25  ticket_CASO  1308 non-null   uint8  \n",
      " 26  ticket_FC    1308 non-null   uint8  \n",
      " 27  ticket_FCC   1308 non-null   uint8  \n",
      " 28  ticket_Fa    1308 non-null   uint8  \n",
      " 29  ticket_LINE  1308 non-null   uint8  \n",
      " 30  ticket_LP    1308 non-null   uint8  \n",
      " 31  ticket_NUM   1308 non-null   uint8  \n",
      " 32  ticket_PC    1308 non-null   uint8  \n",
      " 33  ticket_PP    1308 non-null   uint8  \n",
      " 34  ticket_PPP   1308 non-null   uint8  \n",
      " 35  ticket_SC    1308 non-null   uint8  \n",
      " 36  ticket_SCA3  1308 non-null   uint8  \n",
      " 37  ticket_SCA4  1308 non-null   uint8  \n",
      " 38  ticket_SCAH  1308 non-null   uint8  \n",
      " 39  ticket_SCOW  1308 non-null   uint8  \n",
      " 40  ticket_SCPA  1308 non-null   uint8  \n",
      " 41  ticket_SCPa  1308 non-null   uint8  \n",
      " 42  ticket_SOC   1308 non-null   uint8  \n",
      " 43  ticket_SOP   1308 non-null   uint8  \n",
      " 44  ticket_SOPP  1308 non-null   uint8  \n",
      " 45  ticket_SOTO  1308 non-null   uint8  \n",
      " 46  ticket_SP    1308 non-null   uint8  \n",
      " 47  ticket_STON  1308 non-null   uint8  \n",
      " 48  ticket_SWPP  1308 non-null   uint8  \n",
      " 49  ticket_WC    1308 non-null   uint8  \n",
      " 50  ticket_WEP   1308 non-null   uint8  \n",
      " 51  Emb_1        1308 non-null   uint8  \n",
      " 52  Emb_2        1308 non-null   uint8  \n",
      " 53  Emb_3        1308 non-null   uint8  \n",
      " 54  class_1      1308 non-null   uint8  \n",
      " 55  class_2      1308 non-null   uint8  \n",
      " 56  class_3      1308 non-null   uint8  \n",
      " 57  fsize_0      1308 non-null   uint8  \n",
      " 58  fsize_1      1308 non-null   uint8  \n",
      " 59  fsize_2      1308 non-null   uint8  \n",
      " 60  fsize_3      1308 non-null   uint8  \n",
      " 61  Sex_female   1308 non-null   uint8  \n",
      " 62  Sex_male     1308 non-null   uint8  \n",
      "dtypes: float64(3), int64(2), uint8(58)\n",
      "memory usage: 175.4 KB\n"
     ]
    }
   ],
   "source": [
    "data.info()"
   ]
  },
  {
   "cell_type": "code",
   "execution_count": 71,
   "metadata": {
    "execution": {
     "iopub.execute_input": "2021-03-06T13:24:49.858054Z",
     "iopub.status.busy": "2021-03-06T13:24:49.857017Z",
     "iopub.status.idle": "2021-03-06T13:24:49.861312Z",
     "shell.execute_reply": "2021-03-06T13:24:49.860809Z"
    },
    "papermill": {
     "duration": 0.120551,
     "end_time": "2021-03-06T13:24:49.861477",
     "exception": false,
     "start_time": "2021-03-06T13:24:49.740926",
     "status": "completed"
    },
    "tags": []
   },
   "outputs": [],
   "source": [
    "train = data[(pd.notnull(data['Survived']))]\n",
    "\n",
    "test = data[(pd.isnull(data['Survived']))]"
   ]
  },
  {
   "cell_type": "code",
   "execution_count": 72,
   "metadata": {
    "execution": {
     "iopub.execute_input": "2021-03-06T13:24:50.086583Z",
     "iopub.status.busy": "2021-03-06T13:24:50.084815Z",
     "iopub.status.idle": "2021-03-06T13:24:50.090717Z",
     "shell.execute_reply": "2021-03-06T13:24:50.091209Z"
    },
    "papermill": {
     "duration": 0.121346,
     "end_time": "2021-03-06T13:24:50.091384",
     "exception": false,
     "start_time": "2021-03-06T13:24:49.970038",
     "status": "completed"
    },
    "tags": []
   },
   "outputs": [
    {
     "data": {
      "text/plain": [
       "(418, 62)"
      ]
     },
     "execution_count": 72,
     "metadata": {},
     "output_type": "execute_result"
    }
   ],
   "source": [
    "test.dropna(axis=1, inplace=True)\n",
    "test.shape"
   ]
  },
  {
   "cell_type": "code",
   "execution_count": 73,
   "metadata": {
    "execution": {
     "iopub.execute_input": "2021-03-06T13:24:50.361312Z",
     "iopub.status.busy": "2021-03-06T13:24:50.360694Z",
     "iopub.status.idle": "2021-03-06T13:24:50.365620Z",
     "shell.execute_reply": "2021-03-06T13:24:50.366116Z"
    },
    "papermill": {
     "duration": 0.165672,
     "end_time": "2021-03-06T13:24:50.366279",
     "exception": false,
     "start_time": "2021-03-06T13:24:50.200607",
     "status": "completed"
    },
    "tags": []
   },
   "outputs": [],
   "source": [
    "# Splitting into Features and Label\n",
    "\n",
    "y = train['Survived']\n",
    "X = train.drop('Survived', axis=1)"
   ]
  },
  {
   "cell_type": "markdown",
   "metadata": {
    "papermill": {
     "duration": 0.10821,
     "end_time": "2021-03-06T13:24:50.582635",
     "exception": false,
     "start_time": "2021-03-06T13:24:50.474425",
     "status": "completed"
    },
    "tags": []
   },
   "source": [
    "**We are done with the data preprocessing**"
   ]
  },
  {
   "cell_type": "markdown",
   "metadata": {
    "papermill": {
     "duration": 0.117908,
     "end_time": "2021-03-06T13:24:50.809228",
     "exception": false,
     "start_time": "2021-03-06T13:24:50.691320",
     "status": "completed"
    },
    "tags": []
   },
   "source": [
    "# Modelling"
   ]
  },
  {
   "cell_type": "code",
   "execution_count": 74,
   "metadata": {
    "execution": {
     "iopub.execute_input": "2021-03-06T13:24:51.053816Z",
     "iopub.status.busy": "2021-03-06T13:24:51.053136Z",
     "iopub.status.idle": "2021-03-06T13:24:51.862538Z",
     "shell.execute_reply": "2021-03-06T13:24:51.861704Z"
    },
    "papermill": {
     "duration": 0.932103,
     "end_time": "2021-03-06T13:24:51.862703",
     "exception": false,
     "start_time": "2021-03-06T13:24:50.930600",
     "status": "completed"
    },
    "tags": []
   },
   "outputs": [],
   "source": [
    "from sklearn.metrics import classification_report, confusion_matrix, roc_auc_score, roc_curve \n",
    "from sklearn.linear_model import LogisticRegression\n",
    "from sklearn.tree import DecisionTreeClassifier\n",
    "from sklearn.ensemble import RandomForestClassifier, AdaBoostClassifier, GradientBoostingClassifier, VotingClassifier\n",
    "from xgboost import XGBClassifier\n",
    "from sklearn.neural_network import MLPClassifier\n",
    "from sklearn.svm import SVC\n",
    "from sklearn.neighbors import KNeighborsClassifier\n",
    "from sklearn.model_selection import StratifiedKFold, GridSearchCV, learning_curve, cross_val_score"
   ]
  },
  {
   "cell_type": "code",
   "execution_count": 75,
   "metadata": {
    "execution": {
     "iopub.execute_input": "2021-03-06T13:24:52.089817Z",
     "iopub.status.busy": "2021-03-06T13:24:52.089191Z",
     "iopub.status.idle": "2021-03-06T13:24:52.092450Z",
     "shell.execute_reply": "2021-03-06T13:24:52.091875Z"
    },
    "papermill": {
     "duration": 0.118923,
     "end_time": "2021-03-06T13:24:52.092593",
     "exception": false,
     "start_time": "2021-03-06T13:24:51.973670",
     "status": "completed"
    },
    "tags": []
   },
   "outputs": [],
   "source": [
    "kfold = StratifiedKFold(n_splits=15)"
   ]
  },
  {
   "cell_type": "code",
   "execution_count": 76,
   "metadata": {
    "execution": {
     "iopub.execute_input": "2021-03-06T13:24:52.315815Z",
     "iopub.status.busy": "2021-03-06T13:24:52.314898Z",
     "iopub.status.idle": "2021-03-06T13:24:52.321347Z",
     "shell.execute_reply": "2021-03-06T13:24:52.321811Z"
    },
    "papermill": {
     "duration": 0.120165,
     "end_time": "2021-03-06T13:24:52.321983",
     "exception": false,
     "start_time": "2021-03-06T13:24:52.201818",
     "status": "completed"
    },
    "tags": []
   },
   "outputs": [],
   "source": [
    "r_state=100\n",
    "\n",
    "log_reg = LogisticRegression(random_state=r_state)\n",
    "rfc = RandomForestClassifier(random_state=r_state)\n",
    "dec_tree = DecisionTreeClassifier(random_state=r_state)\n",
    "ada = AdaBoostClassifier(random_state=r_state)\n",
    "grad_b = GradientBoostingClassifier(random_state=r_state)\n",
    "xgb = XGBClassifier(random_state=r_state)\n",
    "mlp = MLPClassifier(random_state=r_state)\n",
    "svc = SVC(random_state=r_state)\n",
    "knn = KNeighborsClassifier()\n",
    "\n",
    "algorithms = [log_reg, rfc, dec_tree, ada, grad_b, xgb, mlp, svc, knn]"
   ]
  },
  {
   "cell_type": "code",
   "execution_count": 77,
   "metadata": {
    "execution": {
     "iopub.execute_input": "2021-03-06T13:24:52.544869Z",
     "iopub.status.busy": "2021-03-06T13:24:52.543917Z",
     "iopub.status.idle": "2021-03-06T13:29:02.275484Z",
     "shell.execute_reply": "2021-03-06T13:29:02.274276Z"
    },
    "papermill": {
     "duration": 249.844407,
     "end_time": "2021-03-06T13:29:02.275656",
     "exception": false,
     "start_time": "2021-03-06T13:24:52.431249",
     "status": "completed"
    },
    "tags": []
   },
   "outputs": [],
   "source": [
    "cv_res =[]\n",
    "\n",
    "for algo in algorithms:\n",
    "    cv_res.append(cross_val_score(algo, X, y, cv=kfold, scoring='accuracy', n_jobs=4))\n",
    "    \n",
    "cv_mean, cv_std = [], []\n",
    "\n",
    "for result in cv_res:\n",
    "    cv_mean.append(result.mean())\n",
    "    cv_std.append(result.std())\n",
    "    \n",
    "algorithm =[\"Logistic Regression\", \"Random Forest\", \"Decision Tree\", \"AdaBoost\", \"Gradient Boost\", \"XGBoost\", \"MLP\", \"SVM\", \"Nearest Neighbor\"]\n",
    "\n",
    "cv_result = pd.DataFrame({\"Algorithms\":algorithm, \"Mean\":cv_mean, \"Standard Deviation\":cv_std})"
   ]
  },
  {
   "cell_type": "code",
   "execution_count": 78,
   "metadata": {
    "execution": {
     "iopub.execute_input": "2021-03-06T13:29:02.503057Z",
     "iopub.status.busy": "2021-03-06T13:29:02.502046Z",
     "iopub.status.idle": "2021-03-06T13:29:02.505236Z",
     "shell.execute_reply": "2021-03-06T13:29:02.504760Z"
    },
    "papermill": {
     "duration": 0.119149,
     "end_time": "2021-03-06T13:29:02.505386",
     "exception": false,
     "start_time": "2021-03-06T13:29:02.386237",
     "status": "completed"
    },
    "tags": []
   },
   "outputs": [],
   "source": [
    "cv_result = cv_result.sort_values(by='Mean', ascending=False)"
   ]
  },
  {
   "cell_type": "code",
   "execution_count": 79,
   "metadata": {
    "execution": {
     "iopub.execute_input": "2021-03-06T13:29:02.755192Z",
     "iopub.status.busy": "2021-03-06T13:29:02.754224Z",
     "iopub.status.idle": "2021-03-06T13:29:03.000465Z",
     "shell.execute_reply": "2021-03-06T13:29:02.999657Z"
    },
    "papermill": {
     "duration": 0.380258,
     "end_time": "2021-03-06T13:29:03.000614",
     "exception": false,
     "start_time": "2021-03-06T13:29:02.620356",
     "status": "completed"
    },
    "tags": []
   },
   "outputs": [
    {
     "data": {
      "image/png": "[encoded data removed]",
      "text/plain": [
       "<Figure size 1296x360 with 1 Axes>"
      ]
     },
     "metadata": {},
     "output_type": "display_data"
    }
   ],
   "source": [
    "plt.figure(figsize=(18,5))\n",
    "sns.barplot( \"Mean\", \"Algorithms\",  data=cv_result, palette='viridis', orient='h',**{'xerr':cv_std});"
   ]
  },
  {
   "cell_type": "markdown",
   "metadata": {
    "papermill": {
     "duration": 0.111365,
     "end_time": "2021-03-06T13:29:03.226207",
     "exception": false,
     "start_time": "2021-03-06T13:29:03.114842",
     "status": "completed"
    },
    "tags": []
   },
   "source": [
    "We will take Gradient Boost, Random Forest, MLP, Logistic Regression, SVM and Nearest Neighbor for short-listing for ensembling"
   ]
  },
  {
   "cell_type": "markdown",
   "metadata": {
    "papermill": {
     "duration": 0.111039,
     "end_time": "2021-03-06T13:29:03.448390",
     "exception": false,
     "start_time": "2021-03-06T13:29:03.337351",
     "status": "completed"
    },
    "tags": []
   },
   "source": [
    "### *Hyperparameter Tuning*"
   ]
  },
  {
   "cell_type": "markdown",
   "metadata": {
    "papermill": {
     "duration": 0.111438,
     "end_time": "2021-03-06T13:29:03.671151",
     "exception": false,
     "start_time": "2021-03-06T13:29:03.559713",
     "status": "completed"
    },
    "tags": []
   },
   "source": [
    "#### 1. Gradient Boosting Classifier"
   ]
  },
  {
   "cell_type": "code",
   "execution_count": 80,
   "metadata": {
    "execution": {
     "iopub.execute_input": "2021-03-06T13:29:03.898257Z",
     "iopub.status.busy": "2021-03-06T13:29:03.897574Z",
     "iopub.status.idle": "2021-03-06T13:47:52.118395Z",
     "shell.execute_reply": "2021-03-06T13:47:52.118912Z"
    },
    "papermill": {
     "duration": 1128.336279,
     "end_time": "2021-03-06T13:47:52.119115",
     "exception": false,
     "start_time": "2021-03-06T13:29:03.782836",
     "status": "completed"
    },
    "tags": []
   },
   "outputs": [
    {
     "name": "stdout",
     "output_type": "stream",
     "text": [
      "Fitting 15 folds for each of 192 candidates, totalling 2880 fits\n"
     ]
    },
    {
     "name": "stderr",
     "output_type": "stream",
     "text": [
      "[Parallel(n_jobs=-1)]: Using backend LokyBackend with 4 concurrent workers.\n",
      "[Parallel(n_jobs=-1)]: Done  33 tasks      | elapsed:    3.5s\n",
      "[Parallel(n_jobs=-1)]: Done 154 tasks      | elapsed:   43.2s\n",
      "[Parallel(n_jobs=-1)]: Done 357 tasks      | elapsed:  2.3min\n",
      "[Parallel(n_jobs=-1)]: Done 640 tasks      | elapsed:  4.0min\n",
      "[Parallel(n_jobs=-1)]: Done 1005 tasks      | elapsed:  6.8min\n",
      "[Parallel(n_jobs=-1)]: Done 1450 tasks      | elapsed: 10.1min\n",
      "[Parallel(n_jobs=-1)]: Done 1977 tasks      | elapsed: 13.7min\n",
      "[Parallel(n_jobs=-1)]: Done 2584 tasks      | elapsed: 17.7min\n",
      "[Parallel(n_jobs=-1)]: Done 2880 out of 2880 | elapsed: 20.6min finished\n"
     ]
    }
   ],
   "source": [
    "grad_b = GradientBoostingClassifier()\n",
    "\n",
    "grad_b_params = {\"loss\":['deviance','exponential'],\n",
    "                 \"learning_rate\":[0.001, 0.01, 0.1],\n",
    "                 \"n_estimators\":[100, 200, 300, 1000],\n",
    "                 \"subsample\":[0.75, 1.0],\n",
    "                 \"min_samples_split\":[2, 3],    \n",
    "                 \"max_depth\":[3, 5]}\n",
    "\n",
    "grid_GradBoost = GridSearchCV(grad_b, param_grid=grad_b_params, cv=kfold, scoring='accuracy', n_jobs=-1, verbose=2)\n",
    "\n",
    "grid_GradBoost.fit(X, y)\n",
    "\n",
    "grid_GradBoost_est = grid_GradBoost.best_estimator_\n",
    "\n",
    "grid_GradBoost_score = grid_GradBoost.best_score_"
   ]
  },
  {
   "cell_type": "code",
   "execution_count": 81,
   "metadata": {
    "execution": {
     "iopub.execute_input": "2021-03-06T13:47:52.356985Z",
     "iopub.status.busy": "2021-03-06T13:47:52.356360Z",
     "iopub.status.idle": "2021-03-06T13:47:52.360733Z",
     "shell.execute_reply": "2021-03-06T13:47:52.359825Z"
    },
    "papermill": {
     "duration": 0.124044,
     "end_time": "2021-03-06T13:47:52.360922",
     "exception": false,
     "start_time": "2021-03-06T13:47:52.236878",
     "status": "completed"
    },
    "tags": []
   },
   "outputs": [
    {
     "name": "stdout",
     "output_type": "stream",
     "text": [
      "0.8485310734463276\n"
     ]
    }
   ],
   "source": [
    "print(grid_GradBoost_score)"
   ]
  },
  {
   "cell_type": "markdown",
   "metadata": {
    "papermill": {
     "duration": 0.114356,
     "end_time": "2021-03-06T13:47:52.821592",
     "exception": false,
     "start_time": "2021-03-06T13:47:52.707236",
     "status": "completed"
    },
    "tags": []
   },
   "source": [
    " #### 2. Random Forest Classifier"
   ]
  },
  {
   "cell_type": "code",
   "execution_count": 82,
   "metadata": {
    "execution": {
     "iopub.execute_input": "2021-03-06T13:47:53.060645Z",
     "iopub.status.busy": "2021-03-06T13:47:53.059535Z",
     "iopub.status.idle": "2021-03-06T13:52:08.187355Z",
     "shell.execute_reply": "2021-03-06T13:52:08.187902Z"
    },
    "papermill": {
     "duration": 255.251578,
     "end_time": "2021-03-06T13:52:08.188098",
     "exception": false,
     "start_time": "2021-03-06T13:47:52.936520",
     "status": "completed"
    },
    "tags": []
   },
   "outputs": [
    {
     "name": "stdout",
     "output_type": "stream",
     "text": [
      "Fitting 15 folds for each of 96 candidates, totalling 1440 fits\n"
     ]
    },
    {
     "name": "stderr",
     "output_type": "stream",
     "text": [
      "[Parallel(n_jobs=-1)]: Using backend LokyBackend with 4 concurrent workers.\n",
      "[Parallel(n_jobs=-1)]: Done  42 tasks      | elapsed:    8.0s\n",
      "[Parallel(n_jobs=-1)]: Done 192 tasks      | elapsed:   34.2s\n",
      "[Parallel(n_jobs=-1)]: Done 442 tasks      | elapsed:  1.3min\n",
      "[Parallel(n_jobs=-1)]: Done 792 tasks      | elapsed:  2.5min\n",
      "[Parallel(n_jobs=-1)]: Done 1242 tasks      | elapsed:  3.9min\n",
      "[Parallel(n_jobs=-1)]: Done 1440 out of 1440 | elapsed:  4.6min finished\n"
     ]
    }
   ],
   "source": [
    "rfc = RandomForestClassifier()\n",
    "\n",
    "rfc_params= {'n_estimators':[100, 200, 300],\n",
    "             'criterion':['gini','entropy'],\n",
    "             'max_depth':[5,7],                             \n",
    "             'min_samples_split':[2,3],\n",
    "             'min_samples_leaf':[2,3],\n",
    "             'max_features':['auto',\"sqrt\"]}\n",
    "\n",
    "grid_rfc = GridSearchCV(rfc, param_grid=rfc_params, cv=kfold, scoring='accuracy', n_jobs=-1, verbose=1)\n",
    "\n",
    "grid_rfc.fit(X, y)\n",
    "\n",
    "grid_rfc_est = grid_rfc.best_estimator_\n",
    "\n",
    "grid_rfc_score = grid_rfc.best_score_\n"
   ]
  },
  {
   "cell_type": "code",
   "execution_count": 83,
   "metadata": {
    "execution": {
     "iopub.execute_input": "2021-03-06T13:52:08.429315Z",
     "iopub.status.busy": "2021-03-06T13:52:08.428459Z",
     "iopub.status.idle": "2021-03-06T13:52:08.431709Z",
     "shell.execute_reply": "2021-03-06T13:52:08.432201Z"
    },
    "papermill": {
     "duration": 0.12582,
     "end_time": "2021-03-06T13:52:08.432379",
     "exception": false,
     "start_time": "2021-03-06T13:52:08.306559",
     "status": "completed"
    },
    "tags": []
   },
   "outputs": [
    {
     "name": "stdout",
     "output_type": "stream",
     "text": [
      "0.8327118644067796\n"
     ]
    }
   ],
   "source": [
    "print(grid_rfc_score)"
   ]
  },
  {
   "cell_type": "markdown",
   "metadata": {
    "papermill": {
     "duration": 0.117003,
     "end_time": "2021-03-06T13:52:08.940663",
     "exception": false,
     "start_time": "2021-03-06T13:52:08.823660",
     "status": "completed"
    },
    "tags": []
   },
   "source": [
    "#### 3. MLP Classifier"
   ]
  },
  {
   "cell_type": "code",
   "execution_count": 84,
   "metadata": {
    "execution": {
     "iopub.execute_input": "2021-03-06T13:52:09.185203Z",
     "iopub.status.busy": "2021-03-06T13:52:09.184505Z",
     "iopub.status.idle": "2021-03-06T13:54:02.650271Z",
     "shell.execute_reply": "2021-03-06T13:54:02.649653Z"
    },
    "papermill": {
     "duration": 113.592136,
     "end_time": "2021-03-06T13:54:02.650419",
     "exception": false,
     "start_time": "2021-03-06T13:52:09.058283",
     "status": "completed"
    },
    "tags": []
   },
   "outputs": [
    {
     "name": "stdout",
     "output_type": "stream",
     "text": [
      "Fitting 15 folds for each of 24 candidates, totalling 360 fits\n"
     ]
    },
    {
     "name": "stderr",
     "output_type": "stream",
     "text": [
      "[Parallel(n_jobs=-1)]: Using backend LokyBackend with 4 concurrent workers.\n",
      "[Parallel(n_jobs=-1)]: Done  66 tasks      | elapsed:   10.8s\n",
      "[Parallel(n_jobs=-1)]: Done 216 tasks      | elapsed:   43.3s\n",
      "[Parallel(n_jobs=-1)]: Done 360 out of 360 | elapsed:   54.7s finished\n"
     ]
    }
   ],
   "source": [
    "mlp  = MLPClassifier()\n",
    "\n",
    "mlp_params = {\"hidden_layer_sizes\":[(100,),(100,100), (100,100,100)],\n",
    "              \"activation\":['relu','logistic'],\n",
    "              \"alpha\":[0.0001, 0.001],    \n",
    "              \"learning_rate\":['constant','adaptive'],\n",
    "              \"learning_rate_init\":[0.0001],\n",
    "              \"early_stopping\":[True]}\n",
    "\n",
    "grid_mlp = GridSearchCV(mlp, param_grid=mlp_params, cv=kfold, scoring='accuracy', n_jobs=-1, verbose=1)\n",
    "\n",
    "grid_mlp.fit(X, y)\n",
    "\n",
    "grid_mlp_est = grid_rfc.best_estimator_\n",
    "\n",
    "grid_mlp_score = grid_rfc.best_score_\n"
   ]
  },
  {
   "cell_type": "code",
   "execution_count": 85,
   "metadata": {
    "execution": {
     "iopub.execute_input": "2021-03-06T13:54:02.896708Z",
     "iopub.status.busy": "2021-03-06T13:54:02.896043Z",
     "iopub.status.idle": "2021-03-06T13:54:02.903287Z",
     "shell.execute_reply": "2021-03-06T13:54:02.901956Z"
    },
    "papermill": {
     "duration": 0.131689,
     "end_time": "2021-03-06T13:54:02.903500",
     "exception": false,
     "start_time": "2021-03-06T13:54:02.771811",
     "status": "completed"
    },
    "tags": []
   },
   "outputs": [
    {
     "name": "stdout",
     "output_type": "stream",
     "text": [
      "0.8327118644067796\n"
     ]
    }
   ],
   "source": [
    "print(grid_mlp_score)"
   ]
  },
  {
   "cell_type": "markdown",
   "metadata": {
    "papermill": {
     "duration": 0.121973,
     "end_time": "2021-03-06T13:54:03.389428",
     "exception": false,
     "start_time": "2021-03-06T13:54:03.267455",
     "status": "completed"
    },
    "tags": []
   },
   "source": [
    "#### 4. Logistic Regression"
   ]
  },
  {
   "cell_type": "code",
   "execution_count": 86,
   "metadata": {
    "execution": {
     "iopub.execute_input": "2021-03-06T13:54:03.634876Z",
     "iopub.status.busy": "2021-03-06T13:54:03.633920Z",
     "iopub.status.idle": "2021-03-06T13:54:12.929927Z",
     "shell.execute_reply": "2021-03-06T13:54:12.929258Z"
    },
    "papermill": {
     "duration": 9.419682,
     "end_time": "2021-03-06T13:54:12.930068",
     "exception": false,
     "start_time": "2021-03-06T13:54:03.510386",
     "status": "completed"
    },
    "tags": []
   },
   "outputs": [
    {
     "name": "stdout",
     "output_type": "stream",
     "text": [
      "Fitting 15 folds for each of 64 candidates, totalling 960 fits\n"
     ]
    },
    {
     "name": "stderr",
     "output_type": "stream",
     "text": [
      "[Parallel(n_jobs=-1)]: Using backend LokyBackend with 4 concurrent workers.\n",
      "[Parallel(n_jobs=-1)]: Done 280 tasks      | elapsed:    1.9s\n",
      "[Parallel(n_jobs=-1)]: Done 960 out of 960 | elapsed:    8.4s finished\n"
     ]
    }
   ],
   "source": [
    "log_reg = LogisticRegression()\n",
    "\n",
    "logreg_params ={\"penalty\":['l1','l2'],    \n",
    "                \"tol\":[0.0001,0.001],\n",
    "                \"C\":[0.1, 1.0,10, 100],\n",
    "                \"fit_intercept\":[True, False],\n",
    "                \"solver\":['liblinear','lbfgs']}\n",
    "\n",
    "grid_logreg = GridSearchCV(log_reg, param_grid=logreg_params, cv=kfold, scoring='accuracy', n_jobs=-1, verbose=1)\n",
    "\n",
    "grid_logreg.fit(X, y)\n",
    "\n",
    "grid_logreg_est = grid_logreg.best_estimator_\n",
    "\n",
    "grid_logreg_score = grid_logreg.best_score_\n"
   ]
  },
  {
   "cell_type": "code",
   "execution_count": 87,
   "metadata": {
    "execution": {
     "iopub.execute_input": "2021-03-06T13:54:13.178139Z",
     "iopub.status.busy": "2021-03-06T13:54:13.177354Z",
     "iopub.status.idle": "2021-03-06T13:54:13.181264Z",
     "shell.execute_reply": "2021-03-06T13:54:13.180665Z"
    },
    "papermill": {
     "duration": 0.129736,
     "end_time": "2021-03-06T13:54:13.181396",
     "exception": false,
     "start_time": "2021-03-06T13:54:13.051660",
     "status": "completed"
    },
    "tags": []
   },
   "outputs": [
    {
     "name": "stdout",
     "output_type": "stream",
     "text": [
      "0.8258757062146891\n"
     ]
    }
   ],
   "source": [
    "print(grid_logreg_score)"
   ]
  },
  {
   "cell_type": "markdown",
   "metadata": {
    "papermill": {
     "duration": 0.122528,
     "end_time": "2021-03-06T13:54:13.425406",
     "exception": false,
     "start_time": "2021-03-06T13:54:13.302878",
     "status": "completed"
    },
    "tags": []
   },
   "source": [
    "#### 5. Support Vector Machine"
   ]
  },
  {
   "cell_type": "code",
   "execution_count": 88,
   "metadata": {
    "execution": {
     "iopub.execute_input": "2021-03-06T13:54:13.677132Z",
     "iopub.status.busy": "2021-03-06T13:54:13.676105Z",
     "iopub.status.idle": "2021-03-06T13:55:24.449351Z",
     "shell.execute_reply": "2021-03-06T13:55:24.448696Z"
    },
    "papermill": {
     "duration": 70.902446,
     "end_time": "2021-03-06T13:55:24.449528",
     "exception": false,
     "start_time": "2021-03-06T13:54:13.547082",
     "status": "completed"
    },
    "tags": []
   },
   "outputs": [
    {
     "name": "stderr",
     "output_type": "stream",
     "text": [
      "[Parallel(n_jobs=-1)]: Using backend LokyBackend with 4 concurrent workers.\n"
     ]
    },
    {
     "name": "stdout",
     "output_type": "stream",
     "text": [
      "Fitting 15 folds for each of 36 candidates, totalling 540 fits\n"
     ]
    },
    {
     "name": "stderr",
     "output_type": "stream",
     "text": [
      "[Parallel(n_jobs=-1)]: Done  42 tasks      | elapsed:    5.7s\n",
      "[Parallel(n_jobs=-1)]: Done 192 tasks      | elapsed:   25.7s\n",
      "[Parallel(n_jobs=-1)]: Done 442 tasks      | elapsed:  1.0min\n",
      "[Parallel(n_jobs=-1)]: Done 540 out of 540 | elapsed:  1.3min finished\n"
     ]
    }
   ],
   "source": [
    "svc = SVC()\n",
    "\n",
    "svc_params={\"C\":[0.1, 1.0, 10, 100,],\n",
    "            \"degree\":[2,3,4],\n",
    "            \"gamma\":['scale',1, 3],\n",
    "            \"probability\":[True]}\n",
    "\n",
    "grid_svc = GridSearchCV(svc, param_grid=svc_params, cv=kfold, scoring='accuracy', n_jobs=-1, verbose=1)\n",
    "\n",
    "grid_svc.fit(X, y)\n",
    "\n",
    "grid_svc_est = grid_svc.best_estimator_\n",
    "\n",
    "grid_svc_score = grid_svc.best_score_"
   ]
  },
  {
   "cell_type": "code",
   "execution_count": 89,
   "metadata": {
    "execution": {
     "iopub.execute_input": "2021-03-06T13:55:24.702889Z",
     "iopub.status.busy": "2021-03-06T13:55:24.702144Z",
     "iopub.status.idle": "2021-03-06T13:55:24.706166Z",
     "shell.execute_reply": "2021-03-06T13:55:24.705368Z"
    },
    "papermill": {
     "duration": 0.133184,
     "end_time": "2021-03-06T13:55:24.706354",
     "exception": false,
     "start_time": "2021-03-06T13:55:24.573170",
     "status": "completed"
    },
    "tags": []
   },
   "outputs": [
    {
     "name": "stdout",
     "output_type": "stream",
     "text": [
      "0.8259322033898306\n"
     ]
    }
   ],
   "source": [
    "print(grid_svc_score)"
   ]
  },
  {
   "cell_type": "markdown",
   "metadata": {
    "papermill": {
     "duration": 0.126033,
     "end_time": "2021-03-06T13:55:25.207994",
     "exception": false,
     "start_time": "2021-03-06T13:55:25.081961",
     "status": "completed"
    },
    "tags": []
   },
   "source": [
    "#### 6. K-Neighbours Classifier"
   ]
  },
  {
   "cell_type": "code",
   "execution_count": 90,
   "metadata": {
    "execution": {
     "iopub.execute_input": "2021-03-06T13:55:25.467117Z",
     "iopub.status.busy": "2021-03-06T13:55:25.466229Z",
     "iopub.status.idle": "2021-03-06T13:55:29.690162Z",
     "shell.execute_reply": "2021-03-06T13:55:29.689618Z"
    },
    "papermill": {
     "duration": 4.356814,
     "end_time": "2021-03-06T13:55:29.690301",
     "exception": false,
     "start_time": "2021-03-06T13:55:25.333487",
     "status": "completed"
    },
    "tags": []
   },
   "outputs": [
    {
     "name": "stdout",
     "output_type": "stream",
     "text": [
      "Fitting 15 folds for each of 48 candidates, totalling 720 fits\n"
     ]
    },
    {
     "name": "stderr",
     "output_type": "stream",
     "text": [
      "[Parallel(n_jobs=-1)]: Using backend LokyBackend with 4 concurrent workers.\n",
      "[Parallel(n_jobs=-1)]: Done 128 tasks      | elapsed:    1.3s\n",
      "[Parallel(n_jobs=-1)]: Done 713 out of 720 | elapsed:    6.3s remaining:    0.0s\n",
      "[Parallel(n_jobs=-1)]: Done 720 out of 720 | elapsed:    6.3s finished\n"
     ]
    }
   ],
   "source": [
    "knn = KNeighborsClassifier()\n",
    "\n",
    "knn_params = {\"n_neighbors\":[3,4,5,6],\n",
    "              \"weights\":['uniform', 'distance'],\n",
    "              \"algorithm\":['auto','kd_tree'],\n",
    "              \"leaf_size\":[25, 30, 35 ]}\n",
    "\n",
    "\n",
    "grid_knn = GridSearchCV(knn, param_grid=knn_params, cv=kfold, scoring='accuracy', n_jobs=-1, verbose=1)\n",
    "\n",
    "grid_knn.fit(X, y)\n",
    "\n",
    "grid_knn_est = grid_knn.best_estimator_\n",
    "\n",
    "grid_knn_score = grid_knn.best_score_\n"
   ]
  },
  {
   "cell_type": "code",
   "execution_count": 91,
   "metadata": {
    "execution": {
     "iopub.execute_input": "2021-03-06T13:55:29.950116Z",
     "iopub.status.busy": "2021-03-06T13:55:29.949405Z",
     "iopub.status.idle": "2021-03-06T13:55:29.953523Z",
     "shell.execute_reply": "2021-03-06T13:55:29.953008Z"
    },
    "papermill": {
     "duration": 0.137076,
     "end_time": "2021-03-06T13:55:29.953675",
     "exception": false,
     "start_time": "2021-03-06T13:55:29.816599",
     "status": "completed"
    },
    "tags": []
   },
   "outputs": [
    {
     "name": "stdout",
     "output_type": "stream",
     "text": [
      "0.8192278719397362\n"
     ]
    }
   ],
   "source": [
    "print(grid_knn_score)"
   ]
  },
  {
   "cell_type": "code",
   "execution_count": 92,
   "metadata": {
    "execution": {
     "iopub.execute_input": "2021-03-06T13:55:30.217095Z",
     "iopub.status.busy": "2021-03-06T13:55:30.216416Z",
     "iopub.status.idle": "2021-03-06T13:55:30.219682Z",
     "shell.execute_reply": "2021-03-06T13:55:30.220146Z"
    },
    "papermill": {
     "duration": 0.14008,
     "end_time": "2021-03-06T13:55:30.220323",
     "exception": false,
     "start_time": "2021-03-06T13:55:30.080243",
     "status": "completed"
    },
    "tags": []
   },
   "outputs": [],
   "source": [
    "def plot_curve(model, title, X, y, cv=None, train_size=np.linspace(0.1, 1.0, 5)):\n",
    "    \"\"\"Function for plotting the training and cross-validation curves for visual examination of the training\"\"\"\n",
    "    plt.figure(figsize=(7,5))\n",
    "    plt.title(title)\n",
    "    plt.xlabel(\"Training Size\")\n",
    "    plt.ylabel(\"Score\")\n",
    "    train_sizes, train_score, test_score = learning_curve(model,X, y,\n",
    "                                                         cv=cv, n_jobs=-1, train_sizes=train_size)\n",
    "    train_scores_mean = np.mean(train_score, axis=1)\n",
    "    train_scores_std = np.std(train_score, axis=1)\n",
    "    test_scores_mean = np.mean(test_score, axis=1)\n",
    "    test_scores_std = np.std(test_score, axis=1)\n",
    "    \n",
    "    plt.fill_between(train_sizes, train_scores_mean - train_scores_std,\n",
    "                     train_scores_mean + train_scores_std, alpha=0.2, color='b')\n",
    "    plt.fill_between(train_sizes, test_scores_mean - test_scores_std,\n",
    "                     test_scores_mean + test_scores_std, alpha=0.2, color='r')\n",
    "    plt.plot(train_sizes, train_scores_mean, 'b-o', label='Training' )\n",
    "    plt.plot(train_sizes, test_scores_mean, 'r-o', label='Cross-validation')\n",
    "    plt.legend(loc='best')\n",
    "    \n",
    "    return plt"
   ]
  },
  {
   "cell_type": "code",
   "execution_count": 93,
   "metadata": {
    "execution": {
     "iopub.execute_input": "2021-03-06T13:55:30.486517Z",
     "iopub.status.busy": "2021-03-06T13:55:30.479856Z",
     "iopub.status.idle": "2021-03-06T13:56:12.776801Z",
     "shell.execute_reply": "2021-03-06T13:56:12.777293Z"
    },
    "papermill": {
     "duration": 42.431025,
     "end_time": "2021-03-06T13:56:12.777497",
     "exception": false,
     "start_time": "2021-03-06T13:55:30.346472",
     "status": "completed"
    },
    "tags": []
   },
   "outputs": [
    {
     "data": {
      "image/png": "[encoded data removed]",
      "text/plain": [
       "<Figure size 504x360 with 1 Axes>"
      ]
     },
     "metadata": {},
     "output_type": "display_data"
    },
    {
     "data": {
      "image/png": "[encoded data removed]",
      "text/plain": [
       "<Figure size 504x360 with 1 Axes>"
      ]
     },
     "metadata": {},
     "output_type": "display_data"
    },
    {
     "data": {
      "image/png": "[encoded data removed]",
      "text/plain": [
       "<Figure size 504x360 with 1 Axes>"
      ]
     },
     "metadata": {},
     "output_type": "display_data"
    },
    {
     "data": {
      "image/png": "[encoded data removed]",
      "text/plain": [
       "<Figure size 504x360 with 1 Axes>"
      ]
     },
     "metadata": {},
     "output_type": "display_data"
    },
    {
     "data": {
      "image/png": "[encoded data removed]",
      "text/plain": [
       "<Figure size 504x360 with 1 Axes>"
      ]
     },
     "metadata": {},
     "output_type": "display_data"
    },
    {
     "data": {
      "image/png": "[encoded data removed]",
      "text/plain": [
       "<Figure size 504x360 with 1 Axes>"
      ]
     },
     "metadata": {},
     "output_type": "display_data"
    }
   ],
   "source": [
    "plot_curve(grid_GradBoost_est, \"Gradient Boosting\", X, y, cv=kfold );\n",
    "plot_curve(grid_rfc_est, \"Random Forest\", X, y, cv=kfold );\n",
    "plot_curve(grid_mlp_est, \"MLP Classifier\", X, y, cv=kfold );\n",
    "plot_curve(grid_logreg_est, \"Logistic Regression\", X, y, cv=kfold );\n",
    "plot_curve(grid_svc_est, \"Support Vector Machine\", X, y, cv=kfold );\n",
    "plot_curve(grid_knn_est, \"K-Neighbours\", X, y, cv=kfold );"
   ]
  },
  {
   "cell_type": "markdown",
   "metadata": {
    "papermill": {
     "duration": 0.134054,
     "end_time": "2021-03-06T13:56:13.046538",
     "exception": false,
     "start_time": "2021-03-06T13:56:12.912484",
     "status": "completed"
    },
    "tags": []
   },
   "source": [
    "Out of all the 5 algorithms, K-Neighbors seems to be overfit and Logistic Regression and Support Vector Machines seemsto underfit while the rest of the models seem to do fine."
   ]
  },
  {
   "cell_type": "markdown",
   "metadata": {
    "papermill": {
     "duration": 0.1332,
     "end_time": "2021-03-06T13:56:13.313086",
     "exception": false,
     "start_time": "2021-03-06T13:56:13.179886",
     "status": "completed"
    },
    "tags": []
   },
   "source": [
    "#### Prediction"
   ]
  },
  {
   "cell_type": "code",
   "execution_count": 94,
   "metadata": {
    "execution": {
     "iopub.execute_input": "2021-03-06T13:56:13.584581Z",
     "iopub.status.busy": "2021-03-06T13:56:13.583935Z",
     "iopub.status.idle": "2021-03-06T13:56:13.789787Z",
     "shell.execute_reply": "2021-03-06T13:56:13.790325Z"
    },
    "papermill": {
     "duration": 0.342949,
     "end_time": "2021-03-06T13:56:13.790548",
     "exception": false,
     "start_time": "2021-03-06T13:56:13.447599",
     "status": "completed"
    },
    "tags": []
   },
   "outputs": [],
   "source": [
    "predict_gradBoost = pd.Series(grid_GradBoost_est.predict(test), name=\"Grad_B\")\n",
    "predict_rfc = pd.Series(grid_rfc_est.predict(test), name=\"RFC\")\n",
    "predict_mlp = pd.Series(grid_mlp_est.predict(test), name=\"MLP\")\n",
    "predict_logreg = pd.Series(grid_logreg_est.predict(test), name=\"LogReg\")\n",
    "predict_svc = pd.Series(grid_svc_est.predict(test), name=\"SVC\")\n",
    "predict_knn = pd.Series(grid_knn_est.predict(test), name=\"KNN\")"
   ]
  },
  {
   "cell_type": "code",
   "execution_count": 95,
   "metadata": {
    "execution": {
     "iopub.execute_input": "2021-03-06T13:56:14.069889Z",
     "iopub.status.busy": "2021-03-06T13:56:14.064960Z",
     "iopub.status.idle": "2021-03-06T13:56:14.465774Z",
     "shell.execute_reply": "2021-03-06T13:56:14.466234Z"
    },
    "papermill": {
     "duration": 0.540194,
     "end_time": "2021-03-06T13:56:14.466413",
     "exception": false,
     "start_time": "2021-03-06T13:56:13.926219",
     "status": "completed"
    },
    "tags": []
   },
   "outputs": [
    {
     "data": {
      "image/png": "[encoded data removed]",
      "text/plain": [
       "<Figure size 432x288 with 2 Axes>"
      ]
     },
     "metadata": {},
     "output_type": "display_data"
    }
   ],
   "source": [
    "predicted_combined = pd.concat([predict_gradBoost,\n",
    "                                predict_rfc, \n",
    "                                predict_mlp, \n",
    "                                predict_logreg,\n",
    "                                predict_svc,\n",
    "                                predict_knn], axis=1)\n",
    "\n",
    "sns.heatmap(predicted_combined.corr(), annot=True, cmap='RdBu');"
   ]
  },
  {
   "cell_type": "markdown",
   "metadata": {
    "papermill": {
     "duration": 0.134925,
     "end_time": "2021-03-06T13:56:14.736126",
     "exception": false,
     "start_time": "2021-03-06T13:56:14.601201",
     "status": "completed"
    },
    "tags": []
   },
   "source": [
    "## Ensemble"
   ]
  },
  {
   "cell_type": "code",
   "execution_count": 96,
   "metadata": {
    "execution": {
     "iopub.execute_input": "2021-03-06T13:56:15.017050Z",
     "iopub.status.busy": "2021-03-06T13:56:15.016351Z",
     "iopub.status.idle": "2021-03-06T13:56:15.996094Z",
     "shell.execute_reply": "2021-03-06T13:56:15.995426Z"
    },
    "papermill": {
     "duration": 1.124707,
     "end_time": "2021-03-06T13:56:15.996239",
     "exception": false,
     "start_time": "2021-03-06T13:56:14.871532",
     "status": "completed"
    },
    "tags": []
   },
   "outputs": [
    {
     "data": {
      "text/plain": [
       "VotingClassifier(estimators=[('Grad_Boost',\n",
       "                              GradientBoostingClassifier(learning_rate=0.01,\n",
       "                                                         loss='exponential',\n",
       "                                                         max_depth=5,\n",
       "                                                         n_estimators=1000,\n",
       "                                                         subsample=0.75)),\n",
       "                             ('LogReg',\n",
       "                              LogisticRegression(fit_intercept=False)),\n",
       "                             ('KNN',\n",
       "                              KNeighborsClassifier(leaf_size=25, n_neighbors=6,\n",
       "                                                   weights='distance'))],\n",
       "                 voting='soft')"
      ]
     },
     "execution_count": 96,
     "metadata": {},
     "output_type": "execute_result"
    }
   ],
   "source": [
    "voting = VotingClassifier([(\"Grad_Boost\", grid_GradBoost_est),\n",
    "                           (\"LogReg\", grid_logreg_est),\n",
    "                           (\"KNN\", grid_knn_est)],\n",
    "                           voting='soft')\n",
    "\n",
    "voting.fit(X, y)"
   ]
  },
  {
   "cell_type": "markdown",
   "metadata": {
    "papermill": {
     "duration": 0.136105,
     "end_time": "2021-03-06T13:56:16.269964",
     "exception": false,
     "start_time": "2021-03-06T13:56:16.133859",
     "status": "completed"
    },
    "tags": []
   },
   "source": [
    "## Prediction "
   ]
  },
  {
   "cell_type": "code",
   "execution_count": 98,
   "metadata": {
    "execution": {
     "iopub.execute_input": "2021-03-06T13:56:16.551192Z",
     "iopub.status.busy": "2021-03-06T13:56:16.550223Z",
     "iopub.status.idle": "2021-03-06T13:56:16.591514Z",
     "shell.execute_reply": "2021-03-06T13:56:16.590790Z"
    },
    "papermill": {
     "duration": 0.185863,
     "end_time": "2021-03-06T13:56:16.591663",
     "exception": false,
     "start_time": "2021-03-06T13:56:16.405800",
     "status": "completed"
    },
    "tags": []
   },
   "outputs": [],
   "source": [
    "final_pred = pd.Series(voting.predict(test), name=\"Survived\")\n",
    "\n",
    "\n",
    "test_ = pd.read_csv(\"test.csv\")\n",
    "submission = pd.concat([test_['PassengerId'], final_pred.astype(int)], axis=1)"
   ]
  },
  {
   "cell_type": "code",
   "execution_count": 99,
   "metadata": {
    "execution": {
     "iopub.execute_input": "2021-03-06T13:56:16.873845Z",
     "iopub.status.busy": "2021-03-06T13:56:16.873106Z",
     "iopub.status.idle": "2021-03-06T13:56:16.877971Z",
     "shell.execute_reply": "2021-03-06T13:56:16.878418Z"
    },
    "papermill": {
     "duration": 0.150622,
     "end_time": "2021-03-06T13:56:16.878630",
     "exception": false,
     "start_time": "2021-03-06T13:56:16.728008",
     "status": "completed"
    },
    "tags": []
   },
   "outputs": [
    {
     "data": {
      "text/html": [
       "<div>\n",
       "<style scoped>\n",
       "    .dataframe tbody tr th:only-of-type {\n",
       "        vertical-align: middle;\n",
       "    }\n",
       "\n",
       "    .dataframe tbody tr th {\n",
       "        vertical-align: top;\n",
       "    }\n",
       "\n",
       "    .dataframe thead th {\n",
       "        text-align: right;\n",
       "    }\n",
       "</style>\n",
       "<table border=\"1\" class=\"dataframe\">\n",
       "  <thead>\n",
       "    <tr style=\"text-align: right;\">\n",
       "      <th></th>\n",
       "      <th>PassengerId</th>\n",
       "      <th>Survived</th>\n",
       "    </tr>\n",
       "  </thead>\n",
       "  <tbody>\n",
       "    <tr>\n",
       "      <th>0</th>\n",
       "      <td>892</td>\n",
       "      <td>0</td>\n",
       "    </tr>\n",
       "    <tr>\n",
       "      <th>1</th>\n",
       "      <td>893</td>\n",
       "      <td>0</td>\n",
       "    </tr>\n",
       "    <tr>\n",
       "      <th>2</th>\n",
       "      <td>894</td>\n",
       "      <td>0</td>\n",
       "    </tr>\n",
       "    <tr>\n",
       "      <th>3</th>\n",
       "      <td>895</td>\n",
       "      <td>0</td>\n",
       "    </tr>\n",
       "    <tr>\n",
       "      <th>4</th>\n",
       "      <td>896</td>\n",
       "      <td>0</td>\n",
       "    </tr>\n",
       "  </tbody>\n",
       "</table>\n",
       "</div>"
      ],
      "text/plain": [
       "   PassengerId  Survived\n",
       "0          892         0\n",
       "1          893         0\n",
       "2          894         0\n",
       "3          895         0\n",
       "4          896         0"
      ]
     },
     "execution_count": 99,
     "metadata": {},
     "output_type": "execute_result"
    }
   ],
   "source": [
    "submission.head()"
   ]
  },
  {
   "cell_type": "code",
   "execution_count": 100,
   "metadata": {
    "execution": {
     "iopub.execute_input": "2021-03-06T13:56:17.156981Z",
     "iopub.status.busy": "2021-03-06T13:56:17.156316Z",
     "iopub.status.idle": "2021-03-06T13:56:17.163566Z",
     "shell.execute_reply": "2021-03-06T13:56:17.162911Z"
    },
    "papermill": {
     "duration": 0.148581,
     "end_time": "2021-03-06T13:56:17.163706",
     "exception": false,
     "start_time": "2021-03-06T13:56:17.015125",
     "status": "completed"
    },
    "tags": []
   },
   "outputs": [],
   "source": [
    "submission.to_csv(\"Ensemble_voting.csv\", index=False)"
   ]
  },
  {
   "cell_type": "code",
   "execution_count": null,
   "metadata": {
    "papermill": {
     "duration": 0.136949,
     "end_time": "2021-03-06T13:56:17.437425",
     "exception": false,
     "start_time": "2021-03-06T13:56:17.300476",
     "status": "completed"
    },
    "tags": []
   },
   "outputs": [],
   "source": []
  }
 ],
 "metadata": {
  "kernelspec": {
   "display_name": "Python 3",
   "language": "python",
   "name": "python3"
  },
  "language_info": {
   "codemirror_mode": {
    "name": "ipython",
    "version": 3
   },
   "file_extension": ".py",
   "mimetype": "text/x-python",
   "name": "python",
   "nbconvert_exporter": "python",
   "pygments_lexer": "ipython3",
   "version": "3.7.6"
  },
  "papermill": {
   "default_parameters": {},
   "duration": 1919.811908,
   "end_time": "2021-03-06T13:56:18.530818",
   "environment_variables": {},
   "exception": null,
   "input_path": "__notebook__.ipynb",
   "output_path": "__notebook__.ipynb",
   "parameters": {},
   "start_time": "2021-03-06T13:24:18.718910",
   "version": "2.2.2"
  }
 },
 "nbformat": 4,
 "nbformat_minor": 4
}
